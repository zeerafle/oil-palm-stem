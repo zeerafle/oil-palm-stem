{
 "cells": [
  {
   "cell_type": "markdown",
   "source": [
    "# Oil Palm Disease Detection"
   ],
   "metadata": {
    "collapsed": false
   }
  },
  {
   "cell_type": "markdown",
   "source": [
    "## Data Acquisition\n",
    "\n",
    "Data collected from kaggle private dataset. The data was manually selected to 1000 out of a total of about 3000 images each class. Follow these steps:\n",
    "\n",
    "0. Download the dataset and extract it.\n",
    "1. Create `data` folder and put the extracted folder in here. `data` folder should now have 1 folder named `selected_dataset` inside.\n",
    "2. Follow the code."
   ],
   "metadata": {
    "collapsed": false
   }
  },
  {
   "cell_type": "code",
   "execution_count": null,
   "outputs": [],
   "source": [
    "import os\n",
    "import shutil\n",
    "\n",
    "SELECTED_DATA = os.path.join('data', 'selected_dataset')\n",
    "ORIGINAL_DATA = os.path.join('data', 'cleaned_dataset')"
   ],
   "metadata": {
    "collapsed": false
   }
  },
  {
   "cell_type": "code",
   "execution_count": null,
   "outputs": [],
   "source": [
    "def copy_selected(label: str) -> None:\n",
    "    with open(f'selected_data_{label}.txt', 'r') as f:\n",
    "        selected_list = [x.strip() for x in f.readlines()]\n",
    "    for image_file in selected_list:\n",
    "        src = os.path.join(ORIGINAL_DATA, label, image_file)\n",
    "        dst = os.path.join(SELECTED_DATA, label, image_file)\n",
    "        shutil.copyfile(src, dst)\n",
    "\n",
    "copy_selected('normal')\n",
    "copy_selected('infected')"
   ],
   "metadata": {
    "collapsed": false
   }
  },
  {
   "cell_type": "markdown",
   "source": [
    "## Preprocessing Image\n",
    "\n",
    "Preprocessing image consist of image enhancing using histogram equalization and noise removal using bilateral smoothing filter."
   ],
   "metadata": {
    "collapsed": false
   }
  },
  {
   "cell_type": "code",
   "execution_count": 2,
   "outputs": [],
   "source": [
    "import cv2\n",
    "import numpy as np"
   ],
   "metadata": {
    "collapsed": false,
    "ExecuteTime": {
     "end_time": "2023-06-30T11:23:07.309864100Z",
     "start_time": "2023-06-30T11:23:07.099308900Z"
    }
   }
  },
  {
   "cell_type": "code",
   "execution_count": 2,
   "outputs": [],
   "source": [
    "def enhance(image: [str, np.ndarray]) -> np.ndarray:\n",
    "    \"\"\"\n",
    "    Enhance image by using adaptive histogram equalization\n",
    "    :param image: [str, np.ndarray], path to image file or image array in numpy array\n",
    "    :return: np.ndarray, numpy array of enhance image\n",
    "    \"\"\"\n",
    "    if type(image) is str:\n",
    "        image = cv2.imread(image)\n",
    "    # convert from BGR to YCrCb\n",
    "    ycrcb = cv2.cvtColor(image, cv2.COLOR_BGR2YCR_CB)\n",
    "    # create clahe object\n",
    "    clahe = cv2.createCLAHE(clipLimit=2.0, tileGridSize=(8, 8))\n",
    "    # equalize the histogram of the Y channel\n",
    "    ycrcb[:, :, 0] = clahe.apply(ycrcb[:, :, 0])\n",
    "    # convert the YCR_CB image back to RGB format\n",
    "    equalized_image = cv2.cvtColor(ycrcb, cv2.COLOR_YCR_CB2BGR)\n",
    "    return equalized_image\n"
   ],
   "metadata": {
    "collapsed": false,
    "ExecuteTime": {
     "end_time": "2023-06-30T11:07:22.610789300Z",
     "start_time": "2023-06-30T11:07:22.585792800Z"
    }
   }
  },
  {
   "cell_type": "code",
   "execution_count": 6,
   "outputs": [
    {
     "data": {
      "text/plain": "True"
     },
     "execution_count": 6,
     "metadata": {},
     "output_type": "execute_result"
    }
   ],
   "source": [
    "cv2.imwrite('data/samples/equalized_img.jpg', enhance('data/selected_dataset/normal/DSC03977_4.JPG'))\n",
    "# cv2.waitKey(0)"
   ],
   "metadata": {
    "collapsed": false,
    "ExecuteTime": {
     "end_time": "2023-06-30T09:38:49.019306Z",
     "start_time": "2023-06-30T09:38:48.983407600Z"
    }
   }
  },
  {
   "cell_type": "code",
   "execution_count": 3,
   "outputs": [],
   "source": [
    "def remove_noise(image: [str, np.ndarray]) -> np.ndarray:\n",
    "    \"\"\"\n",
    "    Remove noise from image using bilateral filter\n",
    "    :param image: [str, np.ndarray], path to image file or image array in numpy array\n",
    "    :return: np.ndarray, numpy array of image with removed noise\n",
    "    \"\"\"\n",
    "    if type(image) is str:\n",
    "        image = cv2.imread(image)\n",
    "    # apply bilateral filter with d = 15, sigmaColor = sigmaSpace = 75.\n",
    "    bilateral_filtered_image = cv2.bilateralFilter(image, 15, 75, 75)\n",
    "    return bilateral_filtered_image"
   ],
   "metadata": {
    "collapsed": false,
    "ExecuteTime": {
     "end_time": "2023-06-30T11:23:09.234570400Z",
     "start_time": "2023-06-30T11:23:09.218572600Z"
    }
   }
  },
  {
   "cell_type": "code",
   "execution_count": 5,
   "outputs": [
    {
     "data": {
      "text/plain": "True"
     },
     "execution_count": 5,
     "metadata": {},
     "output_type": "execute_result"
    }
   ],
   "source": [
    "cv2.imwrite('data/samples/noise_removed.jpg', remove_noise('data/selected_dataset/infected/DSC04002_6.JPG'))\n",
    "# cv2.waitKey(0)\n",
    "# print(remove_noise('data/selected_dataset/normal/DSC03977_4.JPG'))"
   ],
   "metadata": {
    "collapsed": false,
    "ExecuteTime": {
     "end_time": "2023-06-30T11:24:28.064401800Z",
     "start_time": "2023-06-30T11:24:27.950404700Z"
    }
   }
  }
 ],
 "metadata": {
  "kernelspec": {
   "display_name": "Python 3",
   "language": "python",
   "name": "python3"
  },
  "language_info": {
   "codemirror_mode": {
    "name": "ipython",
    "version": 2
   },
   "file_extension": ".py",
   "mimetype": "text/x-python",
   "name": "python",
   "nbconvert_exporter": "python",
   "pygments_lexer": "ipython2",
   "version": "2.7.6"
  }
 },
 "nbformat": 4,
 "nbformat_minor": 0
}
