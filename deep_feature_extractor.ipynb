{
 "cells": [
  {
   "cell_type": "code",
   "execution_count": 27,
   "metadata": {
    "collapsed": true,
    "ExecuteTime": {
     "end_time": "2023-07-13T13:10:38.525913500Z",
     "start_time": "2023-07-13T13:10:38.525913500Z"
    }
   },
   "outputs": [],
   "source": [
    "import numpy as np\n",
    "from tensorflow.keras.applications import ResNet50\n",
    "from tensorflow.keras.applications.resnet50 import preprocess_input\n",
    "from tensorflow.keras.preprocessing.image import img_to_array\n",
    "from tensorflow.keras.preprocessing.image import load_img\n",
    "from tensorflow.keras.preprocessing.image import ImageDataGenerator\n",
    "import os\n",
    "import pandas as pd"
   ]
  },
  {
   "cell_type": "code",
   "execution_count": 6,
   "outputs": [],
   "source": [
    "SELECTED_DATA = os.path.join('data', 'selected_dataset')\n",
    "ORIGINAL_DATA = os.path.join('data', 'cleaned_dataset')\n",
    "PROCESSED_DATASET = os.path.join('data', 'processed_dataset')\n",
    "SAMPLE_IMAGE = 'data/selected_dataset/normal/DSC03990_5.JPG'"
   ],
   "metadata": {
    "collapsed": false,
    "ExecuteTime": {
     "end_time": "2023-07-13T12:07:56.879728400Z",
     "start_time": "2023-07-13T12:07:56.864096700Z"
    }
   }
  },
  {
   "cell_type": "code",
   "execution_count": 10,
   "outputs": [
    {
     "name": "stdout",
     "output_type": "stream",
     "text": [
      "Downloading data from https://storage.googleapis.com/tensorflow/keras-applications/resnet/resnet50_weights_tf_dim_ordering_tf_kernels_notop.h5\n",
      "94765736/94765736 [==============================] - 41s 0us/step\n"
     ]
    }
   ],
   "source": [
    "model = ResNet50(weights='imagenet', include_top=False)"
   ],
   "metadata": {
    "collapsed": false,
    "ExecuteTime": {
     "end_time": "2023-07-13T12:11:24.892696600Z",
     "start_time": "2023-07-13T12:10:42.494802Z"
    }
   }
  },
  {
   "cell_type": "code",
   "execution_count": 59,
   "outputs": [],
   "source": [
    "def extract_and_export(image_path, export_name):\n",
    "    batch_images = []\n",
    "    label = []\n",
    "    class_map = {'normal': 0, 'infected': 1}\n",
    "    for image_class in os.listdir(image_path):\n",
    "        class_path = os.path.join(image_path, image_class)\n",
    "        for image_file in os.listdir(class_path):\n",
    "            image = load_img(os.path.join(class_path, image_file), target_size=(150, 150))\n",
    "            image = img_to_array(image)\n",
    "            image = preprocess_input(image)\n",
    "            batch_images.append(image)\n",
    "            label.append(class_map[image_class])\n",
    "\n",
    "    batch_images = np.array(batch_images)\n",
    "    features = model.predict(batch_images)\n",
    "    features = features.reshape((-1, 5*5*2048))\n",
    "\n",
    "    features_df = pd.DataFrame(features,\n",
    "                               columns=[f'resnet_{x+1}' for x in range(features.shape[-1])])\n",
    "    features_df['is_infected'] = label\n",
    "    features_df.to_csv(os.path.join('data', export_name+'.csv'), index=False)\n",
    "    # features_df.to_excel(os.path.join('data', 'excel', export_name+'.xlsx'), index=False)\n",
    "    return features_df"
   ],
   "metadata": {
    "collapsed": false,
    "ExecuteTime": {
     "end_time": "2023-07-13T13:43:32.435157300Z",
     "start_time": "2023-07-13T13:43:32.419527600Z"
    }
   }
  },
  {
   "cell_type": "code",
   "execution_count": 58,
   "outputs": [
    {
     "name": "stdout",
     "output_type": "stream",
     "text": [
      "63/63 [==============================] - 52s 804ms/step\n"
     ]
    },
    {
     "ename": "ValueError",
     "evalue": "This sheet is too large! Your sheet size is: 2000, 51201 Max sheet size is: 1048576, 16384",
     "output_type": "error",
     "traceback": [
      "\u001B[1;31m---------------------------------------------------------------------------\u001B[0m",
      "\u001B[1;31mValueError\u001B[0m                                Traceback (most recent call last)",
      "Cell \u001B[1;32mIn[58], line 1\u001B[0m\n\u001B[1;32m----> 1\u001B[0m orig_df \u001B[38;5;241m=\u001B[39m \u001B[43mextract_and_export\u001B[49m\u001B[43m(\u001B[49m\u001B[43mSELECTED_DATA\u001B[49m\u001B[43m,\u001B[49m\u001B[43m \u001B[49m\u001B[38;5;124;43m'\u001B[39;49m\u001B[38;5;124;43morig_img_feature\u001B[39;49m\u001B[38;5;124;43m'\u001B[39;49m\u001B[43m)\u001B[49m\n",
      "Cell \u001B[1;32mIn[57], line 22\u001B[0m, in \u001B[0;36mextract_and_export\u001B[1;34m(image_path, export_name)\u001B[0m\n\u001B[0;32m     20\u001B[0m features_df[\u001B[38;5;124m'\u001B[39m\u001B[38;5;124mis_infected\u001B[39m\u001B[38;5;124m'\u001B[39m] \u001B[38;5;241m=\u001B[39m label\n\u001B[0;32m     21\u001B[0m features_df\u001B[38;5;241m.\u001B[39mto_csv(os\u001B[38;5;241m.\u001B[39mpath\u001B[38;5;241m.\u001B[39mjoin(\u001B[38;5;124m'\u001B[39m\u001B[38;5;124mdata\u001B[39m\u001B[38;5;124m'\u001B[39m, export_name\u001B[38;5;241m+\u001B[39m\u001B[38;5;124m'\u001B[39m\u001B[38;5;124m.csv\u001B[39m\u001B[38;5;124m'\u001B[39m), index\u001B[38;5;241m=\u001B[39m\u001B[38;5;28;01mFalse\u001B[39;00m)\n\u001B[1;32m---> 22\u001B[0m \u001B[43mfeatures_df\u001B[49m\u001B[38;5;241;43m.\u001B[39;49m\u001B[43mto_excel\u001B[49m\u001B[43m(\u001B[49m\u001B[43mos\u001B[49m\u001B[38;5;241;43m.\u001B[39;49m\u001B[43mpath\u001B[49m\u001B[38;5;241;43m.\u001B[39;49m\u001B[43mjoin\u001B[49m\u001B[43m(\u001B[49m\u001B[38;5;124;43m'\u001B[39;49m\u001B[38;5;124;43mdata\u001B[39;49m\u001B[38;5;124;43m'\u001B[39;49m\u001B[43m,\u001B[49m\u001B[43m \u001B[49m\u001B[38;5;124;43m'\u001B[39;49m\u001B[38;5;124;43mexcel\u001B[39;49m\u001B[38;5;124;43m'\u001B[39;49m\u001B[43m,\u001B[49m\u001B[43m \u001B[49m\u001B[43mexport_name\u001B[49m\u001B[38;5;241;43m+\u001B[39;49m\u001B[38;5;124;43m'\u001B[39;49m\u001B[38;5;124;43m.xlsx\u001B[39;49m\u001B[38;5;124;43m'\u001B[39;49m\u001B[43m)\u001B[49m\u001B[43m,\u001B[49m\u001B[43m \u001B[49m\u001B[43mindex\u001B[49m\u001B[38;5;241;43m=\u001B[39;49m\u001B[38;5;28;43;01mFalse\u001B[39;49;00m\u001B[43m)\u001B[49m\n\u001B[0;32m     23\u001B[0m \u001B[38;5;28;01mreturn\u001B[39;00m features_df\n",
      "File \u001B[1;32mD:\\Projects\\oil-palm-stem\\venv\\lib\\site-packages\\pandas\\core\\generic.py:2252\u001B[0m, in \u001B[0;36mNDFrame.to_excel\u001B[1;34m(self, excel_writer, sheet_name, na_rep, float_format, columns, header, index, index_label, startrow, startcol, engine, merge_cells, inf_rep, freeze_panes, storage_options)\u001B[0m\n\u001B[0;32m   2239\u001B[0m \u001B[38;5;28;01mfrom\u001B[39;00m \u001B[38;5;21;01mpandas\u001B[39;00m\u001B[38;5;21;01m.\u001B[39;00m\u001B[38;5;21;01mio\u001B[39;00m\u001B[38;5;21;01m.\u001B[39;00m\u001B[38;5;21;01mformats\u001B[39;00m\u001B[38;5;21;01m.\u001B[39;00m\u001B[38;5;21;01mexcel\u001B[39;00m \u001B[38;5;28;01mimport\u001B[39;00m ExcelFormatter\n\u001B[0;32m   2241\u001B[0m formatter \u001B[38;5;241m=\u001B[39m ExcelFormatter(\n\u001B[0;32m   2242\u001B[0m     df,\n\u001B[0;32m   2243\u001B[0m     na_rep\u001B[38;5;241m=\u001B[39mna_rep,\n\u001B[1;32m   (...)\u001B[0m\n\u001B[0;32m   2250\u001B[0m     inf_rep\u001B[38;5;241m=\u001B[39minf_rep,\n\u001B[0;32m   2251\u001B[0m )\n\u001B[1;32m-> 2252\u001B[0m \u001B[43mformatter\u001B[49m\u001B[38;5;241;43m.\u001B[39;49m\u001B[43mwrite\u001B[49m\u001B[43m(\u001B[49m\n\u001B[0;32m   2253\u001B[0m \u001B[43m    \u001B[49m\u001B[43mexcel_writer\u001B[49m\u001B[43m,\u001B[49m\n\u001B[0;32m   2254\u001B[0m \u001B[43m    \u001B[49m\u001B[43msheet_name\u001B[49m\u001B[38;5;241;43m=\u001B[39;49m\u001B[43msheet_name\u001B[49m\u001B[43m,\u001B[49m\n\u001B[0;32m   2255\u001B[0m \u001B[43m    \u001B[49m\u001B[43mstartrow\u001B[49m\u001B[38;5;241;43m=\u001B[39;49m\u001B[43mstartrow\u001B[49m\u001B[43m,\u001B[49m\n\u001B[0;32m   2256\u001B[0m \u001B[43m    \u001B[49m\u001B[43mstartcol\u001B[49m\u001B[38;5;241;43m=\u001B[39;49m\u001B[43mstartcol\u001B[49m\u001B[43m,\u001B[49m\n\u001B[0;32m   2257\u001B[0m \u001B[43m    \u001B[49m\u001B[43mfreeze_panes\u001B[49m\u001B[38;5;241;43m=\u001B[39;49m\u001B[43mfreeze_panes\u001B[49m\u001B[43m,\u001B[49m\n\u001B[0;32m   2258\u001B[0m \u001B[43m    \u001B[49m\u001B[43mengine\u001B[49m\u001B[38;5;241;43m=\u001B[39;49m\u001B[43mengine\u001B[49m\u001B[43m,\u001B[49m\n\u001B[0;32m   2259\u001B[0m \u001B[43m    \u001B[49m\u001B[43mstorage_options\u001B[49m\u001B[38;5;241;43m=\u001B[39;49m\u001B[43mstorage_options\u001B[49m\u001B[43m,\u001B[49m\n\u001B[0;32m   2260\u001B[0m \u001B[43m\u001B[49m\u001B[43m)\u001B[49m\n",
      "File \u001B[1;32mD:\\Projects\\oil-palm-stem\\venv\\lib\\site-packages\\pandas\\io\\formats\\excel.py:923\u001B[0m, in \u001B[0;36mExcelFormatter.write\u001B[1;34m(self, writer, sheet_name, startrow, startcol, freeze_panes, engine, storage_options)\u001B[0m\n\u001B[0;32m    921\u001B[0m num_rows, num_cols \u001B[38;5;241m=\u001B[39m \u001B[38;5;28mself\u001B[39m\u001B[38;5;241m.\u001B[39mdf\u001B[38;5;241m.\u001B[39mshape\n\u001B[0;32m    922\u001B[0m \u001B[38;5;28;01mif\u001B[39;00m num_rows \u001B[38;5;241m>\u001B[39m \u001B[38;5;28mself\u001B[39m\u001B[38;5;241m.\u001B[39mmax_rows \u001B[38;5;129;01mor\u001B[39;00m num_cols \u001B[38;5;241m>\u001B[39m \u001B[38;5;28mself\u001B[39m\u001B[38;5;241m.\u001B[39mmax_cols:\n\u001B[1;32m--> 923\u001B[0m     \u001B[38;5;28;01mraise\u001B[39;00m \u001B[38;5;167;01mValueError\u001B[39;00m(\n\u001B[0;32m    924\u001B[0m         \u001B[38;5;124mf\u001B[39m\u001B[38;5;124m\"\u001B[39m\u001B[38;5;124mThis sheet is too large! Your sheet size is: \u001B[39m\u001B[38;5;132;01m{\u001B[39;00mnum_rows\u001B[38;5;132;01m}\u001B[39;00m\u001B[38;5;124m, \u001B[39m\u001B[38;5;132;01m{\u001B[39;00mnum_cols\u001B[38;5;132;01m}\u001B[39;00m\u001B[38;5;124m \u001B[39m\u001B[38;5;124m\"\u001B[39m\n\u001B[0;32m    925\u001B[0m         \u001B[38;5;124mf\u001B[39m\u001B[38;5;124m\"\u001B[39m\u001B[38;5;124mMax sheet size is: \u001B[39m\u001B[38;5;132;01m{\u001B[39;00m\u001B[38;5;28mself\u001B[39m\u001B[38;5;241m.\u001B[39mmax_rows\u001B[38;5;132;01m}\u001B[39;00m\u001B[38;5;124m, \u001B[39m\u001B[38;5;132;01m{\u001B[39;00m\u001B[38;5;28mself\u001B[39m\u001B[38;5;241m.\u001B[39mmax_cols\u001B[38;5;132;01m}\u001B[39;00m\u001B[38;5;124m\"\u001B[39m\n\u001B[0;32m    926\u001B[0m     )\n\u001B[0;32m    928\u001B[0m formatted_cells \u001B[38;5;241m=\u001B[39m \u001B[38;5;28mself\u001B[39m\u001B[38;5;241m.\u001B[39mget_formatted_cells()\n\u001B[0;32m    929\u001B[0m \u001B[38;5;28;01mif\u001B[39;00m \u001B[38;5;28misinstance\u001B[39m(writer, ExcelWriter):\n",
      "\u001B[1;31mValueError\u001B[0m: This sheet is too large! Your sheet size is: 2000, 51201 Max sheet size is: 1048576, 16384"
     ]
    }
   ],
   "source": [
    "orig_df = extract_and_export(SELECTED_DATA, 'orig_img_feature')"
   ],
   "metadata": {
    "collapsed": false,
    "ExecuteTime": {
     "end_time": "2023-07-13T13:42:25.790657500Z",
     "start_time": "2023-07-13T13:37:04.757445700Z"
    }
   }
  },
  {
   "cell_type": "code",
   "execution_count": 60,
   "outputs": [
    {
     "name": "stdout",
     "output_type": "stream",
     "text": [
      "63/63 [==============================] - 51s 808ms/step\n"
     ]
    }
   ],
   "source": [
    "proc_df = extract_and_export(PROCESSED_DATASET, 'processed_img_feature')"
   ],
   "metadata": {
    "collapsed": false,
    "ExecuteTime": {
     "end_time": "2023-07-13T13:48:51.447109100Z",
     "start_time": "2023-07-13T13:43:34.523363900Z"
    }
   }
  },
  {
   "cell_type": "code",
   "execution_count": 61,
   "outputs": [
    {
     "data": {
      "text/plain": "      resnet_1  resnet_2  resnet_3  resnet_4  resnet_5  resnet_6  resnet_7  \\\n0     0.000000       0.0  0.000000  0.000000       0.0  0.000000  0.000000   \n1     0.000000       0.0  0.000000  0.000000       0.0  0.000000  0.000000   \n2     0.604842       0.0  0.916294  0.900313       0.0  0.205639  0.966447   \n3     0.000000       0.0  0.000000  0.000000       0.0  0.000000  0.000000   \n4     0.000000       0.0  0.000000  0.000000       0.0  0.000000  0.000000   \n...        ...       ...       ...       ...       ...       ...       ...   \n1995  0.000000       0.0  0.000000  0.000000       0.0  0.000000  0.000000   \n1996  0.000000       0.0  0.051989  0.761638       0.0  0.000000  0.000000   \n1997  0.000000       0.0  0.000000  0.000000       0.0  0.000000  0.000000   \n1998  0.000000       0.0  0.000000  0.000000       0.0  0.000000  0.000000   \n1999  0.000000       0.0  0.000000  0.000000       0.0  0.000000  0.000000   \n\n      resnet_8  resnet_9  resnet_10  ...  resnet_51191  resnet_51192  \\\n0          0.0  0.000000   0.000000  ...           0.0           0.0   \n1          0.0  0.000000   0.000000  ...           0.0           0.0   \n2          0.0  0.000000   0.425253  ...           0.0           0.0   \n3          0.0  0.000000   0.000000  ...           0.0           0.0   \n4          0.0  0.000000   0.000000  ...           0.0           0.0   \n...        ...       ...        ...  ...           ...           ...   \n1995       0.0  0.000000   0.000000  ...           0.0           0.0   \n1996       0.0  0.000000   0.000000  ...           0.0           0.0   \n1997       0.0  3.585832   0.073563  ...           0.0           0.0   \n1998       0.0  0.000000   0.000000  ...           0.0           0.0   \n1999       0.0  0.000000   0.000000  ...           0.0           0.0   \n\n      resnet_51193  resnet_51194  resnet_51195  resnet_51196  resnet_51197  \\\n0              0.0           0.0           0.0      0.886713           0.0   \n1              0.0           0.0           0.0      0.000000           0.0   \n2              0.0           0.0           0.0      0.000000           0.0   \n3              0.0           0.0           0.0      0.000000           0.0   \n4              0.0           0.0           0.0      0.000000           0.0   \n...            ...           ...           ...           ...           ...   \n1995           0.0           0.0           0.0      0.000000           0.0   \n1996           0.0           0.0           0.0      0.000000           0.0   \n1997           0.0           0.0           0.0      0.000000           0.0   \n1998           0.0           0.0           0.0      0.000000           0.0   \n1999           0.0           0.0           0.0      0.000000           0.0   \n\n      resnet_51198  resnet_51199  resnet_51200  \n0         0.000000      0.000000           0.0  \n1         1.846535      0.069445           0.0  \n2         0.000000      0.000000           0.0  \n3         0.000000      0.000000           0.0  \n4         0.000000      0.000000           0.0  \n...            ...           ...           ...  \n1995      0.000000      0.000000           0.0  \n1996      0.000000      2.592691           0.0  \n1997      0.000000      0.000000           0.0  \n1998      0.000000      0.000000           0.0  \n1999      0.000000      0.000000           0.0  \n\n[2000 rows x 51200 columns]",
      "text/html": "<div>\n<style scoped>\n    .dataframe tbody tr th:only-of-type {\n        vertical-align: middle;\n    }\n\n    .dataframe tbody tr th {\n        vertical-align: top;\n    }\n\n    .dataframe thead th {\n        text-align: right;\n    }\n</style>\n<table border=\"1\" class=\"dataframe\">\n  <thead>\n    <tr style=\"text-align: right;\">\n      <th></th>\n      <th>resnet_1</th>\n      <th>resnet_2</th>\n      <th>resnet_3</th>\n      <th>resnet_4</th>\n      <th>resnet_5</th>\n      <th>resnet_6</th>\n      <th>resnet_7</th>\n      <th>resnet_8</th>\n      <th>resnet_9</th>\n      <th>resnet_10</th>\n      <th>...</th>\n      <th>resnet_51191</th>\n      <th>resnet_51192</th>\n      <th>resnet_51193</th>\n      <th>resnet_51194</th>\n      <th>resnet_51195</th>\n      <th>resnet_51196</th>\n      <th>resnet_51197</th>\n      <th>resnet_51198</th>\n      <th>resnet_51199</th>\n      <th>resnet_51200</th>\n    </tr>\n  </thead>\n  <tbody>\n    <tr>\n      <th>0</th>\n      <td>0.000000</td>\n      <td>0.0</td>\n      <td>0.000000</td>\n      <td>0.000000</td>\n      <td>0.0</td>\n      <td>0.000000</td>\n      <td>0.000000</td>\n      <td>0.0</td>\n      <td>0.000000</td>\n      <td>0.000000</td>\n      <td>...</td>\n      <td>0.0</td>\n      <td>0.0</td>\n      <td>0.0</td>\n      <td>0.0</td>\n      <td>0.0</td>\n      <td>0.886713</td>\n      <td>0.0</td>\n      <td>0.000000</td>\n      <td>0.000000</td>\n      <td>0.0</td>\n    </tr>\n    <tr>\n      <th>1</th>\n      <td>0.000000</td>\n      <td>0.0</td>\n      <td>0.000000</td>\n      <td>0.000000</td>\n      <td>0.0</td>\n      <td>0.000000</td>\n      <td>0.000000</td>\n      <td>0.0</td>\n      <td>0.000000</td>\n      <td>0.000000</td>\n      <td>...</td>\n      <td>0.0</td>\n      <td>0.0</td>\n      <td>0.0</td>\n      <td>0.0</td>\n      <td>0.0</td>\n      <td>0.000000</td>\n      <td>0.0</td>\n      <td>1.846535</td>\n      <td>0.069445</td>\n      <td>0.0</td>\n    </tr>\n    <tr>\n      <th>2</th>\n      <td>0.604842</td>\n      <td>0.0</td>\n      <td>0.916294</td>\n      <td>0.900313</td>\n      <td>0.0</td>\n      <td>0.205639</td>\n      <td>0.966447</td>\n      <td>0.0</td>\n      <td>0.000000</td>\n      <td>0.425253</td>\n      <td>...</td>\n      <td>0.0</td>\n      <td>0.0</td>\n      <td>0.0</td>\n      <td>0.0</td>\n      <td>0.0</td>\n      <td>0.000000</td>\n      <td>0.0</td>\n      <td>0.000000</td>\n      <td>0.000000</td>\n      <td>0.0</td>\n    </tr>\n    <tr>\n      <th>3</th>\n      <td>0.000000</td>\n      <td>0.0</td>\n      <td>0.000000</td>\n      <td>0.000000</td>\n      <td>0.0</td>\n      <td>0.000000</td>\n      <td>0.000000</td>\n      <td>0.0</td>\n      <td>0.000000</td>\n      <td>0.000000</td>\n      <td>...</td>\n      <td>0.0</td>\n      <td>0.0</td>\n      <td>0.0</td>\n      <td>0.0</td>\n      <td>0.0</td>\n      <td>0.000000</td>\n      <td>0.0</td>\n      <td>0.000000</td>\n      <td>0.000000</td>\n      <td>0.0</td>\n    </tr>\n    <tr>\n      <th>4</th>\n      <td>0.000000</td>\n      <td>0.0</td>\n      <td>0.000000</td>\n      <td>0.000000</td>\n      <td>0.0</td>\n      <td>0.000000</td>\n      <td>0.000000</td>\n      <td>0.0</td>\n      <td>0.000000</td>\n      <td>0.000000</td>\n      <td>...</td>\n      <td>0.0</td>\n      <td>0.0</td>\n      <td>0.0</td>\n      <td>0.0</td>\n      <td>0.0</td>\n      <td>0.000000</td>\n      <td>0.0</td>\n      <td>0.000000</td>\n      <td>0.000000</td>\n      <td>0.0</td>\n    </tr>\n    <tr>\n      <th>...</th>\n      <td>...</td>\n      <td>...</td>\n      <td>...</td>\n      <td>...</td>\n      <td>...</td>\n      <td>...</td>\n      <td>...</td>\n      <td>...</td>\n      <td>...</td>\n      <td>...</td>\n      <td>...</td>\n      <td>...</td>\n      <td>...</td>\n      <td>...</td>\n      <td>...</td>\n      <td>...</td>\n      <td>...</td>\n      <td>...</td>\n      <td>...</td>\n      <td>...</td>\n      <td>...</td>\n    </tr>\n    <tr>\n      <th>1995</th>\n      <td>0.000000</td>\n      <td>0.0</td>\n      <td>0.000000</td>\n      <td>0.000000</td>\n      <td>0.0</td>\n      <td>0.000000</td>\n      <td>0.000000</td>\n      <td>0.0</td>\n      <td>0.000000</td>\n      <td>0.000000</td>\n      <td>...</td>\n      <td>0.0</td>\n      <td>0.0</td>\n      <td>0.0</td>\n      <td>0.0</td>\n      <td>0.0</td>\n      <td>0.000000</td>\n      <td>0.0</td>\n      <td>0.000000</td>\n      <td>0.000000</td>\n      <td>0.0</td>\n    </tr>\n    <tr>\n      <th>1996</th>\n      <td>0.000000</td>\n      <td>0.0</td>\n      <td>0.051989</td>\n      <td>0.761638</td>\n      <td>0.0</td>\n      <td>0.000000</td>\n      <td>0.000000</td>\n      <td>0.0</td>\n      <td>0.000000</td>\n      <td>0.000000</td>\n      <td>...</td>\n      <td>0.0</td>\n      <td>0.0</td>\n      <td>0.0</td>\n      <td>0.0</td>\n      <td>0.0</td>\n      <td>0.000000</td>\n      <td>0.0</td>\n      <td>0.000000</td>\n      <td>2.592691</td>\n      <td>0.0</td>\n    </tr>\n    <tr>\n      <th>1997</th>\n      <td>0.000000</td>\n      <td>0.0</td>\n      <td>0.000000</td>\n      <td>0.000000</td>\n      <td>0.0</td>\n      <td>0.000000</td>\n      <td>0.000000</td>\n      <td>0.0</td>\n      <td>3.585832</td>\n      <td>0.073563</td>\n      <td>...</td>\n      <td>0.0</td>\n      <td>0.0</td>\n      <td>0.0</td>\n      <td>0.0</td>\n      <td>0.0</td>\n      <td>0.000000</td>\n      <td>0.0</td>\n      <td>0.000000</td>\n      <td>0.000000</td>\n      <td>0.0</td>\n    </tr>\n    <tr>\n      <th>1998</th>\n      <td>0.000000</td>\n      <td>0.0</td>\n      <td>0.000000</td>\n      <td>0.000000</td>\n      <td>0.0</td>\n      <td>0.000000</td>\n      <td>0.000000</td>\n      <td>0.0</td>\n      <td>0.000000</td>\n      <td>0.000000</td>\n      <td>...</td>\n      <td>0.0</td>\n      <td>0.0</td>\n      <td>0.0</td>\n      <td>0.0</td>\n      <td>0.0</td>\n      <td>0.000000</td>\n      <td>0.0</td>\n      <td>0.000000</td>\n      <td>0.000000</td>\n      <td>0.0</td>\n    </tr>\n    <tr>\n      <th>1999</th>\n      <td>0.000000</td>\n      <td>0.0</td>\n      <td>0.000000</td>\n      <td>0.000000</td>\n      <td>0.0</td>\n      <td>0.000000</td>\n      <td>0.000000</td>\n      <td>0.0</td>\n      <td>0.000000</td>\n      <td>0.000000</td>\n      <td>...</td>\n      <td>0.0</td>\n      <td>0.0</td>\n      <td>0.0</td>\n      <td>0.0</td>\n      <td>0.0</td>\n      <td>0.000000</td>\n      <td>0.0</td>\n      <td>0.000000</td>\n      <td>0.000000</td>\n      <td>0.0</td>\n    </tr>\n  </tbody>\n</table>\n<p>2000 rows × 51200 columns</p>\n</div>"
     },
     "execution_count": 61,
     "metadata": {},
     "output_type": "execute_result"
    }
   ],
   "source": [
    "proc_df"
   ],
   "metadata": {
    "collapsed": false,
    "ExecuteTime": {
     "end_time": "2023-07-13T13:51:52.158983700Z",
     "start_time": "2023-07-13T13:51:52.112113300Z"
    }
   }
  }
 ],
 "metadata": {
  "kernelspec": {
   "display_name": "Python 3",
   "language": "python",
   "name": "python3"
  },
  "language_info": {
   "codemirror_mode": {
    "name": "ipython",
    "version": 2
   },
   "file_extension": ".py",
   "mimetype": "text/x-python",
   "name": "python",
   "nbconvert_exporter": "python",
   "pygments_lexer": "ipython2",
   "version": "2.7.6"
  }
 },
 "nbformat": 4,
 "nbformat_minor": 0
}
