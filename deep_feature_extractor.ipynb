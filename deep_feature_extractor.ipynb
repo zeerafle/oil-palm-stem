{
 "cells": [
  {
   "cell_type": "code",
   "execution_count": 4,
   "metadata": {
    "collapsed": true,
    "ExecuteTime": {
     "end_time": "2023-10-03T11:13:12.144118200Z",
     "start_time": "2023-10-03T11:13:04.923878200Z"
    }
   },
   "outputs": [],
   "source": [
    "import numpy as np\n",
    "from tensorflow.keras.applications import ResNet50\n",
    "from tensorflow.keras.applications.resnet50 import preprocess_input\n",
    "from tensorflow.keras.preprocessing.image import img_to_array\n",
    "from tensorflow.keras.preprocessing.image import load_img\n",
    "from tensorflow.keras.preprocessing.image import ImageDataGenerator\n",
    "import os\n",
    "import pandas as pd"
   ]
  },
  {
   "cell_type": "code",
   "execution_count": 5,
   "outputs": [],
   "source": [
    "SELECTED_DATA = os.path.join('data', 'selected_dataset')\n",
    "ORIGINAL_DATA = os.path.join('data', 'cleaned_dataset')\n",
    "PROCESSED_DATASET = os.path.join('data', 'processed_dataset')\n",
    "SAMPLE_IMAGE = 'data/selected_dataset/normal/DSC03990_5.JPG'"
   ],
   "metadata": {
    "collapsed": false,
    "ExecuteTime": {
     "end_time": "2023-10-03T11:13:12.160116200Z",
     "start_time": "2023-10-03T11:13:12.145118200Z"
    }
   }
  },
  {
   "cell_type": "code",
   "execution_count": 11,
   "outputs": [],
   "source": [
    "model = ResNet50(weights='imagenet', include_top=False)"
   ],
   "metadata": {
    "collapsed": false,
    "ExecuteTime": {
     "end_time": "2023-10-03T11:19:05.949451Z",
     "start_time": "2023-10-03T11:18:58.726452500Z"
    }
   }
  },
  {
   "cell_type": "code",
   "execution_count": null,
   "outputs": [],
   "source": [
    "model.summary()"
   ],
   "metadata": {
    "collapsed": false,
    "is_executing": true
   }
  },
  {
   "cell_type": "code",
   "execution_count": null,
   "outputs": [],
   "source": [
    "model.layers[-4].get_weights()"
   ],
   "metadata": {
    "collapsed": false,
    "is_executing": true
   }
  },
  {
   "cell_type": "markdown",
   "source": [
    "## Sample Image"
   ],
   "metadata": {
    "collapsed": false
   }
  },
  {
   "cell_type": "code",
   "execution_count": null,
   "outputs": [],
   "source": [
    "from PIL import Image\n",
    "import matplotlib.pyplot as plt\n"
   ],
   "metadata": {
    "collapsed": false,
    "is_executing": true
   }
  },
  {
   "cell_type": "code",
   "execution_count": null,
   "outputs": [],
   "source": [
    "Image.open(SAMPLE_IMAGE)"
   ],
   "metadata": {
    "collapsed": false,
    "is_executing": true
   }
  },
  {
   "cell_type": "code",
   "execution_count": null,
   "outputs": [],
   "source": [
    "image = load_img(SAMPLE_IMAGE, target_size=(150, 150))\n",
    "image"
   ],
   "metadata": {
    "collapsed": false,
    "is_executing": true
   }
  },
  {
   "cell_type": "code",
   "execution_count": null,
   "outputs": [],
   "source": [
    "image = load_img(SAMPLE_IMAGE, target_size=(150, 150))\n",
    "image = img_to_array(image)\n",
    "image = preprocess_input(image)\n",
    "\n",
    "feature_maps = model.predict(np.array([image]))\n",
    "feature_maps.shape"
   ],
   "metadata": {
    "collapsed": false,
    "is_executing": true
   }
  },
  {
   "cell_type": "code",
   "execution_count": null,
   "outputs": [],
   "source": [
    "feature_maps[0, :, :, 0]"
   ],
   "metadata": {
    "collapsed": false,
    "is_executing": true
   }
  },
  {
   "cell_type": "code",
   "execution_count": null,
   "outputs": [],
   "source": [
    "# plot first 20 filters\n",
    "n_filters = 20\n",
    "# specify subplot and turn of axis\n",
    "fig, ax = plt.subplots(4, 5)\n",
    "\n",
    "# show the first 20 feature map\n",
    "for i in range(n_filters):\n",
    "    # specify subplot and turn of axis\n",
    "    ax[i//5, i%5].imshow(feature_maps[0, :, :, i], cmap='gray')\n",
    "    ax[i//5, i%5].axis('off')\n"
   ],
   "metadata": {
    "collapsed": false,
    "is_executing": true
   }
  },
  {
   "cell_type": "code",
   "execution_count": null,
   "outputs": [],
   "source": [
    "feature_maps[0, :, :, 0]"
   ],
   "metadata": {
    "collapsed": false,
    "is_executing": true
   }
  },
  {
   "cell_type": "markdown",
   "source": [
    "## Batch Feature Extraction"
   ],
   "metadata": {
    "collapsed": false
   }
  },
  {
   "cell_type": "code",
   "execution_count": 12,
   "outputs": [],
   "source": [
    "def extract_and_export(image_path, export_name):\n",
    "    batch_images = []\n",
    "    label = []\n",
    "    file_names = []\n",
    "    class_map = {'normal': 0, 'infected': 1}\n",
    "    for image_class in os.listdir(image_path):\n",
    "        class_path = os.path.join(image_path, image_class)\n",
    "        for image_file in os.listdir(class_path):\n",
    "    #         print(os.path.join(class_path, image_file))\n",
    "            image = load_img(os.path.join(class_path, image_file), target_size=(150, 150))\n",
    "            image = img_to_array(image)\n",
    "            image = preprocess_input(image)\n",
    "            batch_images.append(image)\n",
    "            label.append(class_map[image_class])\n",
    "            file_names.append(image_file)\n",
    "            \n",
    "    batch_images = np.array(batch_images)\n",
    "    features = model.predict(batch_images)\n",
    "    features = features.reshape((-1, 5*5*2048))\n",
    "\n",
    "    features_df = pd.DataFrame(features,\n",
    "                               columns=[f'resnet_{x+1}' for x in range(features.shape[-1])])\n",
    "    features_df['is_infected'] = label\n",
    "    features_df.insert(0, 'file_name', file_names)\n",
    "    # features_df.to_csv(os.path.join('data', export_name+'.csv'), index=False)\n",
    "    features_df.to_parquet(os.path.join('data', export_name+'.parquet'), index=False)\n",
    "    # features_df.to_excel(os.path.join('data', 'excel', export_name+'.xlsx'), index=False)\n",
    "    return features_df"
   ],
   "metadata": {
    "collapsed": false,
    "ExecuteTime": {
     "end_time": "2023-10-03T11:19:16.686453800Z",
     "start_time": "2023-10-03T11:19:16.671453600Z"
    }
   }
  },
  {
   "cell_type": "code",
   "execution_count": 13,
   "outputs": [
    {
     "name": "stdout",
     "output_type": "stream",
     "text": [
      "63/63 [==============================] - 90s 1s/step\n"
     ]
    }
   ],
   "source": [
    "orig_df = extract_and_export(SELECTED_DATA, 'orig_img_feature')"
   ],
   "metadata": {
    "collapsed": false,
    "ExecuteTime": {
     "end_time": "2023-10-03T11:22:09.058029500Z",
     "start_time": "2023-10-03T11:19:19.800450600Z"
    }
   }
  }
 ],
 "metadata": {
  "kernelspec": {
   "display_name": "Python 3",
   "language": "python",
   "name": "python3"
  },
  "language_info": {
   "codemirror_mode": {
    "name": "ipython",
    "version": 2
   },
   "file_extension": ".py",
   "mimetype": "text/x-python",
   "name": "python",
   "nbconvert_exporter": "python",
   "pygments_lexer": "ipython2",
   "version": "2.7.6"
  }
 },
 "nbformat": 4,
 "nbformat_minor": 0
}
