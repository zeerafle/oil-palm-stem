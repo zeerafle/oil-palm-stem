{
 "cells": [
  {
   "cell_type": "markdown",
   "id": "141f1cecc4308e34",
   "metadata": {
    "collapsed": false
   },
   "source": [
    "# Code lab for Skripsi\n",
    "\n",
    "Feature extraction part is done in `deep_feature_extractior.ipynb` files. This file is used to feature selection and train model"
   ]
  },
  {
   "cell_type": "code",
   "execution_count": 16,
   "id": "4fa8054b82944eb4",
   "metadata": {
    "collapsed": false,
    "ExecuteTime": {
     "end_time": "2023-09-16T13:18:38.314180900Z",
     "start_time": "2023-09-16T13:18:38.298182900Z"
    }
   },
   "outputs": [],
   "source": [
    "import pandas as pd\n",
    "import numpy as np\n",
    "from sklearn.feature_selection import SelectFromModel\n",
    "from sklearn.svm import SVC\n",
    "from sklearn.model_selection import GridSearchCV, cross_validate\n",
    "from sklearn.model_selection import train_test_split\n",
    "from sklearn import metrics\n",
    "\n",
    "import joblib"
   ]
  },
  {
   "cell_type": "code",
   "execution_count": 2,
   "outputs": [],
   "source": [
    "label = np.array([1]*1000+[0]*1000)"
   ],
   "metadata": {
    "collapsed": false,
    "ExecuteTime": {
     "end_time": "2023-09-16T12:56:51.350730200Z",
     "start_time": "2023-09-16T12:56:51.330732300Z"
    }
   },
   "id": "a3ba4dca8286c1f8"
  },
  {
   "cell_type": "code",
   "execution_count": 3,
   "id": "fef4abaaab78ba0f",
   "metadata": {
    "collapsed": false,
    "ExecuteTime": {
     "end_time": "2023-09-16T12:57:05.251681600Z",
     "start_time": "2023-09-16T12:56:51.345731600Z"
    }
   },
   "outputs": [
    {
     "data": {
      "text/plain": "   resnet_1  resnet_2  resnet_3  resnet_4  resnet_5  resnet_6  resnet_7  \\\n0       0.0       0.0  0.000000       0.0  0.000000  0.000000  0.000000   \n1       0.0       0.0  0.000000       0.0  0.000000  0.000000  0.000000   \n2       0.0       0.0  1.585785       0.0  3.971417  1.891622  0.000000   \n3       0.0       0.0  0.000000       0.0  0.000000  0.000000  0.000000   \n4       0.0       0.0  0.000000       0.0  0.000000  0.000000  0.213993   \n\n   resnet_8  resnet_9  resnet_10  ...  resnet_51191  resnet_51192  \\\n0       0.0       0.0        0.0  ...           0.0           0.0   \n1       0.0       0.0        0.0  ...           0.0           0.0   \n2       0.0       0.0        0.0  ...           0.0           0.0   \n3       0.0       0.0        0.0  ...           0.0           0.0   \n4       0.0       0.0        0.0  ...           0.0           0.0   \n\n   resnet_51193  resnet_51194  resnet_51195  resnet_51196  resnet_51197  \\\n0           0.0           0.0           0.0      2.028299           0.0   \n1           0.0           0.0           0.0      0.000000           0.0   \n2           0.0           0.0           0.0      0.000000           0.0   \n3           0.0           0.0           0.0      0.000000           0.0   \n4           0.0           0.0           0.0      0.000000           0.0   \n\n   resnet_51198  resnet_51199  resnet_51200  \n0           0.0           0.0           0.0  \n1           0.0           0.0           0.0  \n2           0.0           0.0           0.0  \n3           0.0           0.0           0.0  \n4           0.0           0.0           0.0  \n\n[5 rows x 51200 columns]",
      "text/html": "<div>\n<style scoped>\n    .dataframe tbody tr th:only-of-type {\n        vertical-align: middle;\n    }\n\n    .dataframe tbody tr th {\n        vertical-align: top;\n    }\n\n    .dataframe thead th {\n        text-align: right;\n    }\n</style>\n<table border=\"1\" class=\"dataframe\">\n  <thead>\n    <tr style=\"text-align: right;\">\n      <th></th>\n      <th>resnet_1</th>\n      <th>resnet_2</th>\n      <th>resnet_3</th>\n      <th>resnet_4</th>\n      <th>resnet_5</th>\n      <th>resnet_6</th>\n      <th>resnet_7</th>\n      <th>resnet_8</th>\n      <th>resnet_9</th>\n      <th>resnet_10</th>\n      <th>...</th>\n      <th>resnet_51191</th>\n      <th>resnet_51192</th>\n      <th>resnet_51193</th>\n      <th>resnet_51194</th>\n      <th>resnet_51195</th>\n      <th>resnet_51196</th>\n      <th>resnet_51197</th>\n      <th>resnet_51198</th>\n      <th>resnet_51199</th>\n      <th>resnet_51200</th>\n    </tr>\n  </thead>\n  <tbody>\n    <tr>\n      <th>0</th>\n      <td>0.0</td>\n      <td>0.0</td>\n      <td>0.000000</td>\n      <td>0.0</td>\n      <td>0.000000</td>\n      <td>0.000000</td>\n      <td>0.000000</td>\n      <td>0.0</td>\n      <td>0.0</td>\n      <td>0.0</td>\n      <td>...</td>\n      <td>0.0</td>\n      <td>0.0</td>\n      <td>0.0</td>\n      <td>0.0</td>\n      <td>0.0</td>\n      <td>2.028299</td>\n      <td>0.0</td>\n      <td>0.0</td>\n      <td>0.0</td>\n      <td>0.0</td>\n    </tr>\n    <tr>\n      <th>1</th>\n      <td>0.0</td>\n      <td>0.0</td>\n      <td>0.000000</td>\n      <td>0.0</td>\n      <td>0.000000</td>\n      <td>0.000000</td>\n      <td>0.000000</td>\n      <td>0.0</td>\n      <td>0.0</td>\n      <td>0.0</td>\n      <td>...</td>\n      <td>0.0</td>\n      <td>0.0</td>\n      <td>0.0</td>\n      <td>0.0</td>\n      <td>0.0</td>\n      <td>0.000000</td>\n      <td>0.0</td>\n      <td>0.0</td>\n      <td>0.0</td>\n      <td>0.0</td>\n    </tr>\n    <tr>\n      <th>2</th>\n      <td>0.0</td>\n      <td>0.0</td>\n      <td>1.585785</td>\n      <td>0.0</td>\n      <td>3.971417</td>\n      <td>1.891622</td>\n      <td>0.000000</td>\n      <td>0.0</td>\n      <td>0.0</td>\n      <td>0.0</td>\n      <td>...</td>\n      <td>0.0</td>\n      <td>0.0</td>\n      <td>0.0</td>\n      <td>0.0</td>\n      <td>0.0</td>\n      <td>0.000000</td>\n      <td>0.0</td>\n      <td>0.0</td>\n      <td>0.0</td>\n      <td>0.0</td>\n    </tr>\n    <tr>\n      <th>3</th>\n      <td>0.0</td>\n      <td>0.0</td>\n      <td>0.000000</td>\n      <td>0.0</td>\n      <td>0.000000</td>\n      <td>0.000000</td>\n      <td>0.000000</td>\n      <td>0.0</td>\n      <td>0.0</td>\n      <td>0.0</td>\n      <td>...</td>\n      <td>0.0</td>\n      <td>0.0</td>\n      <td>0.0</td>\n      <td>0.0</td>\n      <td>0.0</td>\n      <td>0.000000</td>\n      <td>0.0</td>\n      <td>0.0</td>\n      <td>0.0</td>\n      <td>0.0</td>\n    </tr>\n    <tr>\n      <th>4</th>\n      <td>0.0</td>\n      <td>0.0</td>\n      <td>0.000000</td>\n      <td>0.0</td>\n      <td>0.000000</td>\n      <td>0.000000</td>\n      <td>0.213993</td>\n      <td>0.0</td>\n      <td>0.0</td>\n      <td>0.0</td>\n      <td>...</td>\n      <td>0.0</td>\n      <td>0.0</td>\n      <td>0.0</td>\n      <td>0.0</td>\n      <td>0.0</td>\n      <td>0.000000</td>\n      <td>0.0</td>\n      <td>0.0</td>\n      <td>0.0</td>\n      <td>0.0</td>\n    </tr>\n  </tbody>\n</table>\n<p>5 rows × 51200 columns</p>\n</div>"
     },
     "execution_count": 3,
     "metadata": {},
     "output_type": "execute_result"
    }
   ],
   "source": [
    "df = pd.read_parquet('data/orig_img_feature.parquet')\n",
    "df.head()"
   ]
  },
  {
   "cell_type": "markdown",
   "source": [
    "## Feature Selection\n",
    "\n",
    "Feature selection is done using `sklearn.feature_selection.SelectFromModel` with `sklearn.svm.SVC` as estimator. The result is saved in `data/selected_feature.csv` file"
   ],
   "metadata": {
    "collapsed": false
   },
   "id": "e1e1114933e4d417"
  },
  {
   "cell_type": "markdown",
   "source": [
    "### Prefit Model\n",
    "\n",
    "Fit the model first to get the feature coefficient"
   ],
   "metadata": {
    "collapsed": false
   },
   "id": "cc0e8240e548c396"
  },
  {
   "cell_type": "code",
   "execution_count": 4,
   "outputs": [
    {
     "data": {
      "text/plain": "SVC(kernel='linear', random_state=42)",
      "text/html": "<style>#sk-container-id-1 {color: black;}#sk-container-id-1 pre{padding: 0;}#sk-container-id-1 div.sk-toggleable {background-color: white;}#sk-container-id-1 label.sk-toggleable__label {cursor: pointer;display: block;width: 100%;margin-bottom: 0;padding: 0.3em;box-sizing: border-box;text-align: center;}#sk-container-id-1 label.sk-toggleable__label-arrow:before {content: \"▸\";float: left;margin-right: 0.25em;color: #696969;}#sk-container-id-1 label.sk-toggleable__label-arrow:hover:before {color: black;}#sk-container-id-1 div.sk-estimator:hover label.sk-toggleable__label-arrow:before {color: black;}#sk-container-id-1 div.sk-toggleable__content {max-height: 0;max-width: 0;overflow: hidden;text-align: left;background-color: #f0f8ff;}#sk-container-id-1 div.sk-toggleable__content pre {margin: 0.2em;color: black;border-radius: 0.25em;background-color: #f0f8ff;}#sk-container-id-1 input.sk-toggleable__control:checked~div.sk-toggleable__content {max-height: 200px;max-width: 100%;overflow: auto;}#sk-container-id-1 input.sk-toggleable__control:checked~label.sk-toggleable__label-arrow:before {content: \"▾\";}#sk-container-id-1 div.sk-estimator input.sk-toggleable__control:checked~label.sk-toggleable__label {background-color: #d4ebff;}#sk-container-id-1 div.sk-label input.sk-toggleable__control:checked~label.sk-toggleable__label {background-color: #d4ebff;}#sk-container-id-1 input.sk-hidden--visually {border: 0;clip: rect(1px 1px 1px 1px);clip: rect(1px, 1px, 1px, 1px);height: 1px;margin: -1px;overflow: hidden;padding: 0;position: absolute;width: 1px;}#sk-container-id-1 div.sk-estimator {font-family: monospace;background-color: #f0f8ff;border: 1px dotted black;border-radius: 0.25em;box-sizing: border-box;margin-bottom: 0.5em;}#sk-container-id-1 div.sk-estimator:hover {background-color: #d4ebff;}#sk-container-id-1 div.sk-parallel-item::after {content: \"\";width: 100%;border-bottom: 1px solid gray;flex-grow: 1;}#sk-container-id-1 div.sk-label:hover label.sk-toggleable__label {background-color: #d4ebff;}#sk-container-id-1 div.sk-serial::before {content: \"\";position: absolute;border-left: 1px solid gray;box-sizing: border-box;top: 0;bottom: 0;left: 50%;z-index: 0;}#sk-container-id-1 div.sk-serial {display: flex;flex-direction: column;align-items: center;background-color: white;padding-right: 0.2em;padding-left: 0.2em;position: relative;}#sk-container-id-1 div.sk-item {position: relative;z-index: 1;}#sk-container-id-1 div.sk-parallel {display: flex;align-items: stretch;justify-content: center;background-color: white;position: relative;}#sk-container-id-1 div.sk-item::before, #sk-container-id-1 div.sk-parallel-item::before {content: \"\";position: absolute;border-left: 1px solid gray;box-sizing: border-box;top: 0;bottom: 0;left: 50%;z-index: -1;}#sk-container-id-1 div.sk-parallel-item {display: flex;flex-direction: column;z-index: 1;position: relative;background-color: white;}#sk-container-id-1 div.sk-parallel-item:first-child::after {align-self: flex-end;width: 50%;}#sk-container-id-1 div.sk-parallel-item:last-child::after {align-self: flex-start;width: 50%;}#sk-container-id-1 div.sk-parallel-item:only-child::after {width: 0;}#sk-container-id-1 div.sk-dashed-wrapped {border: 1px dashed gray;margin: 0 0.4em 0.5em 0.4em;box-sizing: border-box;padding-bottom: 0.4em;background-color: white;}#sk-container-id-1 div.sk-label label {font-family: monospace;font-weight: bold;display: inline-block;line-height: 1.2em;}#sk-container-id-1 div.sk-label-container {text-align: center;}#sk-container-id-1 div.sk-container {/* jupyter's `normalize.less` sets `[hidden] { display: none; }` but bootstrap.min.css set `[hidden] { display: none !important; }` so we also need the `!important` here to be able to override the default hidden behavior on the sphinx rendered scikit-learn.org. See: https://github.com/scikit-learn/scikit-learn/issues/21755 */display: inline-block !important;position: relative;}#sk-container-id-1 div.sk-text-repr-fallback {display: none;}</style><div id=\"sk-container-id-1\" class=\"sk-top-container\"><div class=\"sk-text-repr-fallback\"><pre>SVC(kernel=&#x27;linear&#x27;, random_state=42)</pre><b>In a Jupyter environment, please rerun this cell to show the HTML representation or trust the notebook. <br />On GitHub, the HTML representation is unable to render, please try loading this page with nbviewer.org.</b></div><div class=\"sk-container\" hidden><div class=\"sk-item\"><div class=\"sk-estimator sk-toggleable\"><input class=\"sk-toggleable__control sk-hidden--visually\" id=\"sk-estimator-id-1\" type=\"checkbox\" checked><label for=\"sk-estimator-id-1\" class=\"sk-toggleable__label sk-toggleable__label-arrow\">SVC</label><div class=\"sk-toggleable__content\"><pre>SVC(kernel=&#x27;linear&#x27;, random_state=42)</pre></div></div></div></div></div>"
     },
     "execution_count": 4,
     "metadata": {},
     "output_type": "execute_result"
    }
   ],
   "source": [
    "svm = SVC(kernel=\"linear\", random_state=42)\n",
    "svm.fit(df, label)"
   ],
   "metadata": {
    "collapsed": false,
    "ExecuteTime": {
     "end_time": "2023-09-16T13:00:51.952067900Z",
     "start_time": "2023-09-16T12:57:05.232680300Z"
    }
   },
   "id": "3931027670a02a9b"
  },
  {
   "cell_type": "code",
   "execution_count": 5,
   "outputs": [
    {
     "data": {
      "text/plain": "['dumps\\\\fitted_svm_full_features.joblib']"
     },
     "execution_count": 5,
     "metadata": {},
     "output_type": "execute_result"
    }
   ],
   "source": [
    "joblib.dump(svm, r'dumps\\fitted_svm_full_features.joblib')"
   ],
   "metadata": {
    "collapsed": false,
    "ExecuteTime": {
     "end_time": "2023-09-16T13:06:53.117171900Z",
     "start_time": "2023-09-16T13:06:45.320319500Z"
    }
   },
   "id": "2c3032e87067794d"
  },
  {
   "cell_type": "code",
   "execution_count": 6,
   "outputs": [],
   "source": [
    "# svm = joblib.load(r'dumps\\fitted_svm_full_features_splitted_data.joblib')"
   ],
   "metadata": {
    "collapsed": false,
    "ExecuteTime": {
     "end_time": "2023-09-16T13:06:53.177172200Z",
     "start_time": "2023-09-16T13:06:50.295659600Z"
    }
   },
   "id": "94676e9e5a15ff82"
  },
  {
   "cell_type": "code",
   "execution_count": 7,
   "outputs": [
    {
     "data": {
      "text/plain": "array([-3.89170279e-04, -5.02684736e-04, -5.11681476e-04,  7.29777117e-05,\n       -9.71169055e-05])"
     },
     "execution_count": 7,
     "metadata": {},
     "output_type": "execute_result"
    }
   ],
   "source": [
    "# save and inspect the coefficient\n",
    "np.savetxt(r'data\\svm_coef.txt', svm.coef_, delimiter='\\n')\n",
    "svm.coef_[0,:5]"
   ],
   "metadata": {
    "collapsed": false,
    "ExecuteTime": {
     "end_time": "2023-09-16T13:06:54.424173Z",
     "start_time": "2023-09-16T13:06:53.199173800Z"
    }
   },
   "id": "99c7ae81e42b1dfb"
  },
  {
   "cell_type": "code",
   "execution_count": 8,
   "outputs": [
    {
     "name": "stdout",
     "output_type": "stream",
     "text": [
      "6.137016942547516e-07\n",
      "0.0004996106915457431\n"
     ]
    }
   ],
   "source": [
    "# manually calculate the mean\n",
    "print(svm.coef_.mean())\n",
    "print(abs(svm.coef_).mean())"
   ],
   "metadata": {
    "collapsed": false,
    "ExecuteTime": {
     "end_time": "2023-09-16T13:07:40.294057Z",
     "start_time": "2023-09-16T13:07:39.216056100Z"
    }
   },
   "id": "4067c93db22c7fab"
  },
  {
   "cell_type": "code",
   "execution_count": 9,
   "outputs": [
    {
     "data": {
      "text/plain": "(17675,)"
     },
     "execution_count": 9,
     "metadata": {},
     "output_type": "execute_result"
    }
   ],
   "source": [
    "# manually get feature that are more than or equal to the mean\n",
    "np.where(np.any(abs(svm.coef_) >= abs(svm.coef_).mean(), axis=0))[0].shape"
   ],
   "metadata": {
    "collapsed": false,
    "ExecuteTime": {
     "end_time": "2023-09-16T13:08:14.430820400Z",
     "start_time": "2023-09-16T13:08:14.135820400Z"
    }
   },
   "id": "955e1bf4868a0830"
  },
  {
   "cell_type": "markdown",
   "source": [
    "### Run the selection"
   ],
   "metadata": {
    "collapsed": false
   },
   "id": "bc04ca31cc820d10"
  },
  {
   "cell_type": "code",
   "execution_count": 10,
   "outputs": [
    {
     "data": {
      "text/plain": "SelectFromModel(estimator=SVC(kernel='linear', random_state=42), prefit=True)",
      "text/html": "<style>#sk-container-id-2 {color: black;}#sk-container-id-2 pre{padding: 0;}#sk-container-id-2 div.sk-toggleable {background-color: white;}#sk-container-id-2 label.sk-toggleable__label {cursor: pointer;display: block;width: 100%;margin-bottom: 0;padding: 0.3em;box-sizing: border-box;text-align: center;}#sk-container-id-2 label.sk-toggleable__label-arrow:before {content: \"▸\";float: left;margin-right: 0.25em;color: #696969;}#sk-container-id-2 label.sk-toggleable__label-arrow:hover:before {color: black;}#sk-container-id-2 div.sk-estimator:hover label.sk-toggleable__label-arrow:before {color: black;}#sk-container-id-2 div.sk-toggleable__content {max-height: 0;max-width: 0;overflow: hidden;text-align: left;background-color: #f0f8ff;}#sk-container-id-2 div.sk-toggleable__content pre {margin: 0.2em;color: black;border-radius: 0.25em;background-color: #f0f8ff;}#sk-container-id-2 input.sk-toggleable__control:checked~div.sk-toggleable__content {max-height: 200px;max-width: 100%;overflow: auto;}#sk-container-id-2 input.sk-toggleable__control:checked~label.sk-toggleable__label-arrow:before {content: \"▾\";}#sk-container-id-2 div.sk-estimator input.sk-toggleable__control:checked~label.sk-toggleable__label {background-color: #d4ebff;}#sk-container-id-2 div.sk-label input.sk-toggleable__control:checked~label.sk-toggleable__label {background-color: #d4ebff;}#sk-container-id-2 input.sk-hidden--visually {border: 0;clip: rect(1px 1px 1px 1px);clip: rect(1px, 1px, 1px, 1px);height: 1px;margin: -1px;overflow: hidden;padding: 0;position: absolute;width: 1px;}#sk-container-id-2 div.sk-estimator {font-family: monospace;background-color: #f0f8ff;border: 1px dotted black;border-radius: 0.25em;box-sizing: border-box;margin-bottom: 0.5em;}#sk-container-id-2 div.sk-estimator:hover {background-color: #d4ebff;}#sk-container-id-2 div.sk-parallel-item::after {content: \"\";width: 100%;border-bottom: 1px solid gray;flex-grow: 1;}#sk-container-id-2 div.sk-label:hover label.sk-toggleable__label {background-color: #d4ebff;}#sk-container-id-2 div.sk-serial::before {content: \"\";position: absolute;border-left: 1px solid gray;box-sizing: border-box;top: 0;bottom: 0;left: 50%;z-index: 0;}#sk-container-id-2 div.sk-serial {display: flex;flex-direction: column;align-items: center;background-color: white;padding-right: 0.2em;padding-left: 0.2em;position: relative;}#sk-container-id-2 div.sk-item {position: relative;z-index: 1;}#sk-container-id-2 div.sk-parallel {display: flex;align-items: stretch;justify-content: center;background-color: white;position: relative;}#sk-container-id-2 div.sk-item::before, #sk-container-id-2 div.sk-parallel-item::before {content: \"\";position: absolute;border-left: 1px solid gray;box-sizing: border-box;top: 0;bottom: 0;left: 50%;z-index: -1;}#sk-container-id-2 div.sk-parallel-item {display: flex;flex-direction: column;z-index: 1;position: relative;background-color: white;}#sk-container-id-2 div.sk-parallel-item:first-child::after {align-self: flex-end;width: 50%;}#sk-container-id-2 div.sk-parallel-item:last-child::after {align-self: flex-start;width: 50%;}#sk-container-id-2 div.sk-parallel-item:only-child::after {width: 0;}#sk-container-id-2 div.sk-dashed-wrapped {border: 1px dashed gray;margin: 0 0.4em 0.5em 0.4em;box-sizing: border-box;padding-bottom: 0.4em;background-color: white;}#sk-container-id-2 div.sk-label label {font-family: monospace;font-weight: bold;display: inline-block;line-height: 1.2em;}#sk-container-id-2 div.sk-label-container {text-align: center;}#sk-container-id-2 div.sk-container {/* jupyter's `normalize.less` sets `[hidden] { display: none; }` but bootstrap.min.css set `[hidden] { display: none !important; }` so we also need the `!important` here to be able to override the default hidden behavior on the sphinx rendered scikit-learn.org. See: https://github.com/scikit-learn/scikit-learn/issues/21755 */display: inline-block !important;position: relative;}#sk-container-id-2 div.sk-text-repr-fallback {display: none;}</style><div id=\"sk-container-id-2\" class=\"sk-top-container\"><div class=\"sk-text-repr-fallback\"><pre>SelectFromModel(estimator=SVC(kernel=&#x27;linear&#x27;, random_state=42), prefit=True)</pre><b>In a Jupyter environment, please rerun this cell to show the HTML representation or trust the notebook. <br />On GitHub, the HTML representation is unable to render, please try loading this page with nbviewer.org.</b></div><div class=\"sk-container\" hidden><div class=\"sk-item sk-dashed-wrapped\"><div class=\"sk-label-container\"><div class=\"sk-label sk-toggleable\"><input class=\"sk-toggleable__control sk-hidden--visually\" id=\"sk-estimator-id-2\" type=\"checkbox\" ><label for=\"sk-estimator-id-2\" class=\"sk-toggleable__label sk-toggleable__label-arrow\">SelectFromModel</label><div class=\"sk-toggleable__content\"><pre>SelectFromModel(estimator=SVC(kernel=&#x27;linear&#x27;, random_state=42), prefit=True)</pre></div></div></div><div class=\"sk-parallel\"><div class=\"sk-parallel-item\"><div class=\"sk-item\"><div class=\"sk-label-container\"><div class=\"sk-label sk-toggleable\"><input class=\"sk-toggleable__control sk-hidden--visually\" id=\"sk-estimator-id-3\" type=\"checkbox\" ><label for=\"sk-estimator-id-3\" class=\"sk-toggleable__label sk-toggleable__label-arrow\">estimator: SVC</label><div class=\"sk-toggleable__content\"><pre>SVC(kernel=&#x27;linear&#x27;, random_state=42)</pre></div></div></div><div class=\"sk-serial\"><div class=\"sk-item\"><div class=\"sk-estimator sk-toggleable\"><input class=\"sk-toggleable__control sk-hidden--visually\" id=\"sk-estimator-id-4\" type=\"checkbox\" ><label for=\"sk-estimator-id-4\" class=\"sk-toggleable__label sk-toggleable__label-arrow\">SVC</label><div class=\"sk-toggleable__content\"><pre>SVC(kernel=&#x27;linear&#x27;, random_state=42)</pre></div></div></div></div></div></div></div></div></div></div>"
     },
     "execution_count": 10,
     "metadata": {},
     "output_type": "execute_result"
    }
   ],
   "source": [
    "selector = SelectFromModel(svm, prefit=True)\n",
    "selector.fit(df)"
   ],
   "metadata": {
    "collapsed": false,
    "ExecuteTime": {
     "end_time": "2023-09-16T13:13:40.232769600Z",
     "start_time": "2023-09-16T13:13:29.312307400Z"
    }
   },
   "id": "397fa64732308691"
  },
  {
   "cell_type": "code",
   "execution_count": 24,
   "outputs": [],
   "source": [
    "# selector = joblib.load('dumps\\SelectFromModel_selector.joblib')"
   ],
   "metadata": {
    "collapsed": false,
    "ExecuteTime": {
     "end_time": "2023-09-15T07:07:35.098785700Z",
     "start_time": "2023-09-15T07:07:34.042898Z"
    }
   },
   "id": "d5e9e8c62c2cbc8f"
  },
  {
   "cell_type": "code",
   "execution_count": 11,
   "outputs": [
    {
     "data": {
      "text/plain": "0.0004996106915457431"
     },
     "execution_count": 11,
     "metadata": {},
     "output_type": "execute_result"
    }
   ],
   "source": [
    "# threshold\n",
    "selector.threshold_"
   ],
   "metadata": {
    "collapsed": false,
    "ExecuteTime": {
     "end_time": "2023-09-16T13:13:51.467870600Z",
     "start_time": "2023-09-16T13:13:51.169871Z"
    }
   },
   "id": "354ad4d7e5a40d0c"
  },
  {
   "cell_type": "code",
   "execution_count": 12,
   "outputs": [
    {
     "data": {
      "text/plain": "array(['resnet_2', 'resnet_3', 'resnet_14', ..., 'resnet_51198',\n       'resnet_51199', 'resnet_51200'], dtype=object)"
     },
     "execution_count": 12,
     "metadata": {},
     "output_type": "execute_result"
    }
   ],
   "source": [
    "selector.get_feature_names_out()"
   ],
   "metadata": {
    "collapsed": false,
    "ExecuteTime": {
     "end_time": "2023-09-16T13:13:58.257233900Z",
     "start_time": "2023-09-16T13:13:58.138249200Z"
    }
   },
   "id": "fbba0c19211dfed8"
  },
  {
   "cell_type": "code",
   "execution_count": 18,
   "outputs": [],
   "source": [
    "selected_features_df = pd.DataFrame(selector.transform(df),\n",
    "                                    columns=selector.get_feature_names_out())\n",
    "selected_features_df.to_parquet(r'data\\selected_features.parquet')"
   ],
   "metadata": {
    "collapsed": false,
    "ExecuteTime": {
     "end_time": "2023-09-16T13:32:13.757765600Z",
     "start_time": "2023-09-16T13:31:43.885729400Z"
    }
   },
   "id": "3fa65451542848ec"
  },
  {
   "cell_type": "markdown",
   "source": [
    "## Classification\n",
    "\n",
    "Classification is done using SVM with linear kernel."
   ],
   "metadata": {
    "collapsed": false
   },
   "id": "95de7b3db3a79252"
  },
  {
   "cell_type": "markdown",
   "source": [
    "### Hyperparameter tuning with Cross Validation\n",
    "\n",
    "Find Hyperparameter C with cross validation and will be using k=10. Metrics being used is F1-Score, Recall, Precision, and Accuracy."
   ],
   "metadata": {
    "collapsed": false
   },
   "id": "b0966cb8af05edf0"
  },
  {
   "cell_type": "code",
   "execution_count": null,
   "outputs": [],
   "source": [
    "METRICS = ['f1', 'recall', 'precision', 'accuracy']\n",
    "PARAM_GRID = {'C': [0.001, 0.01, 0.1, 1, 10, 100, 1000]}\n",
    "\n",
    "svm = SVC(kernel=\"linear\", random_state=42)\n",
    "grid = GridSearchCV(svm, cv=10, param_grid=PARAM_GRID, scoring=METRICS, refit=False, verbose=3)\n",
    "grid.fit(X=selected_feature_df, y=y_train)"
   ],
   "metadata": {
    "collapsed": false
   },
   "id": "c41b15c845167f67"
  },
  {
   "cell_type": "code",
   "execution_count": null,
   "outputs": [],
   "source": [
    "grid.cv_results_"
   ],
   "metadata": {
    "collapsed": false,
    "ExecuteTime": {
     "start_time": "2023-09-16T12:09:15.427033600Z"
    }
   },
   "id": "1c1b05fd99ac84e4"
  },
  {
   "cell_type": "code",
   "execution_count": 36,
   "outputs": [
    {
     "data": {
      "text/plain": "   mean_fit_time  std_fit_time  mean_score_time  std_score_time param_C  \\\n0     127.653659      0.857349        10.435880        0.104752   0.001   \n1     127.563728      1.206513        10.450411        0.217847    0.01   \n2     125.323500      0.786658        10.257011        0.097810     0.1   \n3     125.276721      0.691191        10.255443        0.098460       1   \n4     125.043476      0.582035        10.231555        0.071180      10   \n5     125.141665      0.689061        10.255118        0.087312     100   \n6     125.151880      0.651139        10.323431        0.250689    1000   \n\n         params  split0_test_f1  split1_test_f1  split2_test_f1  \\\n0  {'C': 0.001}        0.937853        0.972678        0.961326   \n1   {'C': 0.01}        0.937853        0.972678        0.961326   \n2    {'C': 0.1}        0.937853        0.972678        0.961326   \n3      {'C': 1}        0.937853        0.972678        0.961326   \n4     {'C': 10}        0.937853        0.972678        0.961326   \n5    {'C': 100}        0.937853        0.972678        0.961326   \n6   {'C': 1000}        0.937853        0.972678        0.961326   \n\n   split3_test_f1  ...  split3_test_accuracy  split4_test_accuracy  \\\n0        0.955556  ...              0.955556              0.916667   \n1        0.955556  ...              0.955556              0.916667   \n2        0.955556  ...              0.955556              0.916667   \n3        0.955556  ...              0.955556              0.916667   \n4        0.955556  ...              0.955556              0.916667   \n5        0.955556  ...              0.955556              0.916667   \n6        0.955556  ...              0.955556              0.916667   \n\n   split5_test_accuracy  split6_test_accuracy  split7_test_accuracy  \\\n0              0.938889              0.933333              0.944444   \n1              0.938889              0.933333              0.944444   \n2              0.938889              0.933333              0.944444   \n3              0.938889              0.933333              0.944444   \n4              0.938889              0.933333              0.944444   \n5              0.938889              0.933333              0.944444   \n6              0.938889              0.933333              0.944444   \n\n   split8_test_accuracy  split9_test_accuracy  mean_test_accuracy  \\\n0              0.911111              0.955556            0.942778   \n1              0.911111              0.955556            0.942778   \n2              0.911111              0.955556            0.942778   \n3              0.911111              0.955556            0.942778   \n4              0.911111              0.955556            0.942778   \n5              0.911111              0.955556            0.942778   \n6              0.911111              0.955556            0.942778   \n\n   std_test_accuracy  rank_test_accuracy  \n0           0.018266                   1  \n1           0.018266                   1  \n2           0.018266                   1  \n3           0.018266                   1  \n4           0.018266                   1  \n5           0.018266                   1  \n6           0.018266                   1  \n\n[7 rows x 58 columns]",
      "text/html": "<div>\n<style scoped>\n    .dataframe tbody tr th:only-of-type {\n        vertical-align: middle;\n    }\n\n    .dataframe tbody tr th {\n        vertical-align: top;\n    }\n\n    .dataframe thead th {\n        text-align: right;\n    }\n</style>\n<table border=\"1\" class=\"dataframe\">\n  <thead>\n    <tr style=\"text-align: right;\">\n      <th></th>\n      <th>mean_fit_time</th>\n      <th>std_fit_time</th>\n      <th>mean_score_time</th>\n      <th>std_score_time</th>\n      <th>param_C</th>\n      <th>params</th>\n      <th>split0_test_f1</th>\n      <th>split1_test_f1</th>\n      <th>split2_test_f1</th>\n      <th>split3_test_f1</th>\n      <th>...</th>\n      <th>split3_test_accuracy</th>\n      <th>split4_test_accuracy</th>\n      <th>split5_test_accuracy</th>\n      <th>split6_test_accuracy</th>\n      <th>split7_test_accuracy</th>\n      <th>split8_test_accuracy</th>\n      <th>split9_test_accuracy</th>\n      <th>mean_test_accuracy</th>\n      <th>std_test_accuracy</th>\n      <th>rank_test_accuracy</th>\n    </tr>\n  </thead>\n  <tbody>\n    <tr>\n      <th>0</th>\n      <td>127.653659</td>\n      <td>0.857349</td>\n      <td>10.435880</td>\n      <td>0.104752</td>\n      <td>0.001</td>\n      <td>{'C': 0.001}</td>\n      <td>0.937853</td>\n      <td>0.972678</td>\n      <td>0.961326</td>\n      <td>0.955556</td>\n      <td>...</td>\n      <td>0.955556</td>\n      <td>0.916667</td>\n      <td>0.938889</td>\n      <td>0.933333</td>\n      <td>0.944444</td>\n      <td>0.911111</td>\n      <td>0.955556</td>\n      <td>0.942778</td>\n      <td>0.018266</td>\n      <td>1</td>\n    </tr>\n    <tr>\n      <th>1</th>\n      <td>127.563728</td>\n      <td>1.206513</td>\n      <td>10.450411</td>\n      <td>0.217847</td>\n      <td>0.01</td>\n      <td>{'C': 0.01}</td>\n      <td>0.937853</td>\n      <td>0.972678</td>\n      <td>0.961326</td>\n      <td>0.955556</td>\n      <td>...</td>\n      <td>0.955556</td>\n      <td>0.916667</td>\n      <td>0.938889</td>\n      <td>0.933333</td>\n      <td>0.944444</td>\n      <td>0.911111</td>\n      <td>0.955556</td>\n      <td>0.942778</td>\n      <td>0.018266</td>\n      <td>1</td>\n    </tr>\n    <tr>\n      <th>2</th>\n      <td>125.323500</td>\n      <td>0.786658</td>\n      <td>10.257011</td>\n      <td>0.097810</td>\n      <td>0.1</td>\n      <td>{'C': 0.1}</td>\n      <td>0.937853</td>\n      <td>0.972678</td>\n      <td>0.961326</td>\n      <td>0.955556</td>\n      <td>...</td>\n      <td>0.955556</td>\n      <td>0.916667</td>\n      <td>0.938889</td>\n      <td>0.933333</td>\n      <td>0.944444</td>\n      <td>0.911111</td>\n      <td>0.955556</td>\n      <td>0.942778</td>\n      <td>0.018266</td>\n      <td>1</td>\n    </tr>\n    <tr>\n      <th>3</th>\n      <td>125.276721</td>\n      <td>0.691191</td>\n      <td>10.255443</td>\n      <td>0.098460</td>\n      <td>1</td>\n      <td>{'C': 1}</td>\n      <td>0.937853</td>\n      <td>0.972678</td>\n      <td>0.961326</td>\n      <td>0.955556</td>\n      <td>...</td>\n      <td>0.955556</td>\n      <td>0.916667</td>\n      <td>0.938889</td>\n      <td>0.933333</td>\n      <td>0.944444</td>\n      <td>0.911111</td>\n      <td>0.955556</td>\n      <td>0.942778</td>\n      <td>0.018266</td>\n      <td>1</td>\n    </tr>\n    <tr>\n      <th>4</th>\n      <td>125.043476</td>\n      <td>0.582035</td>\n      <td>10.231555</td>\n      <td>0.071180</td>\n      <td>10</td>\n      <td>{'C': 10}</td>\n      <td>0.937853</td>\n      <td>0.972678</td>\n      <td>0.961326</td>\n      <td>0.955556</td>\n      <td>...</td>\n      <td>0.955556</td>\n      <td>0.916667</td>\n      <td>0.938889</td>\n      <td>0.933333</td>\n      <td>0.944444</td>\n      <td>0.911111</td>\n      <td>0.955556</td>\n      <td>0.942778</td>\n      <td>0.018266</td>\n      <td>1</td>\n    </tr>\n    <tr>\n      <th>5</th>\n      <td>125.141665</td>\n      <td>0.689061</td>\n      <td>10.255118</td>\n      <td>0.087312</td>\n      <td>100</td>\n      <td>{'C': 100}</td>\n      <td>0.937853</td>\n      <td>0.972678</td>\n      <td>0.961326</td>\n      <td>0.955556</td>\n      <td>...</td>\n      <td>0.955556</td>\n      <td>0.916667</td>\n      <td>0.938889</td>\n      <td>0.933333</td>\n      <td>0.944444</td>\n      <td>0.911111</td>\n      <td>0.955556</td>\n      <td>0.942778</td>\n      <td>0.018266</td>\n      <td>1</td>\n    </tr>\n    <tr>\n      <th>6</th>\n      <td>125.151880</td>\n      <td>0.651139</td>\n      <td>10.323431</td>\n      <td>0.250689</td>\n      <td>1000</td>\n      <td>{'C': 1000}</td>\n      <td>0.937853</td>\n      <td>0.972678</td>\n      <td>0.961326</td>\n      <td>0.955556</td>\n      <td>...</td>\n      <td>0.955556</td>\n      <td>0.916667</td>\n      <td>0.938889</td>\n      <td>0.933333</td>\n      <td>0.944444</td>\n      <td>0.911111</td>\n      <td>0.955556</td>\n      <td>0.942778</td>\n      <td>0.018266</td>\n      <td>1</td>\n    </tr>\n  </tbody>\n</table>\n<p>7 rows × 58 columns</p>\n</div>"
     },
     "execution_count": 36,
     "metadata": {},
     "output_type": "execute_result"
    }
   ],
   "source": [
    "cv_result = pd.DataFrame(grid.cv_results_)\n",
    "cv_result.to_csv(r'result\\cv_result.csv')\n",
    "cv_result"
   ],
   "metadata": {
    "collapsed": false,
    "ExecuteTime": {
     "end_time": "2023-09-15T09:58:40.371917400Z",
     "start_time": "2023-09-15T09:58:40.330840200Z"
    }
   },
   "id": "22a3767b85819a3"
  },
  {
   "cell_type": "code",
   "execution_count": 37,
   "outputs": [
    {
     "data": {
      "text/plain": "  param_C  mean_test_f1  mean_test_precision  mean_test_recall  \\\n0   0.001      0.942419             0.945346          0.940049   \n1    0.01      0.942419             0.945346          0.940049   \n2     0.1      0.942419             0.945346          0.940049   \n3       1      0.942419             0.945346          0.940049   \n4      10      0.942419             0.945346          0.940049   \n5     100      0.942419             0.945346          0.940049   \n6    1000      0.942419             0.945346          0.940049   \n\n   mean_test_accuracy  \n0            0.942778  \n1            0.942778  \n2            0.942778  \n3            0.942778  \n4            0.942778  \n5            0.942778  \n6            0.942778  ",
      "text/html": "<div>\n<style scoped>\n    .dataframe tbody tr th:only-of-type {\n        vertical-align: middle;\n    }\n\n    .dataframe tbody tr th {\n        vertical-align: top;\n    }\n\n    .dataframe thead th {\n        text-align: right;\n    }\n</style>\n<table border=\"1\" class=\"dataframe\">\n  <thead>\n    <tr style=\"text-align: right;\">\n      <th></th>\n      <th>param_C</th>\n      <th>mean_test_f1</th>\n      <th>mean_test_precision</th>\n      <th>mean_test_recall</th>\n      <th>mean_test_accuracy</th>\n    </tr>\n  </thead>\n  <tbody>\n    <tr>\n      <th>0</th>\n      <td>0.001</td>\n      <td>0.942419</td>\n      <td>0.945346</td>\n      <td>0.940049</td>\n      <td>0.942778</td>\n    </tr>\n    <tr>\n      <th>1</th>\n      <td>0.01</td>\n      <td>0.942419</td>\n      <td>0.945346</td>\n      <td>0.940049</td>\n      <td>0.942778</td>\n    </tr>\n    <tr>\n      <th>2</th>\n      <td>0.1</td>\n      <td>0.942419</td>\n      <td>0.945346</td>\n      <td>0.940049</td>\n      <td>0.942778</td>\n    </tr>\n    <tr>\n      <th>3</th>\n      <td>1</td>\n      <td>0.942419</td>\n      <td>0.945346</td>\n      <td>0.940049</td>\n      <td>0.942778</td>\n    </tr>\n    <tr>\n      <th>4</th>\n      <td>10</td>\n      <td>0.942419</td>\n      <td>0.945346</td>\n      <td>0.940049</td>\n      <td>0.942778</td>\n    </tr>\n    <tr>\n      <th>5</th>\n      <td>100</td>\n      <td>0.942419</td>\n      <td>0.945346</td>\n      <td>0.940049</td>\n      <td>0.942778</td>\n    </tr>\n    <tr>\n      <th>6</th>\n      <td>1000</td>\n      <td>0.942419</td>\n      <td>0.945346</td>\n      <td>0.940049</td>\n      <td>0.942778</td>\n    </tr>\n  </tbody>\n</table>\n</div>"
     },
     "execution_count": 37,
     "metadata": {},
     "output_type": "execute_result"
    }
   ],
   "source": [
    "cv_result[['param_C', 'mean_test_f1', 'mean_test_precision', 'mean_test_recall', 'mean_test_accuracy']]"
   ],
   "metadata": {
    "collapsed": false,
    "ExecuteTime": {
     "end_time": "2023-09-15T09:58:46.257788700Z",
     "start_time": "2023-09-15T09:58:46.233788900Z"
    }
   },
   "id": "997c699129dd2d46"
  },
  {
   "cell_type": "markdown",
   "source": [
    "### Build and run the model\n",
    "\n",
    "Because all metrics are the same on all C, we train it using the C that provide the least fit time, that is C=10"
   ],
   "metadata": {
    "collapsed": false
   },
   "id": "f0b68d13ebda9123"
  },
  {
   "cell_type": "code",
   "execution_count": 15,
   "outputs": [],
   "source": [
    "best_param_svm = SVC(kernel=\"linear\", C=1, random_state=42)"
   ],
   "metadata": {
    "collapsed": false,
    "ExecuteTime": {
     "end_time": "2023-09-16T13:17:34.978988800Z",
     "start_time": "2023-09-16T13:17:34.968990200Z"
    }
   },
   "id": "2b6925623779762d"
  },
  {
   "cell_type": "markdown",
   "source": [
    "## Evaluate Model\n",
    "\n",
    "Evaluate using cross validation"
   ],
   "metadata": {
    "collapsed": false
   },
   "id": "cd91ff0c94ae0467"
  },
  {
   "cell_type": "code",
   "execution_count": null,
   "outputs": [],
   "source": [
    "# selected_features_df = pd.read_parquet(r'data\\selected_features.parquet')"
   ],
   "metadata": {
    "collapsed": false
   },
   "id": "66d53a4d16b18ecf"
  },
  {
   "cell_type": "code",
   "execution_count": 19,
   "outputs": [
    {
     "name": "stdout",
     "output_type": "stream",
     "text": [
      "[CV] END  accuracy: (test=0.890) f1: (test=0.896) precision: (test=0.848) recall: (test=0.950) total time= 3.0min\n",
      "[CV] END  accuracy: (test=0.935) f1: (test=0.932) precision: (test=0.978) recall: (test=0.890) total time= 3.0min\n",
      "[CV] END  accuracy: (test=0.905) f1: (test=0.897) precision: (test=0.976) recall: (test=0.830) total time= 2.9min\n",
      "[CV] END  accuracy: (test=0.870) f1: (test=0.856) precision: (test=0.963) recall: (test=0.770) total time= 3.0min\n",
      "[CV] END  accuracy: (test=0.940) f1: (test=0.937) precision: (test=0.989) recall: (test=0.890) total time= 2.9min\n",
      "[CV] END  accuracy: (test=0.970) f1: (test=0.970) precision: (test=0.980) recall: (test=0.960) total time= 3.0min\n",
      "[CV] END  accuracy: (test=0.780) f1: (test=0.802) precision: (test=0.730) recall: (test=0.890) total time= 2.8min\n",
      "[CV] END  accuracy: (test=0.960) f1: (test=0.961) precision: (test=0.934) recall: (test=0.990) total time= 3.1min\n",
      "[CV] END  accuracy: (test=0.940) f1: (test=0.943) precision: (test=0.900) recall: (test=0.990) total time= 2.9min\n",
      "[CV] END  accuracy: (test=0.900) f1: (test=0.903) precision: (test=0.877) recall: (test=0.930) total time= 2.8min\n"
     ]
    }
   ],
   "source": [
    "scores = cross_validate(best_param_svm, selected_features_df, label,\n",
    "                        cv=10, scoring=['f1', 'accuracy', 'recall', 'precision'],\n",
    "                        verbose=3)"
   ],
   "metadata": {
    "collapsed": false,
    "ExecuteTime": {
     "end_time": "2023-09-16T14:02:43.588440300Z",
     "start_time": "2023-09-16T13:33:14.217445400Z"
    }
   },
   "id": "14b0246294e7766b"
  },
  {
   "cell_type": "code",
   "execution_count": 21,
   "outputs": [
    {
     "data": {
      "text/plain": "     fit_time  score_time   test_f1  test_accuracy  test_recall  \\\n0  165.425424   13.626449  0.896226          0.890         0.95   \n1  167.296643   13.811072  0.931937          0.935         0.89   \n2  163.531021   13.304779  0.897297          0.905         0.83   \n3  165.811874   12.933800  0.855556          0.870         0.77   \n4  162.199522   13.184747  0.936842          0.940         0.89   \n5  168.695342   13.323353  0.969697          0.970         0.96   \n6  157.792019   12.811998  0.801802          0.780         0.89   \n7  169.701420   13.536185  0.961165          0.960         0.99   \n8  164.030420   12.657279  0.942857          0.940         0.99   \n9  152.751681   12.349239  0.902913          0.900         0.93   \n\n   test_precision  \n0        0.848214  \n1        0.978022  \n2        0.976471  \n3        0.962500  \n4        0.988889  \n5        0.979592  \n6        0.729508  \n7        0.933962  \n8        0.900000  \n9        0.877358  ",
      "text/html": "<div>\n<style scoped>\n    .dataframe tbody tr th:only-of-type {\n        vertical-align: middle;\n    }\n\n    .dataframe tbody tr th {\n        vertical-align: top;\n    }\n\n    .dataframe thead th {\n        text-align: right;\n    }\n</style>\n<table border=\"1\" class=\"dataframe\">\n  <thead>\n    <tr style=\"text-align: right;\">\n      <th></th>\n      <th>fit_time</th>\n      <th>score_time</th>\n      <th>test_f1</th>\n      <th>test_accuracy</th>\n      <th>test_recall</th>\n      <th>test_precision</th>\n    </tr>\n  </thead>\n  <tbody>\n    <tr>\n      <th>0</th>\n      <td>165.425424</td>\n      <td>13.626449</td>\n      <td>0.896226</td>\n      <td>0.890</td>\n      <td>0.95</td>\n      <td>0.848214</td>\n    </tr>\n    <tr>\n      <th>1</th>\n      <td>167.296643</td>\n      <td>13.811072</td>\n      <td>0.931937</td>\n      <td>0.935</td>\n      <td>0.89</td>\n      <td>0.978022</td>\n    </tr>\n    <tr>\n      <th>2</th>\n      <td>163.531021</td>\n      <td>13.304779</td>\n      <td>0.897297</td>\n      <td>0.905</td>\n      <td>0.83</td>\n      <td>0.976471</td>\n    </tr>\n    <tr>\n      <th>3</th>\n      <td>165.811874</td>\n      <td>12.933800</td>\n      <td>0.855556</td>\n      <td>0.870</td>\n      <td>0.77</td>\n      <td>0.962500</td>\n    </tr>\n    <tr>\n      <th>4</th>\n      <td>162.199522</td>\n      <td>13.184747</td>\n      <td>0.936842</td>\n      <td>0.940</td>\n      <td>0.89</td>\n      <td>0.988889</td>\n    </tr>\n    <tr>\n      <th>5</th>\n      <td>168.695342</td>\n      <td>13.323353</td>\n      <td>0.969697</td>\n      <td>0.970</td>\n      <td>0.96</td>\n      <td>0.979592</td>\n    </tr>\n    <tr>\n      <th>6</th>\n      <td>157.792019</td>\n      <td>12.811998</td>\n      <td>0.801802</td>\n      <td>0.780</td>\n      <td>0.89</td>\n      <td>0.729508</td>\n    </tr>\n    <tr>\n      <th>7</th>\n      <td>169.701420</td>\n      <td>13.536185</td>\n      <td>0.961165</td>\n      <td>0.960</td>\n      <td>0.99</td>\n      <td>0.933962</td>\n    </tr>\n    <tr>\n      <th>8</th>\n      <td>164.030420</td>\n      <td>12.657279</td>\n      <td>0.942857</td>\n      <td>0.940</td>\n      <td>0.99</td>\n      <td>0.900000</td>\n    </tr>\n    <tr>\n      <th>9</th>\n      <td>152.751681</td>\n      <td>12.349239</td>\n      <td>0.902913</td>\n      <td>0.900</td>\n      <td>0.93</td>\n      <td>0.877358</td>\n    </tr>\n  </tbody>\n</table>\n</div>"
     },
     "execution_count": 21,
     "metadata": {},
     "output_type": "execute_result"
    }
   ],
   "source": [
    "cv_scores_df = pd.DataFrame(scores)\n",
    "cv_scores_df.to_csv(r'result\\cv_scores.csv')\n",
    "cv_scores_df"
   ],
   "metadata": {
    "collapsed": false,
    "ExecuteTime": {
     "end_time": "2023-09-16T14:17:46.910744800Z",
     "start_time": "2023-09-16T14:17:46.684895400Z"
    }
   },
   "id": "d360bfc4edf0dbb3"
  }
 ],
 "metadata": {
  "kernelspec": {
   "display_name": "Python 3",
   "language": "python",
   "name": "python3"
  },
  "language_info": {
   "codemirror_mode": {
    "name": "ipython",
    "version": 2
   },
   "file_extension": ".py",
   "mimetype": "text/x-python",
   "name": "python",
   "nbconvert_exporter": "python",
   "pygments_lexer": "ipython2",
   "version": "2.7.6"
  }
 },
 "nbformat": 4,
 "nbformat_minor": 5
}
