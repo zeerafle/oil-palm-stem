{
 "cells": [
  {
   "cell_type": "markdown",
   "id": "141f1cecc4308e34",
   "metadata": {
    "collapsed": false
   },
   "source": [
    "# Code lab for Skripsi (Refined)\n",
    "\n",
    "This branch implements the real world scenario of feature selection-train-cross validate-test sequence, so that the validation data does not get leaked by the feature selection method.\n",
    "\n",
    "Feature extraction part is done in `deep_feature_extractior.ipynb` files. This file is used to feature selection and train model"
   ]
  },
  {
   "cell_type": "code",
   "execution_count": 1,
   "id": "4fa8054b82944eb4",
   "metadata": {
    "collapsed": false,
    "ExecuteTime": {
     "end_time": "2023-10-26T10:17:57.917627800Z",
     "start_time": "2023-10-26T10:17:55.801929900Z"
    }
   },
   "outputs": [],
   "source": [
    "import pandas as pd\n",
    "import numpy as np\n",
    "from sklearn.feature_selection import SelectFromModel\n",
    "from sklearn.svm import SVC\n",
    "from sklearn.model_selection import GridSearchCV, cross_validate\n",
    "from sklearn.model_selection import train_test_split\n",
    "from sklearn.pipeline import make_pipeline\n",
    "from sklearn import metrics\n",
    "import matplotlib.pyplot as plt\n",
    "\n",
    "import joblib"
   ]
  },
  {
   "cell_type": "code",
   "execution_count": 2,
   "id": "fef4abaaab78ba0f",
   "metadata": {
    "collapsed": false,
    "ExecuteTime": {
     "end_time": "2023-10-26T10:18:05.272140200Z",
     "start_time": "2023-10-26T10:18:05.051139800Z"
    }
   },
   "outputs": [],
   "source": [
    "df = pd.read_parquet('data/resnet50_img_feature_224_globalavgpool.parquet')"
   ]
  },
  {
   "cell_type": "code",
   "execution_count": 3,
   "outputs": [],
   "source": [
    "file_name = df.pop('file_name')\n",
    "label = df.pop('is_infected')"
   ],
   "metadata": {
    "collapsed": false,
    "ExecuteTime": {
     "end_time": "2023-10-26T10:18:06.606714800Z",
     "start_time": "2023-10-26T10:18:06.587712Z"
    }
   },
   "id": "95f6b4a0e70b7b5f"
  },
  {
   "cell_type": "code",
   "execution_count": 4,
   "outputs": [],
   "source": [
    "# split data\n",
    "X_train, X_test, y_train, y_test = train_test_split(df, label, test_size=0.2, random_state=42)"
   ],
   "metadata": {
    "collapsed": false,
    "ExecuteTime": {
     "end_time": "2023-10-26T10:18:07.942202200Z",
     "start_time": "2023-10-26T10:18:07.908205600Z"
    }
   },
   "id": "f448f428cea741b8"
  },
  {
   "cell_type": "markdown",
   "source": [
    "## Hyperparameter tuning with Cross Validation\n",
    "\n",
    "Find Hyperparameter C with cross validation and will be using k=10. Metrics being used is F1-Score, Recall, Precision, and Accuracy."
   ],
   "metadata": {
    "collapsed": false
   },
   "id": "b0966cb8af05edf0"
  },
  {
   "cell_type": "markdown",
   "source": [
    "### With Feature Selection"
   ],
   "metadata": {
    "collapsed": false
   },
   "id": "da9335d3e87d0662"
  },
  {
   "cell_type": "code",
   "execution_count": 5,
   "outputs": [
    {
     "name": "stdout",
     "output_type": "stream",
     "text": [
      "C = 0.001\n",
      "-------------------------\n",
      "C = 0.01\n",
      "-------------------------\n",
      "C = 0.1\n",
      "-------------------------\n",
      "C = 1\n",
      "-------------------------\n",
      "C = 10\n",
      "-------------------------\n",
      "C = 100\n",
      "-------------------------\n",
      "C = 1000\n",
      "-------------------------\n"
     ]
    }
   ],
   "source": [
    "svc_C = [0.001, 0.01, 0.1, 1, 10, 100, 1000]\n",
    "METRICS = ['f1', 'recall', 'precision', 'accuracy']\n",
    "cv_results = []\n",
    "\n",
    "for c in svc_C:\n",
    "    svm = SVC(kernel='linear', C=c, random_state=42)\n",
    "    selector = SelectFromModel(svm)\n",
    "    pipeline = make_pipeline(selector, svm)\n",
    "    # pipeline.fit(X_train, y_train)\n",
    "    cv_result = cross_validate(pipeline, X_train, y_train, cv=5, scoring=METRICS)\n",
    "    cv_results.append(cv_result)\n",
    "    print('C =', c)\n",
    "    # print('Threshold :', pipeline['selectfrommodel'].threshold_)\n",
    "    # print('No. selected feature :', pipeline['selectfrommodel'].get_feature_names_out().shape)\n",
    "    # print('Accuracy :', pipeline.score(X_test, y_test))\n",
    "    print('-------------------------\\n')"
   ],
   "metadata": {
    "collapsed": false,
    "ExecuteTime": {
     "end_time": "2023-10-26T10:18:46.487605300Z",
     "start_time": "2023-10-26T10:18:19.984605300Z"
    }
   },
   "id": "4ae9e357d80e2204"
  },
  {
   "cell_type": "code",
   "execution_count": 6,
   "outputs": [
    {
     "data": {
      "text/plain": "   split0_fit_time  split1_fit_time  split2_fit_time  split3_fit_time  \\\n0         0.846998         0.711000         0.750999         0.826000   \n1         0.724000         0.641000         0.636000         0.628000   \n2         0.778000         0.683001         0.690999         0.672000   \n3         0.984000         0.683000         0.688000         0.709001   \n4         0.765000         0.754000         0.696001         0.685000   \n5         0.791000         0.695000         0.789000         0.685000   \n6         0.719000         0.682000         0.696000         0.715998   \n\n   split4_fit_time  split0_score_time  split1_score_time  split2_score_time  \\\n0         0.697999           0.035001              0.037           0.036999   \n1         0.821000           0.034999              0.033           0.034000   \n2         0.674000           0.028000              0.033           0.030000   \n3         0.660000           0.030000              0.030           0.031000   \n4         0.677000           0.031000              0.031           0.030998   \n5         0.673000           0.030000              0.043           0.030000   \n6         0.732000           0.029000              0.029           0.040002   \n\n   split3_score_time  split4_score_time  ...  split0_test_precision  \\\n0           0.038000              0.035  ...               0.816092   \n1           0.033000              0.038  ...               0.829268   \n2           0.029999              0.031  ...               0.832298   \n3           0.031002              0.030  ...               0.830303   \n4           0.031000              0.030  ...               0.830303   \n5           0.033000              0.031  ...               0.830303   \n6           0.031000              0.032  ...               0.830303   \n\n   split1_test_precision  split2_test_precision  split3_test_precision  \\\n0               0.819355               0.826087               0.817647   \n1               0.834395               0.829412               0.839286   \n2               0.830065               0.792683               0.826087   \n3               0.836601               0.792683               0.822086   \n4               0.836601               0.792683               0.822086   \n5               0.836601               0.792683               0.822086   \n6               0.836601               0.792683               0.822086   \n\n   split4_test_precision  split0_test_accuracy  split1_test_accuracy  \\\n0               0.857143              0.840625              0.809375   \n1               0.881119              0.834375              0.828125   \n2               0.836601              0.831250              0.815625   \n3               0.846667              0.837500              0.821875   \n4               0.846667              0.837500              0.821875   \n5               0.846667              0.837500              0.821875   \n6               0.846667              0.837500              0.821875   \n\n   split2_test_accuracy  split3_test_accuracy  split4_test_accuracy  \n0              0.828125              0.837500              0.843750  \n1              0.850000              0.856250              0.840625  \n2              0.800000              0.828125              0.821875  \n3              0.800000              0.828125              0.825000  \n4              0.800000              0.828125              0.825000  \n5              0.800000              0.828125              0.825000  \n6              0.800000              0.828125              0.825000  \n\n[7 rows x 30 columns]",
      "text/html": "<div>\n<style scoped>\n    .dataframe tbody tr th:only-of-type {\n        vertical-align: middle;\n    }\n\n    .dataframe tbody tr th {\n        vertical-align: top;\n    }\n\n    .dataframe thead th {\n        text-align: right;\n    }\n</style>\n<table border=\"1\" class=\"dataframe\">\n  <thead>\n    <tr style=\"text-align: right;\">\n      <th></th>\n      <th>split0_fit_time</th>\n      <th>split1_fit_time</th>\n      <th>split2_fit_time</th>\n      <th>split3_fit_time</th>\n      <th>split4_fit_time</th>\n      <th>split0_score_time</th>\n      <th>split1_score_time</th>\n      <th>split2_score_time</th>\n      <th>split3_score_time</th>\n      <th>split4_score_time</th>\n      <th>...</th>\n      <th>split0_test_precision</th>\n      <th>split1_test_precision</th>\n      <th>split2_test_precision</th>\n      <th>split3_test_precision</th>\n      <th>split4_test_precision</th>\n      <th>split0_test_accuracy</th>\n      <th>split1_test_accuracy</th>\n      <th>split2_test_accuracy</th>\n      <th>split3_test_accuracy</th>\n      <th>split4_test_accuracy</th>\n    </tr>\n  </thead>\n  <tbody>\n    <tr>\n      <th>0</th>\n      <td>0.846998</td>\n      <td>0.711000</td>\n      <td>0.750999</td>\n      <td>0.826000</td>\n      <td>0.697999</td>\n      <td>0.035001</td>\n      <td>0.037</td>\n      <td>0.036999</td>\n      <td>0.038000</td>\n      <td>0.035</td>\n      <td>...</td>\n      <td>0.816092</td>\n      <td>0.819355</td>\n      <td>0.826087</td>\n      <td>0.817647</td>\n      <td>0.857143</td>\n      <td>0.840625</td>\n      <td>0.809375</td>\n      <td>0.828125</td>\n      <td>0.837500</td>\n      <td>0.843750</td>\n    </tr>\n    <tr>\n      <th>1</th>\n      <td>0.724000</td>\n      <td>0.641000</td>\n      <td>0.636000</td>\n      <td>0.628000</td>\n      <td>0.821000</td>\n      <td>0.034999</td>\n      <td>0.033</td>\n      <td>0.034000</td>\n      <td>0.033000</td>\n      <td>0.038</td>\n      <td>...</td>\n      <td>0.829268</td>\n      <td>0.834395</td>\n      <td>0.829412</td>\n      <td>0.839286</td>\n      <td>0.881119</td>\n      <td>0.834375</td>\n      <td>0.828125</td>\n      <td>0.850000</td>\n      <td>0.856250</td>\n      <td>0.840625</td>\n    </tr>\n    <tr>\n      <th>2</th>\n      <td>0.778000</td>\n      <td>0.683001</td>\n      <td>0.690999</td>\n      <td>0.672000</td>\n      <td>0.674000</td>\n      <td>0.028000</td>\n      <td>0.033</td>\n      <td>0.030000</td>\n      <td>0.029999</td>\n      <td>0.031</td>\n      <td>...</td>\n      <td>0.832298</td>\n      <td>0.830065</td>\n      <td>0.792683</td>\n      <td>0.826087</td>\n      <td>0.836601</td>\n      <td>0.831250</td>\n      <td>0.815625</td>\n      <td>0.800000</td>\n      <td>0.828125</td>\n      <td>0.821875</td>\n    </tr>\n    <tr>\n      <th>3</th>\n      <td>0.984000</td>\n      <td>0.683000</td>\n      <td>0.688000</td>\n      <td>0.709001</td>\n      <td>0.660000</td>\n      <td>0.030000</td>\n      <td>0.030</td>\n      <td>0.031000</td>\n      <td>0.031002</td>\n      <td>0.030</td>\n      <td>...</td>\n      <td>0.830303</td>\n      <td>0.836601</td>\n      <td>0.792683</td>\n      <td>0.822086</td>\n      <td>0.846667</td>\n      <td>0.837500</td>\n      <td>0.821875</td>\n      <td>0.800000</td>\n      <td>0.828125</td>\n      <td>0.825000</td>\n    </tr>\n    <tr>\n      <th>4</th>\n      <td>0.765000</td>\n      <td>0.754000</td>\n      <td>0.696001</td>\n      <td>0.685000</td>\n      <td>0.677000</td>\n      <td>0.031000</td>\n      <td>0.031</td>\n      <td>0.030998</td>\n      <td>0.031000</td>\n      <td>0.030</td>\n      <td>...</td>\n      <td>0.830303</td>\n      <td>0.836601</td>\n      <td>0.792683</td>\n      <td>0.822086</td>\n      <td>0.846667</td>\n      <td>0.837500</td>\n      <td>0.821875</td>\n      <td>0.800000</td>\n      <td>0.828125</td>\n      <td>0.825000</td>\n    </tr>\n    <tr>\n      <th>5</th>\n      <td>0.791000</td>\n      <td>0.695000</td>\n      <td>0.789000</td>\n      <td>0.685000</td>\n      <td>0.673000</td>\n      <td>0.030000</td>\n      <td>0.043</td>\n      <td>0.030000</td>\n      <td>0.033000</td>\n      <td>0.031</td>\n      <td>...</td>\n      <td>0.830303</td>\n      <td>0.836601</td>\n      <td>0.792683</td>\n      <td>0.822086</td>\n      <td>0.846667</td>\n      <td>0.837500</td>\n      <td>0.821875</td>\n      <td>0.800000</td>\n      <td>0.828125</td>\n      <td>0.825000</td>\n    </tr>\n    <tr>\n      <th>6</th>\n      <td>0.719000</td>\n      <td>0.682000</td>\n      <td>0.696000</td>\n      <td>0.715998</td>\n      <td>0.732000</td>\n      <td>0.029000</td>\n      <td>0.029</td>\n      <td>0.040002</td>\n      <td>0.031000</td>\n      <td>0.032</td>\n      <td>...</td>\n      <td>0.830303</td>\n      <td>0.836601</td>\n      <td>0.792683</td>\n      <td>0.822086</td>\n      <td>0.846667</td>\n      <td>0.837500</td>\n      <td>0.821875</td>\n      <td>0.800000</td>\n      <td>0.828125</td>\n      <td>0.825000</td>\n    </tr>\n  </tbody>\n</table>\n<p>7 rows × 30 columns</p>\n</div>"
     },
     "execution_count": 6,
     "metadata": {},
     "output_type": "execute_result"
    }
   ],
   "source": [
    "results_array = []\n",
    "for i in range(len(cv_results)):\n",
    "    results_array.append(np.concatenate(list(cv_results[i].values())))\n",
    "results_array = np.vstack(results_array)\n",
    "\n",
    "columns_list = [f'split{i}_{x}' for x in cv_results[0].keys() for i in range(5)]\n",
    "cv_results_df = pd.DataFrame(results_array,\n",
    "                             columns=columns_list)\n",
    "cv_results_df"
   ],
   "metadata": {
    "collapsed": false,
    "ExecuteTime": {
     "end_time": "2023-10-26T10:18:55.510520100Z",
     "start_time": "2023-10-26T10:18:55.451521600Z"
    }
   },
   "id": "5e5b4ad6e49f9e37"
  },
  {
   "cell_type": "code",
   "execution_count": 7,
   "outputs": [
    {
     "data": {
      "text/plain": "          C  split0_fit_time  split1_fit_time  split2_fit_time  \\\n0     0.001         0.846998         0.711000         0.750999   \n1     0.010         0.724000         0.641000         0.636000   \n2     0.100         0.778000         0.683001         0.690999   \n3     1.000         0.984000         0.683000         0.688000   \n4    10.000         0.765000         0.754000         0.696001   \n5   100.000         0.791000         0.695000         0.789000   \n6  1000.000         0.719000         0.682000         0.696000   \n\n   split3_fit_time  split4_fit_time  split0_score_time  split1_score_time  \\\n0         0.826000         0.697999           0.035001              0.037   \n1         0.628000         0.821000           0.034999              0.033   \n2         0.672000         0.674000           0.028000              0.033   \n3         0.709001         0.660000           0.030000              0.030   \n4         0.685000         0.677000           0.031000              0.031   \n5         0.685000         0.673000           0.030000              0.043   \n6         0.715998         0.732000           0.029000              0.029   \n\n   split2_score_time  split3_score_time  ...  split1_test_accuracy  \\\n0           0.036999           0.038000  ...              0.809375   \n1           0.034000           0.033000  ...              0.828125   \n2           0.030000           0.029999  ...              0.815625   \n3           0.031000           0.031002  ...              0.821875   \n4           0.030998           0.031000  ...              0.821875   \n5           0.030000           0.033000  ...              0.821875   \n6           0.040002           0.031000  ...              0.821875   \n\n   split2_test_accuracy  split3_test_accuracy  split4_test_accuracy  \\\n0              0.828125              0.837500              0.843750   \n1              0.850000              0.856250              0.840625   \n2              0.800000              0.828125              0.821875   \n3              0.800000              0.828125              0.825000   \n4              0.800000              0.828125              0.825000   \n5              0.800000              0.828125              0.825000   \n6              0.800000              0.828125              0.825000   \n\n   mean_fit_time  mean_score_time  mean_test_f1  mean_test_recall  \\\n0       0.766599           0.0364      0.833192          0.840148   \n1       0.690000           0.0346      0.841881          0.842694   \n2       0.699600           0.0304      0.818564          0.813960   \n3       0.744800           0.0304      0.821986          0.818936   \n4       0.715400           0.0308      0.821986          0.818936   \n5       0.726600           0.0334      0.821986          0.818936   \n6       0.709000           0.0322      0.821986          0.818936   \n\n   mean_test_precision  mean_test_accuracy  \n0             0.827265            0.831875  \n1             0.842696            0.841875  \n2             0.823547            0.819375  \n3             0.825668            0.822500  \n4             0.825668            0.822500  \n5             0.825668            0.822500  \n6             0.825668            0.822500  \n\n[7 rows x 37 columns]",
      "text/html": "<div>\n<style scoped>\n    .dataframe tbody tr th:only-of-type {\n        vertical-align: middle;\n    }\n\n    .dataframe tbody tr th {\n        vertical-align: top;\n    }\n\n    .dataframe thead th {\n        text-align: right;\n    }\n</style>\n<table border=\"1\" class=\"dataframe\">\n  <thead>\n    <tr style=\"text-align: right;\">\n      <th></th>\n      <th>C</th>\n      <th>split0_fit_time</th>\n      <th>split1_fit_time</th>\n      <th>split2_fit_time</th>\n      <th>split3_fit_time</th>\n      <th>split4_fit_time</th>\n      <th>split0_score_time</th>\n      <th>split1_score_time</th>\n      <th>split2_score_time</th>\n      <th>split3_score_time</th>\n      <th>...</th>\n      <th>split1_test_accuracy</th>\n      <th>split2_test_accuracy</th>\n      <th>split3_test_accuracy</th>\n      <th>split4_test_accuracy</th>\n      <th>mean_fit_time</th>\n      <th>mean_score_time</th>\n      <th>mean_test_f1</th>\n      <th>mean_test_recall</th>\n      <th>mean_test_precision</th>\n      <th>mean_test_accuracy</th>\n    </tr>\n  </thead>\n  <tbody>\n    <tr>\n      <th>0</th>\n      <td>0.001</td>\n      <td>0.846998</td>\n      <td>0.711000</td>\n      <td>0.750999</td>\n      <td>0.826000</td>\n      <td>0.697999</td>\n      <td>0.035001</td>\n      <td>0.037</td>\n      <td>0.036999</td>\n      <td>0.038000</td>\n      <td>...</td>\n      <td>0.809375</td>\n      <td>0.828125</td>\n      <td>0.837500</td>\n      <td>0.843750</td>\n      <td>0.766599</td>\n      <td>0.0364</td>\n      <td>0.833192</td>\n      <td>0.840148</td>\n      <td>0.827265</td>\n      <td>0.831875</td>\n    </tr>\n    <tr>\n      <th>1</th>\n      <td>0.010</td>\n      <td>0.724000</td>\n      <td>0.641000</td>\n      <td>0.636000</td>\n      <td>0.628000</td>\n      <td>0.821000</td>\n      <td>0.034999</td>\n      <td>0.033</td>\n      <td>0.034000</td>\n      <td>0.033000</td>\n      <td>...</td>\n      <td>0.828125</td>\n      <td>0.850000</td>\n      <td>0.856250</td>\n      <td>0.840625</td>\n      <td>0.690000</td>\n      <td>0.0346</td>\n      <td>0.841881</td>\n      <td>0.842694</td>\n      <td>0.842696</td>\n      <td>0.841875</td>\n    </tr>\n    <tr>\n      <th>2</th>\n      <td>0.100</td>\n      <td>0.778000</td>\n      <td>0.683001</td>\n      <td>0.690999</td>\n      <td>0.672000</td>\n      <td>0.674000</td>\n      <td>0.028000</td>\n      <td>0.033</td>\n      <td>0.030000</td>\n      <td>0.029999</td>\n      <td>...</td>\n      <td>0.815625</td>\n      <td>0.800000</td>\n      <td>0.828125</td>\n      <td>0.821875</td>\n      <td>0.699600</td>\n      <td>0.0304</td>\n      <td>0.818564</td>\n      <td>0.813960</td>\n      <td>0.823547</td>\n      <td>0.819375</td>\n    </tr>\n    <tr>\n      <th>3</th>\n      <td>1.000</td>\n      <td>0.984000</td>\n      <td>0.683000</td>\n      <td>0.688000</td>\n      <td>0.709001</td>\n      <td>0.660000</td>\n      <td>0.030000</td>\n      <td>0.030</td>\n      <td>0.031000</td>\n      <td>0.031002</td>\n      <td>...</td>\n      <td>0.821875</td>\n      <td>0.800000</td>\n      <td>0.828125</td>\n      <td>0.825000</td>\n      <td>0.744800</td>\n      <td>0.0304</td>\n      <td>0.821986</td>\n      <td>0.818936</td>\n      <td>0.825668</td>\n      <td>0.822500</td>\n    </tr>\n    <tr>\n      <th>4</th>\n      <td>10.000</td>\n      <td>0.765000</td>\n      <td>0.754000</td>\n      <td>0.696001</td>\n      <td>0.685000</td>\n      <td>0.677000</td>\n      <td>0.031000</td>\n      <td>0.031</td>\n      <td>0.030998</td>\n      <td>0.031000</td>\n      <td>...</td>\n      <td>0.821875</td>\n      <td>0.800000</td>\n      <td>0.828125</td>\n      <td>0.825000</td>\n      <td>0.715400</td>\n      <td>0.0308</td>\n      <td>0.821986</td>\n      <td>0.818936</td>\n      <td>0.825668</td>\n      <td>0.822500</td>\n    </tr>\n    <tr>\n      <th>5</th>\n      <td>100.000</td>\n      <td>0.791000</td>\n      <td>0.695000</td>\n      <td>0.789000</td>\n      <td>0.685000</td>\n      <td>0.673000</td>\n      <td>0.030000</td>\n      <td>0.043</td>\n      <td>0.030000</td>\n      <td>0.033000</td>\n      <td>...</td>\n      <td>0.821875</td>\n      <td>0.800000</td>\n      <td>0.828125</td>\n      <td>0.825000</td>\n      <td>0.726600</td>\n      <td>0.0334</td>\n      <td>0.821986</td>\n      <td>0.818936</td>\n      <td>0.825668</td>\n      <td>0.822500</td>\n    </tr>\n    <tr>\n      <th>6</th>\n      <td>1000.000</td>\n      <td>0.719000</td>\n      <td>0.682000</td>\n      <td>0.696000</td>\n      <td>0.715998</td>\n      <td>0.732000</td>\n      <td>0.029000</td>\n      <td>0.029</td>\n      <td>0.040002</td>\n      <td>0.031000</td>\n      <td>...</td>\n      <td>0.821875</td>\n      <td>0.800000</td>\n      <td>0.828125</td>\n      <td>0.825000</td>\n      <td>0.709000</td>\n      <td>0.0322</td>\n      <td>0.821986</td>\n      <td>0.818936</td>\n      <td>0.825668</td>\n      <td>0.822500</td>\n    </tr>\n  </tbody>\n</table>\n<p>7 rows × 37 columns</p>\n</div>"
     },
     "execution_count": 7,
     "metadata": {},
     "output_type": "execute_result"
    }
   ],
   "source": [
    "cv_results_df.insert(0, 'C', svc_C)\n",
    "cv_results_df['mean_fit_time'] = cv_results_df[['split0_fit_time', 'split1_fit_time', 'split2_fit_time', 'split3_fit_time', 'split4_fit_time']].mean(axis=1)\n",
    "cv_results_df['mean_score_time'] = cv_results_df[['split0_score_time', 'split1_score_time', 'split2_score_time', 'split3_score_time', 'split4_score_time']].mean(axis=1)\n",
    "cv_results_df['mean_test_f1'] = cv_results_df[['split0_test_f1', 'split1_test_f1', 'split2_test_f1', 'split3_test_f1', 'split4_test_f1']].mean(axis=1)\n",
    "cv_results_df['mean_test_recall'] = cv_results_df[['split0_test_recall', 'split1_test_recall', 'split2_test_recall', 'split3_test_recall', 'split4_test_recall']].mean(axis=1)\n",
    "cv_results_df['mean_test_precision'] = cv_results_df[['split0_test_precision', 'split1_test_precision', 'split2_test_precision', 'split3_test_precision', 'split4_test_precision']].mean(axis=1)\n",
    "cv_results_df['mean_test_accuracy'] = cv_results_df[['split0_test_accuracy', 'split1_test_accuracy', 'split2_test_accuracy', 'split3_test_accuracy', 'split4_test_accuracy']].mean(axis=1)\n",
    "cv_results_df"
   ],
   "metadata": {
    "collapsed": false,
    "ExecuteTime": {
     "end_time": "2023-10-26T10:19:02.237638200Z",
     "start_time": "2023-10-26T10:19:02.176639500Z"
    }
   },
   "id": "8e82a6fb6cb547a6"
  },
  {
   "cell_type": "code",
   "execution_count": 10,
   "outputs": [
    {
     "data": {
      "text/plain": "          C  mean_fit_time  mean_test_f1  mean_test_recall  \\\n0     0.001       0.766599      0.833192          0.840148   \n1     0.010       0.690000      0.841881          0.842694   \n2     0.100       0.699600      0.818564          0.813960   \n3     1.000       0.744800      0.821986          0.818936   \n4    10.000       0.715400      0.821986          0.818936   \n5   100.000       0.726600      0.821986          0.818936   \n6  1000.000       0.709000      0.821986          0.818936   \n\n   mean_test_precision  mean_test_accuracy  \n0             0.827265            0.831875  \n1             0.842696            0.841875  \n2             0.823547            0.819375  \n3             0.825668            0.822500  \n4             0.825668            0.822500  \n5             0.825668            0.822500  \n6             0.825668            0.822500  ",
      "text/html": "<div>\n<style scoped>\n    .dataframe tbody tr th:only-of-type {\n        vertical-align: middle;\n    }\n\n    .dataframe tbody tr th {\n        vertical-align: top;\n    }\n\n    .dataframe thead th {\n        text-align: right;\n    }\n</style>\n<table border=\"1\" class=\"dataframe\">\n  <thead>\n    <tr style=\"text-align: right;\">\n      <th></th>\n      <th>C</th>\n      <th>mean_fit_time</th>\n      <th>mean_test_f1</th>\n      <th>mean_test_recall</th>\n      <th>mean_test_precision</th>\n      <th>mean_test_accuracy</th>\n    </tr>\n  </thead>\n  <tbody>\n    <tr>\n      <th>0</th>\n      <td>0.001</td>\n      <td>0.766599</td>\n      <td>0.833192</td>\n      <td>0.840148</td>\n      <td>0.827265</td>\n      <td>0.831875</td>\n    </tr>\n    <tr>\n      <th>1</th>\n      <td>0.010</td>\n      <td>0.690000</td>\n      <td>0.841881</td>\n      <td>0.842694</td>\n      <td>0.842696</td>\n      <td>0.841875</td>\n    </tr>\n    <tr>\n      <th>2</th>\n      <td>0.100</td>\n      <td>0.699600</td>\n      <td>0.818564</td>\n      <td>0.813960</td>\n      <td>0.823547</td>\n      <td>0.819375</td>\n    </tr>\n    <tr>\n      <th>3</th>\n      <td>1.000</td>\n      <td>0.744800</td>\n      <td>0.821986</td>\n      <td>0.818936</td>\n      <td>0.825668</td>\n      <td>0.822500</td>\n    </tr>\n    <tr>\n      <th>4</th>\n      <td>10.000</td>\n      <td>0.715400</td>\n      <td>0.821986</td>\n      <td>0.818936</td>\n      <td>0.825668</td>\n      <td>0.822500</td>\n    </tr>\n    <tr>\n      <th>5</th>\n      <td>100.000</td>\n      <td>0.726600</td>\n      <td>0.821986</td>\n      <td>0.818936</td>\n      <td>0.825668</td>\n      <td>0.822500</td>\n    </tr>\n    <tr>\n      <th>6</th>\n      <td>1000.000</td>\n      <td>0.709000</td>\n      <td>0.821986</td>\n      <td>0.818936</td>\n      <td>0.825668</td>\n      <td>0.822500</td>\n    </tr>\n  </tbody>\n</table>\n</div>"
     },
     "execution_count": 10,
     "metadata": {},
     "output_type": "execute_result"
    }
   ],
   "source": [
    "cv_results_df.to_csv(r'result\\cv_results_fs_224_globalavgpool.tsv', sep='\\t', index=False)\n",
    "cv_results_df[['C', 'mean_fit_time', 'mean_test_f1', 'mean_test_recall', 'mean_test_precision', 'mean_test_accuracy']]"
   ],
   "metadata": {
    "collapsed": false,
    "ExecuteTime": {
     "end_time": "2023-10-26T10:21:15.377992200Z",
     "start_time": "2023-10-26T10:21:15.342991400Z"
    }
   },
   "id": "2a5a5fd7042a9ac7"
  },
  {
   "cell_type": "code",
   "execution_count": 9,
   "outputs": [
    {
     "data": {
      "text/plain": "(1600, 100352)"
     },
     "execution_count": 9,
     "metadata": {},
     "output_type": "execute_result"
    }
   ],
   "source": [
    "X_train.shape"
   ],
   "metadata": {
    "collapsed": false,
    "ExecuteTime": {
     "end_time": "2023-10-25T14:40:46.271474100Z",
     "start_time": "2023-10-25T14:40:46.254887600Z"
    }
   },
   "id": "1feac3be9b810b9e"
  },
  {
   "cell_type": "markdown",
   "source": [
    "#### With Different Threshold"
   ],
   "metadata": {
    "collapsed": false
   },
   "id": "455b6d9a7f6f0f55"
  },
  {
   "cell_type": "code",
   "execution_count": 11,
   "outputs": [
    {
     "name": "stdout",
     "output_type": "stream",
     "text": [
      "Fitting 5 folds for each of 14 candidates, totalling 70 fits\n"
     ]
    },
    {
     "data": {
      "text/plain": "GridSearchCV(cv=5,\n             estimator=Pipeline(steps=[('selectfrommodel',\n                                        SelectFromModel(estimator=SVC(kernel='linear',\n                                                                      random_state=42))),\n                                       ('svc',\n                                        SVC(kernel='linear',\n                                            random_state=42))]),\n             n_jobs=3,\n             param_grid={'selectfrommodel__threshold': ['median', 'mean'],\n                         'svc__C': [0.001, 0.01, 0.1, 1, 10, 100, 1000]},\n             refit=False, scoring=['f1', 'recall', 'precision', 'accuracy'],\n             verbose=3)",
      "text/html": "<style>#sk-container-id-1 {color: black;}#sk-container-id-1 pre{padding: 0;}#sk-container-id-1 div.sk-toggleable {background-color: white;}#sk-container-id-1 label.sk-toggleable__label {cursor: pointer;display: block;width: 100%;margin-bottom: 0;padding: 0.3em;box-sizing: border-box;text-align: center;}#sk-container-id-1 label.sk-toggleable__label-arrow:before {content: \"▸\";float: left;margin-right: 0.25em;color: #696969;}#sk-container-id-1 label.sk-toggleable__label-arrow:hover:before {color: black;}#sk-container-id-1 div.sk-estimator:hover label.sk-toggleable__label-arrow:before {color: black;}#sk-container-id-1 div.sk-toggleable__content {max-height: 0;max-width: 0;overflow: hidden;text-align: left;background-color: #f0f8ff;}#sk-container-id-1 div.sk-toggleable__content pre {margin: 0.2em;color: black;border-radius: 0.25em;background-color: #f0f8ff;}#sk-container-id-1 input.sk-toggleable__control:checked~div.sk-toggleable__content {max-height: 200px;max-width: 100%;overflow: auto;}#sk-container-id-1 input.sk-toggleable__control:checked~label.sk-toggleable__label-arrow:before {content: \"▾\";}#sk-container-id-1 div.sk-estimator input.sk-toggleable__control:checked~label.sk-toggleable__label {background-color: #d4ebff;}#sk-container-id-1 div.sk-label input.sk-toggleable__control:checked~label.sk-toggleable__label {background-color: #d4ebff;}#sk-container-id-1 input.sk-hidden--visually {border: 0;clip: rect(1px 1px 1px 1px);clip: rect(1px, 1px, 1px, 1px);height: 1px;margin: -1px;overflow: hidden;padding: 0;position: absolute;width: 1px;}#sk-container-id-1 div.sk-estimator {font-family: monospace;background-color: #f0f8ff;border: 1px dotted black;border-radius: 0.25em;box-sizing: border-box;margin-bottom: 0.5em;}#sk-container-id-1 div.sk-estimator:hover {background-color: #d4ebff;}#sk-container-id-1 div.sk-parallel-item::after {content: \"\";width: 100%;border-bottom: 1px solid gray;flex-grow: 1;}#sk-container-id-1 div.sk-label:hover label.sk-toggleable__label {background-color: #d4ebff;}#sk-container-id-1 div.sk-serial::before {content: \"\";position: absolute;border-left: 1px solid gray;box-sizing: border-box;top: 0;bottom: 0;left: 50%;z-index: 0;}#sk-container-id-1 div.sk-serial {display: flex;flex-direction: column;align-items: center;background-color: white;padding-right: 0.2em;padding-left: 0.2em;position: relative;}#sk-container-id-1 div.sk-item {position: relative;z-index: 1;}#sk-container-id-1 div.sk-parallel {display: flex;align-items: stretch;justify-content: center;background-color: white;position: relative;}#sk-container-id-1 div.sk-item::before, #sk-container-id-1 div.sk-parallel-item::before {content: \"\";position: absolute;border-left: 1px solid gray;box-sizing: border-box;top: 0;bottom: 0;left: 50%;z-index: -1;}#sk-container-id-1 div.sk-parallel-item {display: flex;flex-direction: column;z-index: 1;position: relative;background-color: white;}#sk-container-id-1 div.sk-parallel-item:first-child::after {align-self: flex-end;width: 50%;}#sk-container-id-1 div.sk-parallel-item:last-child::after {align-self: flex-start;width: 50%;}#sk-container-id-1 div.sk-parallel-item:only-child::after {width: 0;}#sk-container-id-1 div.sk-dashed-wrapped {border: 1px dashed gray;margin: 0 0.4em 0.5em 0.4em;box-sizing: border-box;padding-bottom: 0.4em;background-color: white;}#sk-container-id-1 div.sk-label label {font-family: monospace;font-weight: bold;display: inline-block;line-height: 1.2em;}#sk-container-id-1 div.sk-label-container {text-align: center;}#sk-container-id-1 div.sk-container {/* jupyter's `normalize.less` sets `[hidden] { display: none; }` but bootstrap.min.css set `[hidden] { display: none !important; }` so we also need the `!important` here to be able to override the default hidden behavior on the sphinx rendered scikit-learn.org. See: https://github.com/scikit-learn/scikit-learn/issues/21755 */display: inline-block !important;position: relative;}#sk-container-id-1 div.sk-text-repr-fallback {display: none;}</style><div id=\"sk-container-id-1\" class=\"sk-top-container\"><div class=\"sk-text-repr-fallback\"><pre>GridSearchCV(cv=5,\n             estimator=Pipeline(steps=[(&#x27;selectfrommodel&#x27;,\n                                        SelectFromModel(estimator=SVC(kernel=&#x27;linear&#x27;,\n                                                                      random_state=42))),\n                                       (&#x27;svc&#x27;,\n                                        SVC(kernel=&#x27;linear&#x27;,\n                                            random_state=42))]),\n             n_jobs=3,\n             param_grid={&#x27;selectfrommodel__threshold&#x27;: [&#x27;median&#x27;, &#x27;mean&#x27;],\n                         &#x27;svc__C&#x27;: [0.001, 0.01, 0.1, 1, 10, 100, 1000]},\n             refit=False, scoring=[&#x27;f1&#x27;, &#x27;recall&#x27;, &#x27;precision&#x27;, &#x27;accuracy&#x27;],\n             verbose=3)</pre><b>In a Jupyter environment, please rerun this cell to show the HTML representation or trust the notebook. <br />On GitHub, the HTML representation is unable to render, please try loading this page with nbviewer.org.</b></div><div class=\"sk-container\" hidden><div class=\"sk-item sk-dashed-wrapped\"><div class=\"sk-label-container\"><div class=\"sk-label sk-toggleable\"><input class=\"sk-toggleable__control sk-hidden--visually\" id=\"sk-estimator-id-1\" type=\"checkbox\" ><label for=\"sk-estimator-id-1\" class=\"sk-toggleable__label sk-toggleable__label-arrow\">GridSearchCV</label><div class=\"sk-toggleable__content\"><pre>GridSearchCV(cv=5,\n             estimator=Pipeline(steps=[(&#x27;selectfrommodel&#x27;,\n                                        SelectFromModel(estimator=SVC(kernel=&#x27;linear&#x27;,\n                                                                      random_state=42))),\n                                       (&#x27;svc&#x27;,\n                                        SVC(kernel=&#x27;linear&#x27;,\n                                            random_state=42))]),\n             n_jobs=3,\n             param_grid={&#x27;selectfrommodel__threshold&#x27;: [&#x27;median&#x27;, &#x27;mean&#x27;],\n                         &#x27;svc__C&#x27;: [0.001, 0.01, 0.1, 1, 10, 100, 1000]},\n             refit=False, scoring=[&#x27;f1&#x27;, &#x27;recall&#x27;, &#x27;precision&#x27;, &#x27;accuracy&#x27;],\n             verbose=3)</pre></div></div></div><div class=\"sk-parallel\"><div class=\"sk-parallel-item\"><div class=\"sk-item\"><div class=\"sk-label-container\"><div class=\"sk-label sk-toggleable\"><input class=\"sk-toggleable__control sk-hidden--visually\" id=\"sk-estimator-id-2\" type=\"checkbox\" ><label for=\"sk-estimator-id-2\" class=\"sk-toggleable__label sk-toggleable__label-arrow\">estimator: Pipeline</label><div class=\"sk-toggleable__content\"><pre>Pipeline(steps=[(&#x27;selectfrommodel&#x27;,\n                 SelectFromModel(estimator=SVC(kernel=&#x27;linear&#x27;,\n                                               random_state=42))),\n                (&#x27;svc&#x27;, SVC(kernel=&#x27;linear&#x27;, random_state=42))])</pre></div></div></div><div class=\"sk-serial\"><div class=\"sk-item\"><div class=\"sk-serial\"><div class=\"sk-item sk-dashed-wrapped\"><div class=\"sk-label-container\"><div class=\"sk-label sk-toggleable\"><input class=\"sk-toggleable__control sk-hidden--visually\" id=\"sk-estimator-id-3\" type=\"checkbox\" ><label for=\"sk-estimator-id-3\" class=\"sk-toggleable__label sk-toggleable__label-arrow\">selectfrommodel: SelectFromModel</label><div class=\"sk-toggleable__content\"><pre>SelectFromModel(estimator=SVC(kernel=&#x27;linear&#x27;, random_state=42))</pre></div></div></div><div class=\"sk-parallel\"><div class=\"sk-parallel-item\"><div class=\"sk-item\"><div class=\"sk-label-container\"><div class=\"sk-label sk-toggleable\"><input class=\"sk-toggleable__control sk-hidden--visually\" id=\"sk-estimator-id-4\" type=\"checkbox\" ><label for=\"sk-estimator-id-4\" class=\"sk-toggleable__label sk-toggleable__label-arrow\">estimator: SVC</label><div class=\"sk-toggleable__content\"><pre>SVC(kernel=&#x27;linear&#x27;, random_state=42)</pre></div></div></div><div class=\"sk-serial\"><div class=\"sk-item\"><div class=\"sk-estimator sk-toggleable\"><input class=\"sk-toggleable__control sk-hidden--visually\" id=\"sk-estimator-id-5\" type=\"checkbox\" ><label for=\"sk-estimator-id-5\" class=\"sk-toggleable__label sk-toggleable__label-arrow\">SVC</label><div class=\"sk-toggleable__content\"><pre>SVC(kernel=&#x27;linear&#x27;, random_state=42)</pre></div></div></div></div></div></div></div></div><div class=\"sk-item\"><div class=\"sk-estimator sk-toggleable\"><input class=\"sk-toggleable__control sk-hidden--visually\" id=\"sk-estimator-id-6\" type=\"checkbox\" ><label for=\"sk-estimator-id-6\" class=\"sk-toggleable__label sk-toggleable__label-arrow\">SVC</label><div class=\"sk-toggleable__content\"><pre>SVC(kernel=&#x27;linear&#x27;, random_state=42)</pre></div></div></div></div></div></div></div></div></div></div></div></div>"
     },
     "execution_count": 11,
     "metadata": {},
     "output_type": "execute_result"
    }
   ],
   "source": [
    "PARAM_GRID = {\n",
    "    'selectfrommodel__threshold': ['median', 'mean'],\n",
    "    'svc__C': svc_C\n",
    "}\n",
    "\n",
    "grid = GridSearchCV(\n",
    "    make_pipeline(SelectFromModel(SVC(kernel='linear', random_state=42)),\n",
    "                  SVC(kernel='linear', random_state=42)),\n",
    "    cv=5,\n",
    "    param_grid=PARAM_GRID,\n",
    "    scoring=METRICS,\n",
    "    refit=False,\n",
    "    verbose=3,\n",
    "    n_jobs=3\n",
    ")\n",
    "grid.fit(X_train, y_train)"
   ],
   "metadata": {
    "collapsed": false,
    "ExecuteTime": {
     "end_time": "2023-10-26T10:22:17.162264Z",
     "start_time": "2023-10-26T10:21:24.247420100Z"
    }
   },
   "id": "3eccefc1f4e734b3"
  },
  {
   "cell_type": "code",
   "execution_count": 12,
   "outputs": [
    {
     "data": {
      "text/plain": "    mean_fit_time  std_fit_time  mean_score_time  std_score_time  \\\n0        2.750599      0.395061         0.064400        0.003200   \n1        2.157400      0.055941         0.046599        0.005085   \n2        2.264797      0.119672         0.042200        0.002929   \n3        2.217400      0.015630         0.046799        0.006644   \n4        2.109402      0.039688         0.039999        0.002367   \n5        2.152598      0.041989         0.040600        0.001497   \n6        2.211601      0.036436         0.037200        0.000398   \n7        2.123399      0.076112         0.053999        0.006603   \n8        2.070199      0.077702         0.041401        0.003555   \n9        2.169801      0.016679         0.034800        0.001600   \n10       2.168999      0.048105         0.042200        0.003764   \n11       1.961601      0.151443         0.038402        0.002870   \n12       1.750399      0.073723         0.037001        0.001790   \n13       1.529198      0.381146         0.038001        0.004337   \n\n   param_selectfrommodel__threshold param_svc__C  \\\n0                            median        0.001   \n1                            median         0.01   \n2                            median          0.1   \n3                            median            1   \n4                            median           10   \n5                            median          100   \n6                            median         1000   \n7                              mean        0.001   \n8                              mean         0.01   \n9                              mean          0.1   \n10                             mean            1   \n11                             mean           10   \n12                             mean          100   \n13                             mean         1000   \n\n                                               params  split0_test_f1  \\\n0   {'selectfrommodel__threshold': 'median', 'svc_...        0.856269   \n1   {'selectfrommodel__threshold': 'median', 'svc_...        0.861446   \n2   {'selectfrommodel__threshold': 'median', 'svc_...        0.839506   \n3   {'selectfrommodel__threshold': 'median', 'svc_...        0.839506   \n4   {'selectfrommodel__threshold': 'median', 'svc_...        0.839506   \n5   {'selectfrommodel__threshold': 'median', 'svc_...        0.839506   \n6   {'selectfrommodel__threshold': 'median', 'svc_...        0.839506   \n7   {'selectfrommodel__threshold': 'mean', 'svc__C...        0.843373   \n8   {'selectfrommodel__threshold': 'mean', 'svc__C...        0.866667   \n9   {'selectfrommodel__threshold': 'mean', 'svc__C...        0.841463   \n10  {'selectfrommodel__threshold': 'mean', 'svc__C...        0.840491   \n11  {'selectfrommodel__threshold': 'mean', 'svc__C...        0.840491   \n12  {'selectfrommodel__threshold': 'mean', 'svc__C...        0.840491   \n13  {'selectfrommodel__threshold': 'mean', 'svc__C...        0.840491   \n\n    split1_test_f1  split2_test_f1  ...  std_test_precision  \\\n0         0.826498        0.841121  ...            0.016446   \n1         0.814103        0.844985  ...            0.014269   \n2         0.806349        0.827160  ...            0.009829   \n3         0.803797        0.827160  ...            0.011006   \n4         0.803797        0.827160  ...            0.011006   \n5         0.803797        0.827160  ...            0.011006   \n6         0.803797        0.827160  ...            0.011006   \n7         0.825000        0.832298  ...            0.013567   \n8         0.822430        0.837920  ...            0.016030   \n9         0.815287        0.802469  ...            0.015800   \n10        0.817891        0.802469  ...            0.018346   \n11        0.817891        0.802469  ...            0.018346   \n12        0.817891        0.802469  ...            0.018346   \n13        0.817891        0.802469  ...            0.018346   \n\n    rank_test_precision  split0_test_accuracy  split1_test_accuracy  \\\n0                     3              0.853125              0.828125   \n1                     2              0.856250              0.818750   \n2                    13              0.837500              0.809375   \n3                     4              0.837500              0.806250   \n4                     4              0.837500              0.806250   \n5                     4              0.837500              0.806250   \n6                     4              0.837500              0.806250   \n7                    12              0.837500              0.825000   \n8                     1              0.862500              0.821875   \n9                    14              0.837500              0.818750   \n10                    8              0.837500              0.821875   \n11                    8              0.837500              0.821875   \n12                    8              0.837500              0.821875   \n13                    8              0.837500              0.821875   \n\n    split2_test_accuracy  split3_test_accuracy  split4_test_accuracy  \\\n0               0.840625              0.815625              0.834375   \n1               0.840625              0.843750              0.828125   \n2               0.825000              0.825000              0.812500   \n3               0.825000              0.831250              0.815625   \n4               0.825000              0.831250              0.815625   \n5               0.825000              0.831250              0.815625   \n6               0.825000              0.831250              0.815625   \n7               0.831250              0.818750              0.831250   \n8               0.834375              0.843750              0.828125   \n9               0.800000              0.831250              0.821875   \n10              0.800000              0.828125              0.825000   \n11              0.800000              0.828125              0.825000   \n12              0.800000              0.828125              0.825000   \n13              0.800000              0.828125              0.825000   \n\n    mean_test_accuracy  std_test_accuracy  rank_test_accuracy  \n0             0.834375           0.012500                   3  \n1             0.837500           0.012960                   2  \n2             0.821875           0.010078                  13  \n3             0.823125           0.011110                   5  \n4             0.823125           0.011110                   5  \n5             0.823125           0.011110                   5  \n6             0.823125           0.011110                   5  \n7             0.828750           0.006374                   4  \n8             0.838125           0.014170                   1  \n9             0.821875           0.012809                  13  \n10            0.822500           0.012406                   9  \n11            0.822500           0.012406                   9  \n12            0.822500           0.012406                   9  \n13            0.822500           0.012406                   9  \n\n[14 rows x 39 columns]",
      "text/html": "<div>\n<style scoped>\n    .dataframe tbody tr th:only-of-type {\n        vertical-align: middle;\n    }\n\n    .dataframe tbody tr th {\n        vertical-align: top;\n    }\n\n    .dataframe thead th {\n        text-align: right;\n    }\n</style>\n<table border=\"1\" class=\"dataframe\">\n  <thead>\n    <tr style=\"text-align: right;\">\n      <th></th>\n      <th>mean_fit_time</th>\n      <th>std_fit_time</th>\n      <th>mean_score_time</th>\n      <th>std_score_time</th>\n      <th>param_selectfrommodel__threshold</th>\n      <th>param_svc__C</th>\n      <th>params</th>\n      <th>split0_test_f1</th>\n      <th>split1_test_f1</th>\n      <th>split2_test_f1</th>\n      <th>...</th>\n      <th>std_test_precision</th>\n      <th>rank_test_precision</th>\n      <th>split0_test_accuracy</th>\n      <th>split1_test_accuracy</th>\n      <th>split2_test_accuracy</th>\n      <th>split3_test_accuracy</th>\n      <th>split4_test_accuracy</th>\n      <th>mean_test_accuracy</th>\n      <th>std_test_accuracy</th>\n      <th>rank_test_accuracy</th>\n    </tr>\n  </thead>\n  <tbody>\n    <tr>\n      <th>0</th>\n      <td>2.750599</td>\n      <td>0.395061</td>\n      <td>0.064400</td>\n      <td>0.003200</td>\n      <td>median</td>\n      <td>0.001</td>\n      <td>{'selectfrommodel__threshold': 'median', 'svc_...</td>\n      <td>0.856269</td>\n      <td>0.826498</td>\n      <td>0.841121</td>\n      <td>...</td>\n      <td>0.016446</td>\n      <td>3</td>\n      <td>0.853125</td>\n      <td>0.828125</td>\n      <td>0.840625</td>\n      <td>0.815625</td>\n      <td>0.834375</td>\n      <td>0.834375</td>\n      <td>0.012500</td>\n      <td>3</td>\n    </tr>\n    <tr>\n      <th>1</th>\n      <td>2.157400</td>\n      <td>0.055941</td>\n      <td>0.046599</td>\n      <td>0.005085</td>\n      <td>median</td>\n      <td>0.01</td>\n      <td>{'selectfrommodel__threshold': 'median', 'svc_...</td>\n      <td>0.861446</td>\n      <td>0.814103</td>\n      <td>0.844985</td>\n      <td>...</td>\n      <td>0.014269</td>\n      <td>2</td>\n      <td>0.856250</td>\n      <td>0.818750</td>\n      <td>0.840625</td>\n      <td>0.843750</td>\n      <td>0.828125</td>\n      <td>0.837500</td>\n      <td>0.012960</td>\n      <td>2</td>\n    </tr>\n    <tr>\n      <th>2</th>\n      <td>2.264797</td>\n      <td>0.119672</td>\n      <td>0.042200</td>\n      <td>0.002929</td>\n      <td>median</td>\n      <td>0.1</td>\n      <td>{'selectfrommodel__threshold': 'median', 'svc_...</td>\n      <td>0.839506</td>\n      <td>0.806349</td>\n      <td>0.827160</td>\n      <td>...</td>\n      <td>0.009829</td>\n      <td>13</td>\n      <td>0.837500</td>\n      <td>0.809375</td>\n      <td>0.825000</td>\n      <td>0.825000</td>\n      <td>0.812500</td>\n      <td>0.821875</td>\n      <td>0.010078</td>\n      <td>13</td>\n    </tr>\n    <tr>\n      <th>3</th>\n      <td>2.217400</td>\n      <td>0.015630</td>\n      <td>0.046799</td>\n      <td>0.006644</td>\n      <td>median</td>\n      <td>1</td>\n      <td>{'selectfrommodel__threshold': 'median', 'svc_...</td>\n      <td>0.839506</td>\n      <td>0.803797</td>\n      <td>0.827160</td>\n      <td>...</td>\n      <td>0.011006</td>\n      <td>4</td>\n      <td>0.837500</td>\n      <td>0.806250</td>\n      <td>0.825000</td>\n      <td>0.831250</td>\n      <td>0.815625</td>\n      <td>0.823125</td>\n      <td>0.011110</td>\n      <td>5</td>\n    </tr>\n    <tr>\n      <th>4</th>\n      <td>2.109402</td>\n      <td>0.039688</td>\n      <td>0.039999</td>\n      <td>0.002367</td>\n      <td>median</td>\n      <td>10</td>\n      <td>{'selectfrommodel__threshold': 'median', 'svc_...</td>\n      <td>0.839506</td>\n      <td>0.803797</td>\n      <td>0.827160</td>\n      <td>...</td>\n      <td>0.011006</td>\n      <td>4</td>\n      <td>0.837500</td>\n      <td>0.806250</td>\n      <td>0.825000</td>\n      <td>0.831250</td>\n      <td>0.815625</td>\n      <td>0.823125</td>\n      <td>0.011110</td>\n      <td>5</td>\n    </tr>\n    <tr>\n      <th>5</th>\n      <td>2.152598</td>\n      <td>0.041989</td>\n      <td>0.040600</td>\n      <td>0.001497</td>\n      <td>median</td>\n      <td>100</td>\n      <td>{'selectfrommodel__threshold': 'median', 'svc_...</td>\n      <td>0.839506</td>\n      <td>0.803797</td>\n      <td>0.827160</td>\n      <td>...</td>\n      <td>0.011006</td>\n      <td>4</td>\n      <td>0.837500</td>\n      <td>0.806250</td>\n      <td>0.825000</td>\n      <td>0.831250</td>\n      <td>0.815625</td>\n      <td>0.823125</td>\n      <td>0.011110</td>\n      <td>5</td>\n    </tr>\n    <tr>\n      <th>6</th>\n      <td>2.211601</td>\n      <td>0.036436</td>\n      <td>0.037200</td>\n      <td>0.000398</td>\n      <td>median</td>\n      <td>1000</td>\n      <td>{'selectfrommodel__threshold': 'median', 'svc_...</td>\n      <td>0.839506</td>\n      <td>0.803797</td>\n      <td>0.827160</td>\n      <td>...</td>\n      <td>0.011006</td>\n      <td>4</td>\n      <td>0.837500</td>\n      <td>0.806250</td>\n      <td>0.825000</td>\n      <td>0.831250</td>\n      <td>0.815625</td>\n      <td>0.823125</td>\n      <td>0.011110</td>\n      <td>5</td>\n    </tr>\n    <tr>\n      <th>7</th>\n      <td>2.123399</td>\n      <td>0.076112</td>\n      <td>0.053999</td>\n      <td>0.006603</td>\n      <td>mean</td>\n      <td>0.001</td>\n      <td>{'selectfrommodel__threshold': 'mean', 'svc__C...</td>\n      <td>0.843373</td>\n      <td>0.825000</td>\n      <td>0.832298</td>\n      <td>...</td>\n      <td>0.013567</td>\n      <td>12</td>\n      <td>0.837500</td>\n      <td>0.825000</td>\n      <td>0.831250</td>\n      <td>0.818750</td>\n      <td>0.831250</td>\n      <td>0.828750</td>\n      <td>0.006374</td>\n      <td>4</td>\n    </tr>\n    <tr>\n      <th>8</th>\n      <td>2.070199</td>\n      <td>0.077702</td>\n      <td>0.041401</td>\n      <td>0.003555</td>\n      <td>mean</td>\n      <td>0.01</td>\n      <td>{'selectfrommodel__threshold': 'mean', 'svc__C...</td>\n      <td>0.866667</td>\n      <td>0.822430</td>\n      <td>0.837920</td>\n      <td>...</td>\n      <td>0.016030</td>\n      <td>1</td>\n      <td>0.862500</td>\n      <td>0.821875</td>\n      <td>0.834375</td>\n      <td>0.843750</td>\n      <td>0.828125</td>\n      <td>0.838125</td>\n      <td>0.014170</td>\n      <td>1</td>\n    </tr>\n    <tr>\n      <th>9</th>\n      <td>2.169801</td>\n      <td>0.016679</td>\n      <td>0.034800</td>\n      <td>0.001600</td>\n      <td>mean</td>\n      <td>0.1</td>\n      <td>{'selectfrommodel__threshold': 'mean', 'svc__C...</td>\n      <td>0.841463</td>\n      <td>0.815287</td>\n      <td>0.802469</td>\n      <td>...</td>\n      <td>0.015800</td>\n      <td>14</td>\n      <td>0.837500</td>\n      <td>0.818750</td>\n      <td>0.800000</td>\n      <td>0.831250</td>\n      <td>0.821875</td>\n      <td>0.821875</td>\n      <td>0.012809</td>\n      <td>13</td>\n    </tr>\n    <tr>\n      <th>10</th>\n      <td>2.168999</td>\n      <td>0.048105</td>\n      <td>0.042200</td>\n      <td>0.003764</td>\n      <td>mean</td>\n      <td>1</td>\n      <td>{'selectfrommodel__threshold': 'mean', 'svc__C...</td>\n      <td>0.840491</td>\n      <td>0.817891</td>\n      <td>0.802469</td>\n      <td>...</td>\n      <td>0.018346</td>\n      <td>8</td>\n      <td>0.837500</td>\n      <td>0.821875</td>\n      <td>0.800000</td>\n      <td>0.828125</td>\n      <td>0.825000</td>\n      <td>0.822500</td>\n      <td>0.012406</td>\n      <td>9</td>\n    </tr>\n    <tr>\n      <th>11</th>\n      <td>1.961601</td>\n      <td>0.151443</td>\n      <td>0.038402</td>\n      <td>0.002870</td>\n      <td>mean</td>\n      <td>10</td>\n      <td>{'selectfrommodel__threshold': 'mean', 'svc__C...</td>\n      <td>0.840491</td>\n      <td>0.817891</td>\n      <td>0.802469</td>\n      <td>...</td>\n      <td>0.018346</td>\n      <td>8</td>\n      <td>0.837500</td>\n      <td>0.821875</td>\n      <td>0.800000</td>\n      <td>0.828125</td>\n      <td>0.825000</td>\n      <td>0.822500</td>\n      <td>0.012406</td>\n      <td>9</td>\n    </tr>\n    <tr>\n      <th>12</th>\n      <td>1.750399</td>\n      <td>0.073723</td>\n      <td>0.037001</td>\n      <td>0.001790</td>\n      <td>mean</td>\n      <td>100</td>\n      <td>{'selectfrommodel__threshold': 'mean', 'svc__C...</td>\n      <td>0.840491</td>\n      <td>0.817891</td>\n      <td>0.802469</td>\n      <td>...</td>\n      <td>0.018346</td>\n      <td>8</td>\n      <td>0.837500</td>\n      <td>0.821875</td>\n      <td>0.800000</td>\n      <td>0.828125</td>\n      <td>0.825000</td>\n      <td>0.822500</td>\n      <td>0.012406</td>\n      <td>9</td>\n    </tr>\n    <tr>\n      <th>13</th>\n      <td>1.529198</td>\n      <td>0.381146</td>\n      <td>0.038001</td>\n      <td>0.004337</td>\n      <td>mean</td>\n      <td>1000</td>\n      <td>{'selectfrommodel__threshold': 'mean', 'svc__C...</td>\n      <td>0.840491</td>\n      <td>0.817891</td>\n      <td>0.802469</td>\n      <td>...</td>\n      <td>0.018346</td>\n      <td>8</td>\n      <td>0.837500</td>\n      <td>0.821875</td>\n      <td>0.800000</td>\n      <td>0.828125</td>\n      <td>0.825000</td>\n      <td>0.822500</td>\n      <td>0.012406</td>\n      <td>9</td>\n    </tr>\n  </tbody>\n</table>\n<p>14 rows × 39 columns</p>\n</div>"
     },
     "execution_count": 12,
     "metadata": {},
     "output_type": "execute_result"
    }
   ],
   "source": [
    "pd.DataFrame(grid.cv_results_)"
   ],
   "metadata": {
    "collapsed": false,
    "ExecuteTime": {
     "end_time": "2023-10-26T10:22:17.197261300Z",
     "start_time": "2023-10-26T10:22:17.164268100Z"
    }
   },
   "id": "e16d50098165bd5f"
  },
  {
   "cell_type": "markdown",
   "source": [
    "### Without Feature Selection"
   ],
   "metadata": {
    "collapsed": false
   },
   "id": "b2a29744f85dda2d"
  },
  {
   "cell_type": "code",
   "execution_count": null,
   "outputs": [],
   "source": [
    "PARAM_GRID = {'C': svc_C}\n",
    "\n",
    "grid_no_fs = GridSearchCV(\n",
    "    SVC(kernel='linear', random_state=42),\n",
    "    cv=5,\n",
    "    param_grid=PARAM_GRID,\n",
    "    scoring=METRICS,\n",
    "    refit=False,\n",
    "    verbose=3\n",
    ")\n",
    "grid_no_fs.fit(X_train, y_train)"
   ],
   "metadata": {
    "collapsed": false
   },
   "id": "48a41575e2f1bc94"
  },
  {
   "cell_type": "code",
   "execution_count": 40,
   "outputs": [
    {
     "data": {
      "text/plain": "   mean_fit_time  std_fit_time  mean_score_time  std_score_time param_C  \\\n0      88.802842      0.944986        16.622678        0.262505   0.001   \n1      86.668458      0.498128        16.472115        0.216653    0.01   \n2      85.676329      0.682434        16.501517        0.196086     0.1   \n3      88.654822      2.457385        16.551476        0.416479       1   \n4      88.119997      1.343442        17.029122        0.641395      10   \n5      88.769875      2.984865        16.633774        0.619866     100   \n6      84.894957      1.007263        16.099048        0.207735    1000   \n\n         params  split0_test_f1  split1_test_f1  split2_test_f1  \\\n0  {'C': 0.001}        0.821317        0.824281             0.8   \n1   {'C': 0.01}        0.821317        0.824281             0.8   \n2    {'C': 0.1}        0.821317        0.824281             0.8   \n3      {'C': 1}        0.821317        0.824281             0.8   \n4     {'C': 10}        0.821317        0.824281             0.8   \n5    {'C': 100}        0.821317        0.824281             0.8   \n6   {'C': 1000}        0.821317        0.824281             0.8   \n\n   split3_test_f1  ...  std_test_precision  rank_test_precision  \\\n0        0.829721  ...            0.023342                    1   \n1        0.829721  ...            0.023342                    1   \n2        0.829721  ...            0.023342                    1   \n3        0.829721  ...            0.023342                    1   \n4        0.829721  ...            0.023342                    1   \n5        0.829721  ...            0.023342                    1   \n6        0.829721  ...            0.023342                    1   \n\n   split0_test_accuracy  split1_test_accuracy  split2_test_accuracy  \\\n0              0.821875              0.828125              0.796875   \n1              0.821875              0.828125              0.796875   \n2              0.821875              0.828125              0.796875   \n3              0.821875              0.828125              0.796875   \n4              0.821875              0.828125              0.796875   \n5              0.821875              0.828125              0.796875   \n6              0.821875              0.828125              0.796875   \n\n   split3_test_accuracy  split4_test_accuracy  mean_test_accuracy  \\\n0              0.828125                0.8125              0.8175   \n1              0.828125                0.8125              0.8175   \n2              0.828125                0.8125              0.8175   \n3              0.828125                0.8125              0.8175   \n4              0.828125                0.8125              0.8175   \n5              0.828125                0.8125              0.8175   \n6              0.828125                0.8125              0.8175   \n\n   std_test_accuracy  rank_test_accuracy  \n0           0.011792                   1  \n1           0.011792                   1  \n2           0.011792                   1  \n3           0.011792                   1  \n4           0.011792                   1  \n5           0.011792                   1  \n6           0.011792                   1  \n\n[7 rows x 38 columns]",
      "text/html": "<div>\n<style scoped>\n    .dataframe tbody tr th:only-of-type {\n        vertical-align: middle;\n    }\n\n    .dataframe tbody tr th {\n        vertical-align: top;\n    }\n\n    .dataframe thead th {\n        text-align: right;\n    }\n</style>\n<table border=\"1\" class=\"dataframe\">\n  <thead>\n    <tr style=\"text-align: right;\">\n      <th></th>\n      <th>mean_fit_time</th>\n      <th>std_fit_time</th>\n      <th>mean_score_time</th>\n      <th>std_score_time</th>\n      <th>param_C</th>\n      <th>params</th>\n      <th>split0_test_f1</th>\n      <th>split1_test_f1</th>\n      <th>split2_test_f1</th>\n      <th>split3_test_f1</th>\n      <th>...</th>\n      <th>std_test_precision</th>\n      <th>rank_test_precision</th>\n      <th>split0_test_accuracy</th>\n      <th>split1_test_accuracy</th>\n      <th>split2_test_accuracy</th>\n      <th>split3_test_accuracy</th>\n      <th>split4_test_accuracy</th>\n      <th>mean_test_accuracy</th>\n      <th>std_test_accuracy</th>\n      <th>rank_test_accuracy</th>\n    </tr>\n  </thead>\n  <tbody>\n    <tr>\n      <th>0</th>\n      <td>88.802842</td>\n      <td>0.944986</td>\n      <td>16.622678</td>\n      <td>0.262505</td>\n      <td>0.001</td>\n      <td>{'C': 0.001}</td>\n      <td>0.821317</td>\n      <td>0.824281</td>\n      <td>0.8</td>\n      <td>0.829721</td>\n      <td>...</td>\n      <td>0.023342</td>\n      <td>1</td>\n      <td>0.821875</td>\n      <td>0.828125</td>\n      <td>0.796875</td>\n      <td>0.828125</td>\n      <td>0.8125</td>\n      <td>0.8175</td>\n      <td>0.011792</td>\n      <td>1</td>\n    </tr>\n    <tr>\n      <th>1</th>\n      <td>86.668458</td>\n      <td>0.498128</td>\n      <td>16.472115</td>\n      <td>0.216653</td>\n      <td>0.01</td>\n      <td>{'C': 0.01}</td>\n      <td>0.821317</td>\n      <td>0.824281</td>\n      <td>0.8</td>\n      <td>0.829721</td>\n      <td>...</td>\n      <td>0.023342</td>\n      <td>1</td>\n      <td>0.821875</td>\n      <td>0.828125</td>\n      <td>0.796875</td>\n      <td>0.828125</td>\n      <td>0.8125</td>\n      <td>0.8175</td>\n      <td>0.011792</td>\n      <td>1</td>\n    </tr>\n    <tr>\n      <th>2</th>\n      <td>85.676329</td>\n      <td>0.682434</td>\n      <td>16.501517</td>\n      <td>0.196086</td>\n      <td>0.1</td>\n      <td>{'C': 0.1}</td>\n      <td>0.821317</td>\n      <td>0.824281</td>\n      <td>0.8</td>\n      <td>0.829721</td>\n      <td>...</td>\n      <td>0.023342</td>\n      <td>1</td>\n      <td>0.821875</td>\n      <td>0.828125</td>\n      <td>0.796875</td>\n      <td>0.828125</td>\n      <td>0.8125</td>\n      <td>0.8175</td>\n      <td>0.011792</td>\n      <td>1</td>\n    </tr>\n    <tr>\n      <th>3</th>\n      <td>88.654822</td>\n      <td>2.457385</td>\n      <td>16.551476</td>\n      <td>0.416479</td>\n      <td>1</td>\n      <td>{'C': 1}</td>\n      <td>0.821317</td>\n      <td>0.824281</td>\n      <td>0.8</td>\n      <td>0.829721</td>\n      <td>...</td>\n      <td>0.023342</td>\n      <td>1</td>\n      <td>0.821875</td>\n      <td>0.828125</td>\n      <td>0.796875</td>\n      <td>0.828125</td>\n      <td>0.8125</td>\n      <td>0.8175</td>\n      <td>0.011792</td>\n      <td>1</td>\n    </tr>\n    <tr>\n      <th>4</th>\n      <td>88.119997</td>\n      <td>1.343442</td>\n      <td>17.029122</td>\n      <td>0.641395</td>\n      <td>10</td>\n      <td>{'C': 10}</td>\n      <td>0.821317</td>\n      <td>0.824281</td>\n      <td>0.8</td>\n      <td>0.829721</td>\n      <td>...</td>\n      <td>0.023342</td>\n      <td>1</td>\n      <td>0.821875</td>\n      <td>0.828125</td>\n      <td>0.796875</td>\n      <td>0.828125</td>\n      <td>0.8125</td>\n      <td>0.8175</td>\n      <td>0.011792</td>\n      <td>1</td>\n    </tr>\n    <tr>\n      <th>5</th>\n      <td>88.769875</td>\n      <td>2.984865</td>\n      <td>16.633774</td>\n      <td>0.619866</td>\n      <td>100</td>\n      <td>{'C': 100}</td>\n      <td>0.821317</td>\n      <td>0.824281</td>\n      <td>0.8</td>\n      <td>0.829721</td>\n      <td>...</td>\n      <td>0.023342</td>\n      <td>1</td>\n      <td>0.821875</td>\n      <td>0.828125</td>\n      <td>0.796875</td>\n      <td>0.828125</td>\n      <td>0.8125</td>\n      <td>0.8175</td>\n      <td>0.011792</td>\n      <td>1</td>\n    </tr>\n    <tr>\n      <th>6</th>\n      <td>84.894957</td>\n      <td>1.007263</td>\n      <td>16.099048</td>\n      <td>0.207735</td>\n      <td>1000</td>\n      <td>{'C': 1000}</td>\n      <td>0.821317</td>\n      <td>0.824281</td>\n      <td>0.8</td>\n      <td>0.829721</td>\n      <td>...</td>\n      <td>0.023342</td>\n      <td>1</td>\n      <td>0.821875</td>\n      <td>0.828125</td>\n      <td>0.796875</td>\n      <td>0.828125</td>\n      <td>0.8125</td>\n      <td>0.8175</td>\n      <td>0.011792</td>\n      <td>1</td>\n    </tr>\n  </tbody>\n</table>\n<p>7 rows × 38 columns</p>\n</div>"
     },
     "execution_count": 40,
     "metadata": {},
     "output_type": "execute_result"
    }
   ],
   "source": [
    "cv_result_no_fs = pd.DataFrame(grid_no_fs.cv_results_)\n",
    "cv_result_no_fs.to_csv(r'result\\cv_result_no_fs.tsv', sep='\\t', index=False)\n",
    "cv_result_no_fs"
   ],
   "metadata": {
    "collapsed": false,
    "ExecuteTime": {
     "end_time": "2023-10-07T15:39:54.295935600Z",
     "start_time": "2023-10-07T15:39:54.200938800Z"
    }
   },
   "id": "22a3767b85819a3"
  },
  {
   "cell_type": "code",
   "execution_count": 41,
   "outputs": [
    {
     "data": {
      "text/plain": "  param_C  mean_fit_time  mean_test_f1  mean_test_precision  mean_test_recall  \\\n0   0.001      88.802842      0.815064             0.827872          0.803983   \n1    0.01      86.668458      0.815064             0.827872          0.803983   \n2     0.1      85.676329      0.815064             0.827872          0.803983   \n3       1      88.654822      0.815064             0.827872          0.803983   \n4      10      88.119997      0.815064             0.827872          0.803983   \n5     100      88.769875      0.815064             0.827872          0.803983   \n6    1000      84.894957      0.815064             0.827872          0.803983   \n\n   mean_test_accuracy  \n0              0.8175  \n1              0.8175  \n2              0.8175  \n3              0.8175  \n4              0.8175  \n5              0.8175  \n6              0.8175  ",
      "text/html": "<div>\n<style scoped>\n    .dataframe tbody tr th:only-of-type {\n        vertical-align: middle;\n    }\n\n    .dataframe tbody tr th {\n        vertical-align: top;\n    }\n\n    .dataframe thead th {\n        text-align: right;\n    }\n</style>\n<table border=\"1\" class=\"dataframe\">\n  <thead>\n    <tr style=\"text-align: right;\">\n      <th></th>\n      <th>param_C</th>\n      <th>mean_fit_time</th>\n      <th>mean_test_f1</th>\n      <th>mean_test_precision</th>\n      <th>mean_test_recall</th>\n      <th>mean_test_accuracy</th>\n    </tr>\n  </thead>\n  <tbody>\n    <tr>\n      <th>0</th>\n      <td>0.001</td>\n      <td>88.802842</td>\n      <td>0.815064</td>\n      <td>0.827872</td>\n      <td>0.803983</td>\n      <td>0.8175</td>\n    </tr>\n    <tr>\n      <th>1</th>\n      <td>0.01</td>\n      <td>86.668458</td>\n      <td>0.815064</td>\n      <td>0.827872</td>\n      <td>0.803983</td>\n      <td>0.8175</td>\n    </tr>\n    <tr>\n      <th>2</th>\n      <td>0.1</td>\n      <td>85.676329</td>\n      <td>0.815064</td>\n      <td>0.827872</td>\n      <td>0.803983</td>\n      <td>0.8175</td>\n    </tr>\n    <tr>\n      <th>3</th>\n      <td>1</td>\n      <td>88.654822</td>\n      <td>0.815064</td>\n      <td>0.827872</td>\n      <td>0.803983</td>\n      <td>0.8175</td>\n    </tr>\n    <tr>\n      <th>4</th>\n      <td>10</td>\n      <td>88.119997</td>\n      <td>0.815064</td>\n      <td>0.827872</td>\n      <td>0.803983</td>\n      <td>0.8175</td>\n    </tr>\n    <tr>\n      <th>5</th>\n      <td>100</td>\n      <td>88.769875</td>\n      <td>0.815064</td>\n      <td>0.827872</td>\n      <td>0.803983</td>\n      <td>0.8175</td>\n    </tr>\n    <tr>\n      <th>6</th>\n      <td>1000</td>\n      <td>84.894957</td>\n      <td>0.815064</td>\n      <td>0.827872</td>\n      <td>0.803983</td>\n      <td>0.8175</td>\n    </tr>\n  </tbody>\n</table>\n</div>"
     },
     "execution_count": 41,
     "metadata": {},
     "output_type": "execute_result"
    }
   ],
   "source": [
    "cv_result_no_fs[['param_C', 'mean_fit_time', 'mean_test_f1', 'mean_test_precision', 'mean_test_recall', 'mean_test_accuracy']]"
   ],
   "metadata": {
    "collapsed": false,
    "ExecuteTime": {
     "end_time": "2023-10-07T15:39:54.433936600Z",
     "start_time": "2023-10-07T15:39:54.301936500Z"
    }
   },
   "id": "997c699129dd2d46"
  },
  {
   "cell_type": "markdown",
   "source": [
    "## Build and run the model\n",
    "\n",
    "Because all metrics are the same on all C, we train it using the C that provide the least fit time, that is C=0.1"
   ],
   "metadata": {
    "collapsed": false
   },
   "id": "f0b68d13ebda9123"
  },
  {
   "cell_type": "code",
   "execution_count": 13,
   "outputs": [
    {
     "data": {
      "text/plain": "Pipeline(steps=[('selectfrommodel',\n                 SelectFromModel(estimator=SVC(C=0.01, kernel='linear',\n                                               random_state=42))),\n                ('svc', SVC(C=0.01, kernel='linear', random_state=42))])",
      "text/html": "<style>#sk-container-id-2 {color: black;}#sk-container-id-2 pre{padding: 0;}#sk-container-id-2 div.sk-toggleable {background-color: white;}#sk-container-id-2 label.sk-toggleable__label {cursor: pointer;display: block;width: 100%;margin-bottom: 0;padding: 0.3em;box-sizing: border-box;text-align: center;}#sk-container-id-2 label.sk-toggleable__label-arrow:before {content: \"▸\";float: left;margin-right: 0.25em;color: #696969;}#sk-container-id-2 label.sk-toggleable__label-arrow:hover:before {color: black;}#sk-container-id-2 div.sk-estimator:hover label.sk-toggleable__label-arrow:before {color: black;}#sk-container-id-2 div.sk-toggleable__content {max-height: 0;max-width: 0;overflow: hidden;text-align: left;background-color: #f0f8ff;}#sk-container-id-2 div.sk-toggleable__content pre {margin: 0.2em;color: black;border-radius: 0.25em;background-color: #f0f8ff;}#sk-container-id-2 input.sk-toggleable__control:checked~div.sk-toggleable__content {max-height: 200px;max-width: 100%;overflow: auto;}#sk-container-id-2 input.sk-toggleable__control:checked~label.sk-toggleable__label-arrow:before {content: \"▾\";}#sk-container-id-2 div.sk-estimator input.sk-toggleable__control:checked~label.sk-toggleable__label {background-color: #d4ebff;}#sk-container-id-2 div.sk-label input.sk-toggleable__control:checked~label.sk-toggleable__label {background-color: #d4ebff;}#sk-container-id-2 input.sk-hidden--visually {border: 0;clip: rect(1px 1px 1px 1px);clip: rect(1px, 1px, 1px, 1px);height: 1px;margin: -1px;overflow: hidden;padding: 0;position: absolute;width: 1px;}#sk-container-id-2 div.sk-estimator {font-family: monospace;background-color: #f0f8ff;border: 1px dotted black;border-radius: 0.25em;box-sizing: border-box;margin-bottom: 0.5em;}#sk-container-id-2 div.sk-estimator:hover {background-color: #d4ebff;}#sk-container-id-2 div.sk-parallel-item::after {content: \"\";width: 100%;border-bottom: 1px solid gray;flex-grow: 1;}#sk-container-id-2 div.sk-label:hover label.sk-toggleable__label {background-color: #d4ebff;}#sk-container-id-2 div.sk-serial::before {content: \"\";position: absolute;border-left: 1px solid gray;box-sizing: border-box;top: 0;bottom: 0;left: 50%;z-index: 0;}#sk-container-id-2 div.sk-serial {display: flex;flex-direction: column;align-items: center;background-color: white;padding-right: 0.2em;padding-left: 0.2em;position: relative;}#sk-container-id-2 div.sk-item {position: relative;z-index: 1;}#sk-container-id-2 div.sk-parallel {display: flex;align-items: stretch;justify-content: center;background-color: white;position: relative;}#sk-container-id-2 div.sk-item::before, #sk-container-id-2 div.sk-parallel-item::before {content: \"\";position: absolute;border-left: 1px solid gray;box-sizing: border-box;top: 0;bottom: 0;left: 50%;z-index: -1;}#sk-container-id-2 div.sk-parallel-item {display: flex;flex-direction: column;z-index: 1;position: relative;background-color: white;}#sk-container-id-2 div.sk-parallel-item:first-child::after {align-self: flex-end;width: 50%;}#sk-container-id-2 div.sk-parallel-item:last-child::after {align-self: flex-start;width: 50%;}#sk-container-id-2 div.sk-parallel-item:only-child::after {width: 0;}#sk-container-id-2 div.sk-dashed-wrapped {border: 1px dashed gray;margin: 0 0.4em 0.5em 0.4em;box-sizing: border-box;padding-bottom: 0.4em;background-color: white;}#sk-container-id-2 div.sk-label label {font-family: monospace;font-weight: bold;display: inline-block;line-height: 1.2em;}#sk-container-id-2 div.sk-label-container {text-align: center;}#sk-container-id-2 div.sk-container {/* jupyter's `normalize.less` sets `[hidden] { display: none; }` but bootstrap.min.css set `[hidden] { display: none !important; }` so we also need the `!important` here to be able to override the default hidden behavior on the sphinx rendered scikit-learn.org. See: https://github.com/scikit-learn/scikit-learn/issues/21755 */display: inline-block !important;position: relative;}#sk-container-id-2 div.sk-text-repr-fallback {display: none;}</style><div id=\"sk-container-id-2\" class=\"sk-top-container\"><div class=\"sk-text-repr-fallback\"><pre>Pipeline(steps=[(&#x27;selectfrommodel&#x27;,\n                 SelectFromModel(estimator=SVC(C=0.01, kernel=&#x27;linear&#x27;,\n                                               random_state=42))),\n                (&#x27;svc&#x27;, SVC(C=0.01, kernel=&#x27;linear&#x27;, random_state=42))])</pre><b>In a Jupyter environment, please rerun this cell to show the HTML representation or trust the notebook. <br />On GitHub, the HTML representation is unable to render, please try loading this page with nbviewer.org.</b></div><div class=\"sk-container\" hidden><div class=\"sk-item sk-dashed-wrapped\"><div class=\"sk-label-container\"><div class=\"sk-label sk-toggleable\"><input class=\"sk-toggleable__control sk-hidden--visually\" id=\"sk-estimator-id-7\" type=\"checkbox\" ><label for=\"sk-estimator-id-7\" class=\"sk-toggleable__label sk-toggleable__label-arrow\">Pipeline</label><div class=\"sk-toggleable__content\"><pre>Pipeline(steps=[(&#x27;selectfrommodel&#x27;,\n                 SelectFromModel(estimator=SVC(C=0.01, kernel=&#x27;linear&#x27;,\n                                               random_state=42))),\n                (&#x27;svc&#x27;, SVC(C=0.01, kernel=&#x27;linear&#x27;, random_state=42))])</pre></div></div></div><div class=\"sk-serial\"><div class=\"sk-item sk-dashed-wrapped\"><div class=\"sk-label-container\"><div class=\"sk-label sk-toggleable\"><input class=\"sk-toggleable__control sk-hidden--visually\" id=\"sk-estimator-id-8\" type=\"checkbox\" ><label for=\"sk-estimator-id-8\" class=\"sk-toggleable__label sk-toggleable__label-arrow\">selectfrommodel: SelectFromModel</label><div class=\"sk-toggleable__content\"><pre>SelectFromModel(estimator=SVC(C=0.01, kernel=&#x27;linear&#x27;, random_state=42))</pre></div></div></div><div class=\"sk-parallel\"><div class=\"sk-parallel-item\"><div class=\"sk-item\"><div class=\"sk-label-container\"><div class=\"sk-label sk-toggleable\"><input class=\"sk-toggleable__control sk-hidden--visually\" id=\"sk-estimator-id-9\" type=\"checkbox\" ><label for=\"sk-estimator-id-9\" class=\"sk-toggleable__label sk-toggleable__label-arrow\">estimator: SVC</label><div class=\"sk-toggleable__content\"><pre>SVC(C=0.01, kernel=&#x27;linear&#x27;, random_state=42)</pre></div></div></div><div class=\"sk-serial\"><div class=\"sk-item\"><div class=\"sk-estimator sk-toggleable\"><input class=\"sk-toggleable__control sk-hidden--visually\" id=\"sk-estimator-id-10\" type=\"checkbox\" ><label for=\"sk-estimator-id-10\" class=\"sk-toggleable__label sk-toggleable__label-arrow\">SVC</label><div class=\"sk-toggleable__content\"><pre>SVC(C=0.01, kernel=&#x27;linear&#x27;, random_state=42)</pre></div></div></div></div></div></div></div></div><div class=\"sk-item\"><div class=\"sk-estimator sk-toggleable\"><input class=\"sk-toggleable__control sk-hidden--visually\" id=\"sk-estimator-id-11\" type=\"checkbox\" ><label for=\"sk-estimator-id-11\" class=\"sk-toggleable__label sk-toggleable__label-arrow\">SVC</label><div class=\"sk-toggleable__content\"><pre>SVC(C=0.01, kernel=&#x27;linear&#x27;, random_state=42)</pre></div></div></div></div></div></div></div>"
     },
     "execution_count": 13,
     "metadata": {},
     "output_type": "execute_result"
    }
   ],
   "source": [
    "best_param_svm = SVC(kernel=\"linear\", C=0.01, random_state=42)\n",
    "best_selector = SelectFromModel(best_param_svm)\n",
    "new_pipeline = make_pipeline(best_selector,\n",
    "                             best_param_svm)\n",
    "new_pipeline.fit(X_train, y_train)"
   ],
   "metadata": {
    "collapsed": false,
    "ExecuteTime": {
     "end_time": "2023-10-26T10:24:54.268252200Z",
     "start_time": "2023-10-26T10:24:52.848251700Z"
    }
   },
   "id": "2b6925623779762d"
  },
  {
   "cell_type": "code",
   "execution_count": 14,
   "outputs": [
    {
     "data": {
      "text/plain": "['dumps\\\\pipeline_224_globalavgpool.joblib']"
     },
     "execution_count": 14,
     "metadata": {},
     "output_type": "execute_result"
    }
   ],
   "source": [
    "joblib.dump(new_pipeline, r'dumps\\pipeline_224_globalavgpool.joblib')"
   ],
   "metadata": {
    "collapsed": false,
    "ExecuteTime": {
     "end_time": "2023-10-26T10:25:12.861067400Z",
     "start_time": "2023-10-26T10:25:12.777044Z"
    }
   },
   "id": "7ac8ee81eaca6044"
  },
  {
   "cell_type": "markdown",
   "source": [
    "### Calculate Threshold Manually\n",
    "\n",
    "Train SVM on all X_train to calculate the threshold manually"
   ],
   "metadata": {
    "collapsed": false
   },
   "id": "8bcc338b56f2c91b"
  },
  {
   "cell_type": "code",
   "execution_count": 15,
   "outputs": [
    {
     "data": {
      "text/plain": "SVC(C=0.01, kernel='linear')",
      "text/html": "<style>#sk-container-id-3 {color: black;}#sk-container-id-3 pre{padding: 0;}#sk-container-id-3 div.sk-toggleable {background-color: white;}#sk-container-id-3 label.sk-toggleable__label {cursor: pointer;display: block;width: 100%;margin-bottom: 0;padding: 0.3em;box-sizing: border-box;text-align: center;}#sk-container-id-3 label.sk-toggleable__label-arrow:before {content: \"▸\";float: left;margin-right: 0.25em;color: #696969;}#sk-container-id-3 label.sk-toggleable__label-arrow:hover:before {color: black;}#sk-container-id-3 div.sk-estimator:hover label.sk-toggleable__label-arrow:before {color: black;}#sk-container-id-3 div.sk-toggleable__content {max-height: 0;max-width: 0;overflow: hidden;text-align: left;background-color: #f0f8ff;}#sk-container-id-3 div.sk-toggleable__content pre {margin: 0.2em;color: black;border-radius: 0.25em;background-color: #f0f8ff;}#sk-container-id-3 input.sk-toggleable__control:checked~div.sk-toggleable__content {max-height: 200px;max-width: 100%;overflow: auto;}#sk-container-id-3 input.sk-toggleable__control:checked~label.sk-toggleable__label-arrow:before {content: \"▾\";}#sk-container-id-3 div.sk-estimator input.sk-toggleable__control:checked~label.sk-toggleable__label {background-color: #d4ebff;}#sk-container-id-3 div.sk-label input.sk-toggleable__control:checked~label.sk-toggleable__label {background-color: #d4ebff;}#sk-container-id-3 input.sk-hidden--visually {border: 0;clip: rect(1px 1px 1px 1px);clip: rect(1px, 1px, 1px, 1px);height: 1px;margin: -1px;overflow: hidden;padding: 0;position: absolute;width: 1px;}#sk-container-id-3 div.sk-estimator {font-family: monospace;background-color: #f0f8ff;border: 1px dotted black;border-radius: 0.25em;box-sizing: border-box;margin-bottom: 0.5em;}#sk-container-id-3 div.sk-estimator:hover {background-color: #d4ebff;}#sk-container-id-3 div.sk-parallel-item::after {content: \"\";width: 100%;border-bottom: 1px solid gray;flex-grow: 1;}#sk-container-id-3 div.sk-label:hover label.sk-toggleable__label {background-color: #d4ebff;}#sk-container-id-3 div.sk-serial::before {content: \"\";position: absolute;border-left: 1px solid gray;box-sizing: border-box;top: 0;bottom: 0;left: 50%;z-index: 0;}#sk-container-id-3 div.sk-serial {display: flex;flex-direction: column;align-items: center;background-color: white;padding-right: 0.2em;padding-left: 0.2em;position: relative;}#sk-container-id-3 div.sk-item {position: relative;z-index: 1;}#sk-container-id-3 div.sk-parallel {display: flex;align-items: stretch;justify-content: center;background-color: white;position: relative;}#sk-container-id-3 div.sk-item::before, #sk-container-id-3 div.sk-parallel-item::before {content: \"\";position: absolute;border-left: 1px solid gray;box-sizing: border-box;top: 0;bottom: 0;left: 50%;z-index: -1;}#sk-container-id-3 div.sk-parallel-item {display: flex;flex-direction: column;z-index: 1;position: relative;background-color: white;}#sk-container-id-3 div.sk-parallel-item:first-child::after {align-self: flex-end;width: 50%;}#sk-container-id-3 div.sk-parallel-item:last-child::after {align-self: flex-start;width: 50%;}#sk-container-id-3 div.sk-parallel-item:only-child::after {width: 0;}#sk-container-id-3 div.sk-dashed-wrapped {border: 1px dashed gray;margin: 0 0.4em 0.5em 0.4em;box-sizing: border-box;padding-bottom: 0.4em;background-color: white;}#sk-container-id-3 div.sk-label label {font-family: monospace;font-weight: bold;display: inline-block;line-height: 1.2em;}#sk-container-id-3 div.sk-label-container {text-align: center;}#sk-container-id-3 div.sk-container {/* jupyter's `normalize.less` sets `[hidden] { display: none; }` but bootstrap.min.css set `[hidden] { display: none !important; }` so we also need the `!important` here to be able to override the default hidden behavior on the sphinx rendered scikit-learn.org. See: https://github.com/scikit-learn/scikit-learn/issues/21755 */display: inline-block !important;position: relative;}#sk-container-id-3 div.sk-text-repr-fallback {display: none;}</style><div id=\"sk-container-id-3\" class=\"sk-top-container\"><div class=\"sk-text-repr-fallback\"><pre>SVC(C=0.01, kernel=&#x27;linear&#x27;)</pre><b>In a Jupyter environment, please rerun this cell to show the HTML representation or trust the notebook. <br />On GitHub, the HTML representation is unable to render, please try loading this page with nbviewer.org.</b></div><div class=\"sk-container\" hidden><div class=\"sk-item\"><div class=\"sk-estimator sk-toggleable\"><input class=\"sk-toggleable__control sk-hidden--visually\" id=\"sk-estimator-id-12\" type=\"checkbox\" checked><label for=\"sk-estimator-id-12\" class=\"sk-toggleable__label sk-toggleable__label-arrow\">SVC</label><div class=\"sk-toggleable__content\"><pre>SVC(C=0.01, kernel=&#x27;linear&#x27;)</pre></div></div></div></div></div>"
     },
     "execution_count": 15,
     "metadata": {},
     "output_type": "execute_result"
    }
   ],
   "source": [
    "train_svm = SVC(kernel='linear', C=0.01)\n",
    "train_svm.fit(X_train, y_train)"
   ],
   "metadata": {
    "collapsed": false,
    "ExecuteTime": {
     "end_time": "2023-10-26T10:25:26.128336900Z",
     "start_time": "2023-10-26T10:25:24.823338300Z"
    }
   },
   "id": "b40b6de53ab34b99"
  },
  {
   "cell_type": "code",
   "execution_count": 21,
   "outputs": [],
   "source": [
    "np.savetxt(r'data\\svm_coef_224_globalavgpool.txt', train_svm.coef_, delimiter='\\n')"
   ],
   "metadata": {
    "collapsed": false,
    "ExecuteTime": {
     "end_time": "2023-10-26T10:26:48.389595800Z",
     "start_time": "2023-10-26T10:26:48.359799200Z"
    }
   },
   "id": "e9789c398abf1df9"
  },
  {
   "cell_type": "code",
   "execution_count": 22,
   "outputs": [
    {
     "data": {
      "text/plain": "<Figure size 640x480 with 1 Axes>",
      "image/png": "[encoded data removed]"
     },
     "metadata": {},
     "output_type": "display_data"
    }
   ],
   "source": [
    "coef = np.loadtxt(r'data\\svm_coef_224_globalavgpool.txt')\n",
    "plt.hist(coef, bins=30)\n",
    "plt.show()"
   ],
   "metadata": {
    "collapsed": false,
    "ExecuteTime": {
     "end_time": "2023-10-26T10:26:49.784269900Z",
     "start_time": "2023-10-26T10:26:49.597272700Z"
    }
   },
   "id": "7f6fa0980a2bc021"
  },
  {
   "cell_type": "code",
   "execution_count": 23,
   "outputs": [
    {
     "data": {
      "text/plain": "(array([78., 83., 91., 86., 83., 75., 76., 81., 78., 82.]),\n array([1.0000e+00, 2.0550e+02, 4.1000e+02, 6.1450e+02, 8.1900e+02,\n        1.0235e+03, 1.2280e+03, 1.4325e+03, 1.6370e+03, 1.8415e+03,\n        2.0460e+03]),\n <BarContainer object of 10 artists>)"
     },
     "execution_count": 23,
     "metadata": {},
     "output_type": "execute_result"
    },
    {
     "data": {
      "text/plain": "<Figure size 640x480 with 1 Axes>",
      "image/png": "[encoded data removed]"
     },
     "metadata": {},
     "output_type": "display_data"
    }
   ],
   "source": [
    "plt.hist(np.where(np.abs(coef) > np.abs(coef).mean())[0])"
   ],
   "metadata": {
    "collapsed": false,
    "ExecuteTime": {
     "end_time": "2023-10-26T10:26:51.160573900Z",
     "start_time": "2023-10-26T10:26:51.010899900Z"
    }
   },
   "id": "1cd42fe58c04c3"
  },
  {
   "cell_type": "code",
   "execution_count": 24,
   "outputs": [
    {
     "name": "stdout",
     "output_type": "stream",
     "text": [
      "Threshold: 0.026783355159533215\n"
     ]
    }
   ],
   "source": [
    "print('Threshold:', np.abs(train_svm.coef_).mean())"
   ],
   "metadata": {
    "collapsed": false,
    "ExecuteTime": {
     "end_time": "2023-10-26T10:26:53.111804700Z",
     "start_time": "2023-10-26T10:26:53.091805100Z"
    }
   },
   "id": "3e3ffcaff69369fd"
  },
  {
   "cell_type": "markdown",
   "source": [
    "### Get Selector and Estimator Properties"
   ],
   "metadata": {
    "collapsed": false
   },
   "id": "9ac34e7923b99d98"
  },
  {
   "cell_type": "code",
   "execution_count": 25,
   "outputs": [
    {
     "name": "stdout",
     "output_type": "stream",
     "text": [
      "Threshold : 0.026783355159533215\n"
     ]
    }
   ],
   "source": [
    "print('Threshold :', new_pipeline['selectfrommodel'].threshold_)"
   ],
   "metadata": {
    "collapsed": false,
    "ExecuteTime": {
     "end_time": "2023-10-26T10:27:10.654890300Z",
     "start_time": "2023-10-26T10:27:10.619891700Z"
    }
   },
   "id": "bffe352c56dda57b"
  },
  {
   "cell_type": "code",
   "execution_count": 26,
   "outputs": [
    {
     "name": "stdout",
     "output_type": "stream",
     "text": [
      "No. selected feature : (813,)\n"
     ]
    }
   ],
   "source": [
    "print('No. selected feature :', new_pipeline['selectfrommodel'].get_feature_names_out().shape)"
   ],
   "metadata": {
    "collapsed": false,
    "ExecuteTime": {
     "end_time": "2023-10-26T10:27:12.918205400Z",
     "start_time": "2023-10-26T10:27:12.908208200Z"
    }
   },
   "id": "d78623e76f28aacc"
  },
  {
   "cell_type": "code",
   "execution_count": 27,
   "outputs": [],
   "source": [
    "np.savetxt(r'data\\svm_coef_selected_224_globalavgpool.txt', new_pipeline['svc'].coef_, delimiter='\\n')"
   ],
   "metadata": {
    "collapsed": false,
    "ExecuteTime": {
     "end_time": "2023-10-26T10:27:40.143050200Z",
     "start_time": "2023-10-26T10:27:40.124050600Z"
    }
   },
   "id": "19168946c034c2b9"
  },
  {
   "cell_type": "markdown",
   "source": [
    "## Evaluate Model\n",
    "\n",
    "Evaluate model on test data using same metrics from cross-validation."
   ],
   "metadata": {
    "collapsed": false
   },
   "id": "cd91ff0c94ae0467"
  },
  {
   "cell_type": "code",
   "execution_count": 5,
   "outputs": [],
   "source": [
    "new_pipeline = joblib.load(r'dumps\\pipeline_224_globalavgpool.joblib')"
   ],
   "metadata": {
    "collapsed": false,
    "ExecuteTime": {
     "end_time": "2023-10-03T11:30:19.308693800Z",
     "start_time": "2023-10-03T11:30:18.582692900Z"
    }
   },
   "id": "46a9c385c0f4a9bc"
  },
  {
   "cell_type": "code",
   "execution_count": 28,
   "outputs": [
    {
     "data": {
      "text/plain": "           file_name      y_true      y_pred\n1860  DSC04798_4.JPG      normal      normal\n353   DSC04353_4.JPG  terinfeksi  terinfeksi\n1333  DSC04273_8.JPG      normal      normal\n905   DSC04721_6.JPG  terinfeksi  terinfeksi\n1289  DSC04254_9.JPG      normal      normal\n...              ...         ...         ...\n965   DSC04793_5.JPG  terinfeksi  terinfeksi\n1284  DSC04253_7.JPG      normal      normal\n1739  DSC04633_1.JPG      normal      normal\n261   DSC04249_9.JPG  terinfeksi  terinfeksi\n535   DSC04538_6.JPG  terinfeksi  terinfeksi\n\n[400 rows x 3 columns]",
      "text/html": "<div>\n<style scoped>\n    .dataframe tbody tr th:only-of-type {\n        vertical-align: middle;\n    }\n\n    .dataframe tbody tr th {\n        vertical-align: top;\n    }\n\n    .dataframe thead th {\n        text-align: right;\n    }\n</style>\n<table border=\"1\" class=\"dataframe\">\n  <thead>\n    <tr style=\"text-align: right;\">\n      <th></th>\n      <th>file_name</th>\n      <th>y_true</th>\n      <th>y_pred</th>\n    </tr>\n  </thead>\n  <tbody>\n    <tr>\n      <th>1860</th>\n      <td>DSC04798_4.JPG</td>\n      <td>normal</td>\n      <td>normal</td>\n    </tr>\n    <tr>\n      <th>353</th>\n      <td>DSC04353_4.JPG</td>\n      <td>terinfeksi</td>\n      <td>terinfeksi</td>\n    </tr>\n    <tr>\n      <th>1333</th>\n      <td>DSC04273_8.JPG</td>\n      <td>normal</td>\n      <td>normal</td>\n    </tr>\n    <tr>\n      <th>905</th>\n      <td>DSC04721_6.JPG</td>\n      <td>terinfeksi</td>\n      <td>terinfeksi</td>\n    </tr>\n    <tr>\n      <th>1289</th>\n      <td>DSC04254_9.JPG</td>\n      <td>normal</td>\n      <td>normal</td>\n    </tr>\n    <tr>\n      <th>...</th>\n      <td>...</td>\n      <td>...</td>\n      <td>...</td>\n    </tr>\n    <tr>\n      <th>965</th>\n      <td>DSC04793_5.JPG</td>\n      <td>terinfeksi</td>\n      <td>terinfeksi</td>\n    </tr>\n    <tr>\n      <th>1284</th>\n      <td>DSC04253_7.JPG</td>\n      <td>normal</td>\n      <td>normal</td>\n    </tr>\n    <tr>\n      <th>1739</th>\n      <td>DSC04633_1.JPG</td>\n      <td>normal</td>\n      <td>normal</td>\n    </tr>\n    <tr>\n      <th>261</th>\n      <td>DSC04249_9.JPG</td>\n      <td>terinfeksi</td>\n      <td>terinfeksi</td>\n    </tr>\n    <tr>\n      <th>535</th>\n      <td>DSC04538_6.JPG</td>\n      <td>terinfeksi</td>\n      <td>terinfeksi</td>\n    </tr>\n  </tbody>\n</table>\n<p>400 rows × 3 columns</p>\n</div>"
     },
     "execution_count": 28,
     "metadata": {},
     "output_type": "execute_result"
    }
   ],
   "source": [
    "y_pred = new_pipeline.predict(X_test)\n",
    "true_pred_df = pd.DataFrame({'file_name': file_name[X_test.index],\n",
    "                             'y_true': np.where(y_test == 0, 'normal', 'terinfeksi'),\n",
    "                             'y_pred': np.where(y_pred == 0, 'normal', 'terinfeksi')})\n",
    "true_pred_df.to_csv(r'result\\true_pred_224_globalavgpool.csv', index=False)\n",
    "true_pred_df"
   ],
   "metadata": {
    "collapsed": false,
    "ExecuteTime": {
     "end_time": "2023-10-26T10:28:41.108026400Z",
     "start_time": "2023-10-26T10:28:41.041027600Z"
    }
   },
   "id": "9391d030d928b384"
  },
  {
   "cell_type": "code",
   "execution_count": 29,
   "outputs": [
    {
     "name": "stdout",
     "output_type": "stream",
     "text": [
      "[[174  27]\n",
      " [ 31 168]]\n"
     ]
    },
    {
     "data": {
      "text/plain": "<sklearn.metrics._plot.confusion_matrix.ConfusionMatrixDisplay at 0x22189bb3fd0>"
     },
     "execution_count": 29,
     "metadata": {},
     "output_type": "execute_result"
    },
    {
     "data": {
      "text/plain": "<Figure size 640x480 with 2 Axes>",
      "image/png": "[encoded data removed]"
     },
     "metadata": {},
     "output_type": "display_data"
    }
   ],
   "source": [
    "y_pred = new_pipeline.predict(X_test)\n",
    "print(metrics.confusion_matrix(y_test, y_pred))\n",
    "metrics.ConfusionMatrixDisplay.from_predictions(y_test, y_pred, display_labels=['normal', 'infected'], cmap='summer')"
   ],
   "metadata": {
    "collapsed": false,
    "ExecuteTime": {
     "end_time": "2023-10-26T10:28:48.429085400Z",
     "start_time": "2023-10-26T10:28:48.222088700Z"
    }
   },
   "id": "7bed3e2e66c33c35"
  },
  {
   "cell_type": "code",
   "execution_count": 30,
   "outputs": [
    {
     "name": "stdout",
     "output_type": "stream",
     "text": [
      "f1_score: 0.8527918781725888\n",
      "accuracy_score: 0.855\n",
      "precision_score: 0.8615384615384616\n",
      "recall_score: 0.8442211055276382\n"
     ]
    }
   ],
   "source": [
    "metrics_list = [metrics.f1_score,\n",
    "                metrics.accuracy_score,\n",
    "                metrics.precision_score,\n",
    "                metrics.recall_score]\n",
    "\n",
    "for metric in metrics_list:\n",
    "    print(metric.__name__ + ':', metric(y_test, y_pred))"
   ],
   "metadata": {
    "collapsed": false,
    "ExecuteTime": {
     "end_time": "2023-10-26T10:28:55.613887600Z",
     "start_time": "2023-10-26T10:28:55.569888100Z"
    }
   },
   "id": "d276ad7e5e6b345"
  }
 ],
 "metadata": {
  "kernelspec": {
   "display_name": "Python 3",
   "language": "python",
   "name": "python3"
  },
  "language_info": {
   "codemirror_mode": {
    "name": "ipython",
    "version": 2
   },
   "file_extension": ".py",
   "mimetype": "text/x-python",
   "name": "python",
   "nbconvert_exporter": "python",
   "pygments_lexer": "ipython2",
   "version": "2.7.6"
  }
 },
 "nbformat": 4,
 "nbformat_minor": 5
}
