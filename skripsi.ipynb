{
 "cells": [
  {
   "cell_type": "markdown",
   "id": "141f1cecc4308e34",
   "metadata": {
    "collapsed": false
   },
   "source": [
    "# Code lab for Skripsi (Refined)\n",
    "\n",
    "This branch implements the real world scenario of feature selection-train-cross validate-test sequence, so that the validation data does not get leaked by the feature selection method.\n",
    "\n",
    "Feature extraction part is done in `deep_feature_extractior.ipynb` files. This file is used to feature selection and train model"
   ]
  },
  {
   "cell_type": "code",
   "execution_count": 4,
   "id": "4fa8054b82944eb4",
   "metadata": {
    "collapsed": false,
    "ExecuteTime": {
     "end_time": "2023-10-08T02:24:22.420941Z",
     "start_time": "2023-10-08T02:24:21.656697400Z"
    }
   },
   "outputs": [],
   "source": [
    "import pandas as pd\n",
    "import numpy as np\n",
    "from sklearn.feature_selection import SelectFromModel\n",
    "from sklearn.svm import SVC\n",
    "from sklearn.model_selection import GridSearchCV, cross_validate\n",
    "from sklearn.model_selection import train_test_split\n",
    "from sklearn.pipeline import make_pipeline\n",
    "from sklearn import metrics\n",
    "import matplotlib.pyplot as plt\n",
    "\n",
    "import joblib"
   ]
  },
  {
   "cell_type": "code",
   "execution_count": 20,
   "id": "fef4abaaab78ba0f",
   "metadata": {
    "collapsed": false,
    "ExecuteTime": {
     "end_time": "2023-10-08T02:33:37.816941200Z",
     "start_time": "2023-10-08T02:33:29.589003300Z"
    }
   },
   "outputs": [],
   "source": [
    "df = pd.read_parquet('data/orig_img_feature.parquet')"
   ]
  },
  {
   "cell_type": "code",
   "execution_count": 21,
   "outputs": [],
   "source": [
    "file_name = df.pop('file_name')\n",
    "label = df.pop('is_infected')"
   ],
   "metadata": {
    "collapsed": false,
    "ExecuteTime": {
     "end_time": "2023-10-08T02:33:37.888943300Z",
     "start_time": "2023-10-08T02:33:37.850941700Z"
    }
   },
   "id": "95f6b4a0e70b7b5f"
  },
  {
   "cell_type": "code",
   "execution_count": 22,
   "outputs": [],
   "source": [
    "# split data\n",
    "X_train, X_test, y_train, y_test = train_test_split(df, label, test_size=0.2, random_state=42)"
   ],
   "metadata": {
    "collapsed": false,
    "ExecuteTime": {
     "end_time": "2023-10-08T02:33:39.220958700Z",
     "start_time": "2023-10-08T02:33:37.894946500Z"
    }
   },
   "id": "f448f428cea741b8"
  },
  {
   "cell_type": "markdown",
   "source": [
    "## Hyperparameter tuning with Cross Validation\n",
    "\n",
    "Find Hyperparameter C with cross validation and will be using k=10. Metrics being used is F1-Score, Recall, Precision, and Accuracy."
   ],
   "metadata": {
    "collapsed": false
   },
   "id": "b0966cb8af05edf0"
  },
  {
   "cell_type": "markdown",
   "source": [
    "### With Feature Selection"
   ],
   "metadata": {
    "collapsed": false
   },
   "id": "da9335d3e87d0662"
  },
  {
   "cell_type": "code",
   "execution_count": 11,
   "outputs": [
    {
     "name": "stdout",
     "output_type": "stream",
     "text": [
      "C = 0.001\n",
      "-------------------------\n",
      "C = 0.01\n",
      "-------------------------\n",
      "C = 0.1\n",
      "-------------------------\n",
      "C = 1\n",
      "-------------------------\n",
      "C = 10\n",
      "-------------------------\n",
      "C = 100\n",
      "-------------------------\n",
      "C = 1000\n",
      "-------------------------\n"
     ]
    }
   ],
   "source": [
    "svc_C = [0.001, 0.01, 0.1, 1, 10, 100, 1000]\n",
    "METRICS = ['f1', 'recall', 'precision', 'accuracy']\n",
    "cv_results = []\n",
    "\n",
    "for c in svc_C:\n",
    "    svm = SVC(kernel='linear', C=c, random_state=42)\n",
    "    selector = SelectFromModel(svm)\n",
    "    pipeline = make_pipeline(selector, svm)\n",
    "    # pipeline.fit(X_train, y_train)\n",
    "    cv_result = cross_validate(pipeline, X_train, y_train, cv=5, scoring=METRICS)\n",
    "    cv_results.append(cv_result)\n",
    "    print('C =', c)\n",
    "    # print('Threshold :', pipeline['selectfrommodel'].threshold_)\n",
    "    # print('No. selected feature :', pipeline['selectfrommodel'].get_feature_names_out().shape)\n",
    "    # print('Accuracy :', pipeline.score(X_test, y_test))\n",
    "    print('-------------------------\\n')"
   ],
   "metadata": {
    "collapsed": false,
    "ExecuteTime": {
     "end_time": "2023-10-07T13:28:34.960908700Z",
     "start_time": "2023-10-07T11:34:51.767261600Z"
    }
   },
   "id": "4ae9e357d80e2204"
  },
  {
   "cell_type": "code",
   "execution_count": 34,
   "outputs": [
    {
     "data": {
      "text/plain": "   split0_fit_time  split1_fit_time  split2_fit_time  split3_fit_time  \\\n0       172.019574       167.803654       162.506551       163.994127   \n1       162.848231       162.564057       163.826032       173.402894   \n2       169.372138       170.339452       172.216739       174.114386   \n3       188.400851       186.494906       183.164107       188.324466   \n4       179.020320       169.538297       168.180514       167.380631   \n5       172.904278       171.758564       167.034236       172.737628   \n6       216.557693       201.053431       189.831080       178.342986   \n\n   split4_fit_time  split0_score_time  split1_score_time  split2_score_time  \\\n0       161.380582          15.560406          15.378515          15.038853   \n1       170.724461          15.260124          15.308259          15.130209   \n2       180.542132          15.537602          15.758531          15.739427   \n3       184.614994          17.048309          18.610208          16.748530   \n4       169.486408          16.009531          15.600528          15.234541   \n5       295.692074          15.779090          15.527566          15.236147   \n6       175.809031          17.711566          17.529551          15.768149   \n\n   split3_score_time  split4_score_time  ...  split0_test_precision  \\\n0          15.322293          14.995886  ...               0.837662   \n1          16.060339          15.436579  ...               0.837662   \n2          16.001642          17.975934  ...               0.837662   \n3          16.827398          16.086066  ...               0.837662   \n4          16.093523          16.270541  ...               0.837662   \n5          16.185142          22.361372  ...               0.837662   \n6          16.039544          15.569001  ...               0.837662   \n\n   split1_test_precision  split2_test_precision  split3_test_precision  \\\n0                0.84106               0.793939               0.822086   \n1                0.84106               0.793939               0.822086   \n2                0.84106               0.793939               0.822086   \n3                0.84106               0.793939               0.822086   \n4                0.84106               0.793939               0.822086   \n5                0.84106               0.793939               0.822086   \n6                0.84106               0.793939               0.822086   \n\n   split4_test_precision  split0_test_accuracy  split1_test_accuracy  \\\n0               0.856115              0.821875              0.821875   \n1               0.856115              0.821875              0.821875   \n2               0.856115              0.821875              0.821875   \n3               0.856115              0.821875              0.821875   \n4               0.856115              0.821875              0.821875   \n5               0.856115              0.821875              0.821875   \n6               0.856115              0.821875              0.821875   \n\n   split2_test_accuracy  split3_test_accuracy  split4_test_accuracy  \n0              0.803125              0.828125              0.809375  \n1              0.803125              0.828125              0.809375  \n2              0.803125              0.828125              0.809375  \n3              0.803125              0.828125              0.809375  \n4              0.803125              0.828125              0.809375  \n5              0.803125              0.828125              0.809375  \n6              0.803125              0.828125              0.809375  \n\n[7 rows x 30 columns]",
      "text/html": "<div>\n<style scoped>\n    .dataframe tbody tr th:only-of-type {\n        vertical-align: middle;\n    }\n\n    .dataframe tbody tr th {\n        vertical-align: top;\n    }\n\n    .dataframe thead th {\n        text-align: right;\n    }\n</style>\n<table border=\"1\" class=\"dataframe\">\n  <thead>\n    <tr style=\"text-align: right;\">\n      <th></th>\n      <th>split0_fit_time</th>\n      <th>split1_fit_time</th>\n      <th>split2_fit_time</th>\n      <th>split3_fit_time</th>\n      <th>split4_fit_time</th>\n      <th>split0_score_time</th>\n      <th>split1_score_time</th>\n      <th>split2_score_time</th>\n      <th>split3_score_time</th>\n      <th>split4_score_time</th>\n      <th>...</th>\n      <th>split0_test_precision</th>\n      <th>split1_test_precision</th>\n      <th>split2_test_precision</th>\n      <th>split3_test_precision</th>\n      <th>split4_test_precision</th>\n      <th>split0_test_accuracy</th>\n      <th>split1_test_accuracy</th>\n      <th>split2_test_accuracy</th>\n      <th>split3_test_accuracy</th>\n      <th>split4_test_accuracy</th>\n    </tr>\n  </thead>\n  <tbody>\n    <tr>\n      <th>0</th>\n      <td>172.019574</td>\n      <td>167.803654</td>\n      <td>162.506551</td>\n      <td>163.994127</td>\n      <td>161.380582</td>\n      <td>15.560406</td>\n      <td>15.378515</td>\n      <td>15.038853</td>\n      <td>15.322293</td>\n      <td>14.995886</td>\n      <td>...</td>\n      <td>0.837662</td>\n      <td>0.84106</td>\n      <td>0.793939</td>\n      <td>0.822086</td>\n      <td>0.856115</td>\n      <td>0.821875</td>\n      <td>0.821875</td>\n      <td>0.803125</td>\n      <td>0.828125</td>\n      <td>0.809375</td>\n    </tr>\n    <tr>\n      <th>1</th>\n      <td>162.848231</td>\n      <td>162.564057</td>\n      <td>163.826032</td>\n      <td>173.402894</td>\n      <td>170.724461</td>\n      <td>15.260124</td>\n      <td>15.308259</td>\n      <td>15.130209</td>\n      <td>16.060339</td>\n      <td>15.436579</td>\n      <td>...</td>\n      <td>0.837662</td>\n      <td>0.84106</td>\n      <td>0.793939</td>\n      <td>0.822086</td>\n      <td>0.856115</td>\n      <td>0.821875</td>\n      <td>0.821875</td>\n      <td>0.803125</td>\n      <td>0.828125</td>\n      <td>0.809375</td>\n    </tr>\n    <tr>\n      <th>2</th>\n      <td>169.372138</td>\n      <td>170.339452</td>\n      <td>172.216739</td>\n      <td>174.114386</td>\n      <td>180.542132</td>\n      <td>15.537602</td>\n      <td>15.758531</td>\n      <td>15.739427</td>\n      <td>16.001642</td>\n      <td>17.975934</td>\n      <td>...</td>\n      <td>0.837662</td>\n      <td>0.84106</td>\n      <td>0.793939</td>\n      <td>0.822086</td>\n      <td>0.856115</td>\n      <td>0.821875</td>\n      <td>0.821875</td>\n      <td>0.803125</td>\n      <td>0.828125</td>\n      <td>0.809375</td>\n    </tr>\n    <tr>\n      <th>3</th>\n      <td>188.400851</td>\n      <td>186.494906</td>\n      <td>183.164107</td>\n      <td>188.324466</td>\n      <td>184.614994</td>\n      <td>17.048309</td>\n      <td>18.610208</td>\n      <td>16.748530</td>\n      <td>16.827398</td>\n      <td>16.086066</td>\n      <td>...</td>\n      <td>0.837662</td>\n      <td>0.84106</td>\n      <td>0.793939</td>\n      <td>0.822086</td>\n      <td>0.856115</td>\n      <td>0.821875</td>\n      <td>0.821875</td>\n      <td>0.803125</td>\n      <td>0.828125</td>\n      <td>0.809375</td>\n    </tr>\n    <tr>\n      <th>4</th>\n      <td>179.020320</td>\n      <td>169.538297</td>\n      <td>168.180514</td>\n      <td>167.380631</td>\n      <td>169.486408</td>\n      <td>16.009531</td>\n      <td>15.600528</td>\n      <td>15.234541</td>\n      <td>16.093523</td>\n      <td>16.270541</td>\n      <td>...</td>\n      <td>0.837662</td>\n      <td>0.84106</td>\n      <td>0.793939</td>\n      <td>0.822086</td>\n      <td>0.856115</td>\n      <td>0.821875</td>\n      <td>0.821875</td>\n      <td>0.803125</td>\n      <td>0.828125</td>\n      <td>0.809375</td>\n    </tr>\n    <tr>\n      <th>5</th>\n      <td>172.904278</td>\n      <td>171.758564</td>\n      <td>167.034236</td>\n      <td>172.737628</td>\n      <td>295.692074</td>\n      <td>15.779090</td>\n      <td>15.527566</td>\n      <td>15.236147</td>\n      <td>16.185142</td>\n      <td>22.361372</td>\n      <td>...</td>\n      <td>0.837662</td>\n      <td>0.84106</td>\n      <td>0.793939</td>\n      <td>0.822086</td>\n      <td>0.856115</td>\n      <td>0.821875</td>\n      <td>0.821875</td>\n      <td>0.803125</td>\n      <td>0.828125</td>\n      <td>0.809375</td>\n    </tr>\n    <tr>\n      <th>6</th>\n      <td>216.557693</td>\n      <td>201.053431</td>\n      <td>189.831080</td>\n      <td>178.342986</td>\n      <td>175.809031</td>\n      <td>17.711566</td>\n      <td>17.529551</td>\n      <td>15.768149</td>\n      <td>16.039544</td>\n      <td>15.569001</td>\n      <td>...</td>\n      <td>0.837662</td>\n      <td>0.84106</td>\n      <td>0.793939</td>\n      <td>0.822086</td>\n      <td>0.856115</td>\n      <td>0.821875</td>\n      <td>0.821875</td>\n      <td>0.803125</td>\n      <td>0.828125</td>\n      <td>0.809375</td>\n    </tr>\n  </tbody>\n</table>\n<p>7 rows × 30 columns</p>\n</div>"
     },
     "execution_count": 34,
     "metadata": {},
     "output_type": "execute_result"
    }
   ],
   "source": [
    "results_array = []\n",
    "for i in range(len(cv_results)):\n",
    "    results_array.append(np.concatenate(list(cv_results[i].values())))\n",
    "results_array = np.vstack(results_array)\n",
    "\n",
    "columns_list = [f'split{i}_{x}' for x in cv_results[0].keys() for i in range(5)]\n",
    "cv_results_df = pd.DataFrame(results_array,\n",
    "                             columns=columns_list)\n",
    "cv_results_df"
   ],
   "metadata": {
    "collapsed": false,
    "ExecuteTime": {
     "end_time": "2023-10-07T14:29:52.406874700Z",
     "start_time": "2023-10-07T14:29:52.372862600Z"
    }
   },
   "id": "5e5b4ad6e49f9e37"
  },
  {
   "cell_type": "code",
   "execution_count": 37,
   "outputs": [
    {
     "data": {
      "text/plain": "          C  split0_fit_time  split1_fit_time  split2_fit_time  \\\n0     0.001       172.019574       167.803654       162.506551   \n1     0.010       162.848231       162.564057       163.826032   \n2     0.100       169.372138       170.339452       172.216739   \n3     1.000       188.400851       186.494906       183.164107   \n4    10.000       179.020320       169.538297       168.180514   \n5   100.000       172.904278       171.758564       167.034236   \n6  1000.000       216.557693       201.053431       189.831080   \n\n   split3_fit_time  split4_fit_time  split0_score_time  split1_score_time  \\\n0       163.994127       161.380582          15.560406          15.378515   \n1       173.402894       170.724461          15.260124          15.308259   \n2       174.114386       180.542132          15.537602          15.758531   \n3       188.324466       184.614994          17.048309          18.610208   \n4       167.380631       169.486408          16.009531          15.600528   \n5       172.737628       295.692074          15.779090          15.527566   \n6       178.342986       175.809031          17.711566          17.529551   \n\n   split2_score_time  split3_score_time  ...  split1_test_accuracy  \\\n0          15.038853          15.322293  ...              0.821875   \n1          15.130209          16.060339  ...              0.821875   \n2          15.739427          16.001642  ...              0.821875   \n3          16.748530          16.827398  ...              0.821875   \n4          15.234541          16.093523  ...              0.821875   \n5          15.236147          16.185142  ...              0.821875   \n6          15.768149          16.039544  ...              0.821875   \n\n   split2_test_accuracy  split3_test_accuracy  split4_test_accuracy  \\\n0              0.803125              0.828125              0.809375   \n1              0.803125              0.828125              0.809375   \n2              0.803125              0.828125              0.809375   \n3              0.803125              0.828125              0.809375   \n4              0.803125              0.828125              0.809375   \n5              0.803125              0.828125              0.809375   \n6              0.803125              0.828125              0.809375   \n\n   mean_fit_time  mean_score_time  mean_test_f1  mean_test_recall  \\\n0     165.540898        15.259191      0.813526          0.798998   \n1     166.673135        15.439102      0.813526          0.798998   \n2     173.316970        16.202627      0.813526          0.798998   \n3     186.199865        17.064102      0.813526          0.798998   \n4     170.721234        15.841733      0.813526          0.798998   \n5     196.025356        17.017863      0.813526          0.798998   \n6     192.318844        16.523562      0.813526          0.798998   \n\n   mean_test_precision  mean_test_accuracy  \n0             0.830172            0.816875  \n1             0.830172            0.816875  \n2             0.830172            0.816875  \n3             0.830172            0.816875  \n4             0.830172            0.816875  \n5             0.830172            0.816875  \n6             0.830172            0.816875  \n\n[7 rows x 37 columns]",
      "text/html": "<div>\n<style scoped>\n    .dataframe tbody tr th:only-of-type {\n        vertical-align: middle;\n    }\n\n    .dataframe tbody tr th {\n        vertical-align: top;\n    }\n\n    .dataframe thead th {\n        text-align: right;\n    }\n</style>\n<table border=\"1\" class=\"dataframe\">\n  <thead>\n    <tr style=\"text-align: right;\">\n      <th></th>\n      <th>C</th>\n      <th>split0_fit_time</th>\n      <th>split1_fit_time</th>\n      <th>split2_fit_time</th>\n      <th>split3_fit_time</th>\n      <th>split4_fit_time</th>\n      <th>split0_score_time</th>\n      <th>split1_score_time</th>\n      <th>split2_score_time</th>\n      <th>split3_score_time</th>\n      <th>...</th>\n      <th>split1_test_accuracy</th>\n      <th>split2_test_accuracy</th>\n      <th>split3_test_accuracy</th>\n      <th>split4_test_accuracy</th>\n      <th>mean_fit_time</th>\n      <th>mean_score_time</th>\n      <th>mean_test_f1</th>\n      <th>mean_test_recall</th>\n      <th>mean_test_precision</th>\n      <th>mean_test_accuracy</th>\n    </tr>\n  </thead>\n  <tbody>\n    <tr>\n      <th>0</th>\n      <td>0.001</td>\n      <td>172.019574</td>\n      <td>167.803654</td>\n      <td>162.506551</td>\n      <td>163.994127</td>\n      <td>161.380582</td>\n      <td>15.560406</td>\n      <td>15.378515</td>\n      <td>15.038853</td>\n      <td>15.322293</td>\n      <td>...</td>\n      <td>0.821875</td>\n      <td>0.803125</td>\n      <td>0.828125</td>\n      <td>0.809375</td>\n      <td>165.540898</td>\n      <td>15.259191</td>\n      <td>0.813526</td>\n      <td>0.798998</td>\n      <td>0.830172</td>\n      <td>0.816875</td>\n    </tr>\n    <tr>\n      <th>1</th>\n      <td>0.010</td>\n      <td>162.848231</td>\n      <td>162.564057</td>\n      <td>163.826032</td>\n      <td>173.402894</td>\n      <td>170.724461</td>\n      <td>15.260124</td>\n      <td>15.308259</td>\n      <td>15.130209</td>\n      <td>16.060339</td>\n      <td>...</td>\n      <td>0.821875</td>\n      <td>0.803125</td>\n      <td>0.828125</td>\n      <td>0.809375</td>\n      <td>166.673135</td>\n      <td>15.439102</td>\n      <td>0.813526</td>\n      <td>0.798998</td>\n      <td>0.830172</td>\n      <td>0.816875</td>\n    </tr>\n    <tr>\n      <th>2</th>\n      <td>0.100</td>\n      <td>169.372138</td>\n      <td>170.339452</td>\n      <td>172.216739</td>\n      <td>174.114386</td>\n      <td>180.542132</td>\n      <td>15.537602</td>\n      <td>15.758531</td>\n      <td>15.739427</td>\n      <td>16.001642</td>\n      <td>...</td>\n      <td>0.821875</td>\n      <td>0.803125</td>\n      <td>0.828125</td>\n      <td>0.809375</td>\n      <td>173.316970</td>\n      <td>16.202627</td>\n      <td>0.813526</td>\n      <td>0.798998</td>\n      <td>0.830172</td>\n      <td>0.816875</td>\n    </tr>\n    <tr>\n      <th>3</th>\n      <td>1.000</td>\n      <td>188.400851</td>\n      <td>186.494906</td>\n      <td>183.164107</td>\n      <td>188.324466</td>\n      <td>184.614994</td>\n      <td>17.048309</td>\n      <td>18.610208</td>\n      <td>16.748530</td>\n      <td>16.827398</td>\n      <td>...</td>\n      <td>0.821875</td>\n      <td>0.803125</td>\n      <td>0.828125</td>\n      <td>0.809375</td>\n      <td>186.199865</td>\n      <td>17.064102</td>\n      <td>0.813526</td>\n      <td>0.798998</td>\n      <td>0.830172</td>\n      <td>0.816875</td>\n    </tr>\n    <tr>\n      <th>4</th>\n      <td>10.000</td>\n      <td>179.020320</td>\n      <td>169.538297</td>\n      <td>168.180514</td>\n      <td>167.380631</td>\n      <td>169.486408</td>\n      <td>16.009531</td>\n      <td>15.600528</td>\n      <td>15.234541</td>\n      <td>16.093523</td>\n      <td>...</td>\n      <td>0.821875</td>\n      <td>0.803125</td>\n      <td>0.828125</td>\n      <td>0.809375</td>\n      <td>170.721234</td>\n      <td>15.841733</td>\n      <td>0.813526</td>\n      <td>0.798998</td>\n      <td>0.830172</td>\n      <td>0.816875</td>\n    </tr>\n    <tr>\n      <th>5</th>\n      <td>100.000</td>\n      <td>172.904278</td>\n      <td>171.758564</td>\n      <td>167.034236</td>\n      <td>172.737628</td>\n      <td>295.692074</td>\n      <td>15.779090</td>\n      <td>15.527566</td>\n      <td>15.236147</td>\n      <td>16.185142</td>\n      <td>...</td>\n      <td>0.821875</td>\n      <td>0.803125</td>\n      <td>0.828125</td>\n      <td>0.809375</td>\n      <td>196.025356</td>\n      <td>17.017863</td>\n      <td>0.813526</td>\n      <td>0.798998</td>\n      <td>0.830172</td>\n      <td>0.816875</td>\n    </tr>\n    <tr>\n      <th>6</th>\n      <td>1000.000</td>\n      <td>216.557693</td>\n      <td>201.053431</td>\n      <td>189.831080</td>\n      <td>178.342986</td>\n      <td>175.809031</td>\n      <td>17.711566</td>\n      <td>17.529551</td>\n      <td>15.768149</td>\n      <td>16.039544</td>\n      <td>...</td>\n      <td>0.821875</td>\n      <td>0.803125</td>\n      <td>0.828125</td>\n      <td>0.809375</td>\n      <td>192.318844</td>\n      <td>16.523562</td>\n      <td>0.813526</td>\n      <td>0.798998</td>\n      <td>0.830172</td>\n      <td>0.816875</td>\n    </tr>\n  </tbody>\n</table>\n<p>7 rows × 37 columns</p>\n</div>"
     },
     "execution_count": 37,
     "metadata": {},
     "output_type": "execute_result"
    }
   ],
   "source": [
    "cv_results_df.insert(0, 'C', svc_C)\n",
    "cv_results_df['mean_fit_time'] = cv_results_df[['split0_fit_time', 'split1_fit_time', 'split2_fit_time', 'split3_fit_time', 'split4_fit_time']].mean(axis=1)\n",
    "cv_results_df['mean_score_time'] = cv_results_df[['split0_score_time', 'split1_score_time', 'split2_score_time', 'split3_score_time', 'split4_score_time']].mean(axis=1)\n",
    "cv_results_df['mean_test_f1'] = cv_results_df[['split0_test_f1', 'split1_test_f1', 'split2_test_f1', 'split3_test_f1', 'split4_test_f1']].mean(axis=1)\n",
    "cv_results_df['mean_test_recall'] = cv_results_df[['split0_test_recall', 'split1_test_recall', 'split2_test_recall', 'split3_test_recall', 'split4_test_recall']].mean(axis=1)\n",
    "cv_results_df['mean_test_precision'] = cv_results_df[['split0_test_precision', 'split1_test_precision', 'split2_test_precision', 'split3_test_precision', 'split4_test_precision']].mean(axis=1)\n",
    "cv_results_df['mean_test_accuracy'] = cv_results_df[['split0_test_accuracy', 'split1_test_accuracy', 'split2_test_accuracy', 'split3_test_accuracy', 'split4_test_accuracy']].mean(axis=1)\n",
    "cv_results_df"
   ],
   "metadata": {
    "collapsed": false,
    "ExecuteTime": {
     "end_time": "2023-10-07T14:36:31.642091300Z",
     "start_time": "2023-10-07T14:36:31.606233Z"
    }
   },
   "id": "8e82a6fb6cb547a6"
  },
  {
   "cell_type": "code",
   "execution_count": 38,
   "outputs": [
    {
     "data": {
      "text/plain": "          C  mean_fit_time  mean_test_f1  mean_test_recall  \\\n0     0.001     165.540898      0.813526          0.798998   \n1     0.010     166.673135      0.813526          0.798998   \n2     0.100     173.316970      0.813526          0.798998   \n3     1.000     186.199865      0.813526          0.798998   \n4    10.000     170.721234      0.813526          0.798998   \n5   100.000     196.025356      0.813526          0.798998   \n6  1000.000     192.318844      0.813526          0.798998   \n\n   mean_test_precision  mean_test_accuracy  \n0             0.830172            0.816875  \n1             0.830172            0.816875  \n2             0.830172            0.816875  \n3             0.830172            0.816875  \n4             0.830172            0.816875  \n5             0.830172            0.816875  \n6             0.830172            0.816875  ",
      "text/html": "<div>\n<style scoped>\n    .dataframe tbody tr th:only-of-type {\n        vertical-align: middle;\n    }\n\n    .dataframe tbody tr th {\n        vertical-align: top;\n    }\n\n    .dataframe thead th {\n        text-align: right;\n    }\n</style>\n<table border=\"1\" class=\"dataframe\">\n  <thead>\n    <tr style=\"text-align: right;\">\n      <th></th>\n      <th>C</th>\n      <th>mean_fit_time</th>\n      <th>mean_test_f1</th>\n      <th>mean_test_recall</th>\n      <th>mean_test_precision</th>\n      <th>mean_test_accuracy</th>\n    </tr>\n  </thead>\n  <tbody>\n    <tr>\n      <th>0</th>\n      <td>0.001</td>\n      <td>165.540898</td>\n      <td>0.813526</td>\n      <td>0.798998</td>\n      <td>0.830172</td>\n      <td>0.816875</td>\n    </tr>\n    <tr>\n      <th>1</th>\n      <td>0.010</td>\n      <td>166.673135</td>\n      <td>0.813526</td>\n      <td>0.798998</td>\n      <td>0.830172</td>\n      <td>0.816875</td>\n    </tr>\n    <tr>\n      <th>2</th>\n      <td>0.100</td>\n      <td>173.316970</td>\n      <td>0.813526</td>\n      <td>0.798998</td>\n      <td>0.830172</td>\n      <td>0.816875</td>\n    </tr>\n    <tr>\n      <th>3</th>\n      <td>1.000</td>\n      <td>186.199865</td>\n      <td>0.813526</td>\n      <td>0.798998</td>\n      <td>0.830172</td>\n      <td>0.816875</td>\n    </tr>\n    <tr>\n      <th>4</th>\n      <td>10.000</td>\n      <td>170.721234</td>\n      <td>0.813526</td>\n      <td>0.798998</td>\n      <td>0.830172</td>\n      <td>0.816875</td>\n    </tr>\n    <tr>\n      <th>5</th>\n      <td>100.000</td>\n      <td>196.025356</td>\n      <td>0.813526</td>\n      <td>0.798998</td>\n      <td>0.830172</td>\n      <td>0.816875</td>\n    </tr>\n    <tr>\n      <th>6</th>\n      <td>1000.000</td>\n      <td>192.318844</td>\n      <td>0.813526</td>\n      <td>0.798998</td>\n      <td>0.830172</td>\n      <td>0.816875</td>\n    </tr>\n  </tbody>\n</table>\n</div>"
     },
     "execution_count": 38,
     "metadata": {},
     "output_type": "execute_result"
    }
   ],
   "source": [
    "cv_results_df.to_csv(r'result\\cv_results_fs.tsv', sep='\\t', index=False)\n",
    "cv_results_df[['C', 'mean_fit_time', 'mean_test_f1', 'mean_test_recall', 'mean_test_precision', 'mean_test_accuracy']]"
   ],
   "metadata": {
    "collapsed": false,
    "ExecuteTime": {
     "end_time": "2023-10-07T14:38:00.562710900Z",
     "start_time": "2023-10-07T14:38:00.501159500Z"
    }
   },
   "id": "2a5a5fd7042a9ac7"
  },
  {
   "cell_type": "markdown",
   "source": [
    "#### With Different Threshold"
   ],
   "metadata": {
    "collapsed": false
   },
   "id": "455b6d9a7f6f0f55"
  },
  {
   "cell_type": "code",
   "execution_count": 33,
   "outputs": [
    {
     "name": "stdout",
     "output_type": "stream",
     "text": [
      "Fitting 5 folds for each of 14 candidates, totalling 70 fits\n"
     ]
    },
    {
     "data": {
      "text/plain": "GridSearchCV(cv=5,\n             estimator=Pipeline(steps=[('selectfrommodel',\n                                        SelectFromModel(estimator=SVC(kernel='linear',\n                                                                      random_state=42))),\n                                       ('svc',\n                                        SVC(kernel='linear',\n                                            random_state=42))]),\n             n_jobs=3,\n             param_grid={'selectfrommodel__threshold': ['median', 'mean'],\n                         'svc__C': [0.001, 0.01, 0.1, 1, 10, 100, 1000]},\n             refit=False, scoring=['f1', 'recall', 'precision', 'accuracy'],\n             verbose=3)",
      "text/html": "<style>#sk-container-id-1 {color: black;}#sk-container-id-1 pre{padding: 0;}#sk-container-id-1 div.sk-toggleable {background-color: white;}#sk-container-id-1 label.sk-toggleable__label {cursor: pointer;display: block;width: 100%;margin-bottom: 0;padding: 0.3em;box-sizing: border-box;text-align: center;}#sk-container-id-1 label.sk-toggleable__label-arrow:before {content: \"▸\";float: left;margin-right: 0.25em;color: #696969;}#sk-container-id-1 label.sk-toggleable__label-arrow:hover:before {color: black;}#sk-container-id-1 div.sk-estimator:hover label.sk-toggleable__label-arrow:before {color: black;}#sk-container-id-1 div.sk-toggleable__content {max-height: 0;max-width: 0;overflow: hidden;text-align: left;background-color: #f0f8ff;}#sk-container-id-1 div.sk-toggleable__content pre {margin: 0.2em;color: black;border-radius: 0.25em;background-color: #f0f8ff;}#sk-container-id-1 input.sk-toggleable__control:checked~div.sk-toggleable__content {max-height: 200px;max-width: 100%;overflow: auto;}#sk-container-id-1 input.sk-toggleable__control:checked~label.sk-toggleable__label-arrow:before {content: \"▾\";}#sk-container-id-1 div.sk-estimator input.sk-toggleable__control:checked~label.sk-toggleable__label {background-color: #d4ebff;}#sk-container-id-1 div.sk-label input.sk-toggleable__control:checked~label.sk-toggleable__label {background-color: #d4ebff;}#sk-container-id-1 input.sk-hidden--visually {border: 0;clip: rect(1px 1px 1px 1px);clip: rect(1px, 1px, 1px, 1px);height: 1px;margin: -1px;overflow: hidden;padding: 0;position: absolute;width: 1px;}#sk-container-id-1 div.sk-estimator {font-family: monospace;background-color: #f0f8ff;border: 1px dotted black;border-radius: 0.25em;box-sizing: border-box;margin-bottom: 0.5em;}#sk-container-id-1 div.sk-estimator:hover {background-color: #d4ebff;}#sk-container-id-1 div.sk-parallel-item::after {content: \"\";width: 100%;border-bottom: 1px solid gray;flex-grow: 1;}#sk-container-id-1 div.sk-label:hover label.sk-toggleable__label {background-color: #d4ebff;}#sk-container-id-1 div.sk-serial::before {content: \"\";position: absolute;border-left: 1px solid gray;box-sizing: border-box;top: 0;bottom: 0;left: 50%;z-index: 0;}#sk-container-id-1 div.sk-serial {display: flex;flex-direction: column;align-items: center;background-color: white;padding-right: 0.2em;padding-left: 0.2em;position: relative;}#sk-container-id-1 div.sk-item {position: relative;z-index: 1;}#sk-container-id-1 div.sk-parallel {display: flex;align-items: stretch;justify-content: center;background-color: white;position: relative;}#sk-container-id-1 div.sk-item::before, #sk-container-id-1 div.sk-parallel-item::before {content: \"\";position: absolute;border-left: 1px solid gray;box-sizing: border-box;top: 0;bottom: 0;left: 50%;z-index: -1;}#sk-container-id-1 div.sk-parallel-item {display: flex;flex-direction: column;z-index: 1;position: relative;background-color: white;}#sk-container-id-1 div.sk-parallel-item:first-child::after {align-self: flex-end;width: 50%;}#sk-container-id-1 div.sk-parallel-item:last-child::after {align-self: flex-start;width: 50%;}#sk-container-id-1 div.sk-parallel-item:only-child::after {width: 0;}#sk-container-id-1 div.sk-dashed-wrapped {border: 1px dashed gray;margin: 0 0.4em 0.5em 0.4em;box-sizing: border-box;padding-bottom: 0.4em;background-color: white;}#sk-container-id-1 div.sk-label label {font-family: monospace;font-weight: bold;display: inline-block;line-height: 1.2em;}#sk-container-id-1 div.sk-label-container {text-align: center;}#sk-container-id-1 div.sk-container {/* jupyter's `normalize.less` sets `[hidden] { display: none; }` but bootstrap.min.css set `[hidden] { display: none !important; }` so we also need the `!important` here to be able to override the default hidden behavior on the sphinx rendered scikit-learn.org. See: https://github.com/scikit-learn/scikit-learn/issues/21755 */display: inline-block !important;position: relative;}#sk-container-id-1 div.sk-text-repr-fallback {display: none;}</style><div id=\"sk-container-id-1\" class=\"sk-top-container\"><div class=\"sk-text-repr-fallback\"><pre>GridSearchCV(cv=5,\n             estimator=Pipeline(steps=[(&#x27;selectfrommodel&#x27;,\n                                        SelectFromModel(estimator=SVC(kernel=&#x27;linear&#x27;,\n                                                                      random_state=42))),\n                                       (&#x27;svc&#x27;,\n                                        SVC(kernel=&#x27;linear&#x27;,\n                                            random_state=42))]),\n             n_jobs=3,\n             param_grid={&#x27;selectfrommodel__threshold&#x27;: [&#x27;median&#x27;, &#x27;mean&#x27;],\n                         &#x27;svc__C&#x27;: [0.001, 0.01, 0.1, 1, 10, 100, 1000]},\n             refit=False, scoring=[&#x27;f1&#x27;, &#x27;recall&#x27;, &#x27;precision&#x27;, &#x27;accuracy&#x27;],\n             verbose=3)</pre><b>In a Jupyter environment, please rerun this cell to show the HTML representation or trust the notebook. <br />On GitHub, the HTML representation is unable to render, please try loading this page with nbviewer.org.</b></div><div class=\"sk-container\" hidden><div class=\"sk-item sk-dashed-wrapped\"><div class=\"sk-label-container\"><div class=\"sk-label sk-toggleable\"><input class=\"sk-toggleable__control sk-hidden--visually\" id=\"sk-estimator-id-1\" type=\"checkbox\" ><label for=\"sk-estimator-id-1\" class=\"sk-toggleable__label sk-toggleable__label-arrow\">GridSearchCV</label><div class=\"sk-toggleable__content\"><pre>GridSearchCV(cv=5,\n             estimator=Pipeline(steps=[(&#x27;selectfrommodel&#x27;,\n                                        SelectFromModel(estimator=SVC(kernel=&#x27;linear&#x27;,\n                                                                      random_state=42))),\n                                       (&#x27;svc&#x27;,\n                                        SVC(kernel=&#x27;linear&#x27;,\n                                            random_state=42))]),\n             n_jobs=3,\n             param_grid={&#x27;selectfrommodel__threshold&#x27;: [&#x27;median&#x27;, &#x27;mean&#x27;],\n                         &#x27;svc__C&#x27;: [0.001, 0.01, 0.1, 1, 10, 100, 1000]},\n             refit=False, scoring=[&#x27;f1&#x27;, &#x27;recall&#x27;, &#x27;precision&#x27;, &#x27;accuracy&#x27;],\n             verbose=3)</pre></div></div></div><div class=\"sk-parallel\"><div class=\"sk-parallel-item\"><div class=\"sk-item\"><div class=\"sk-label-container\"><div class=\"sk-label sk-toggleable\"><input class=\"sk-toggleable__control sk-hidden--visually\" id=\"sk-estimator-id-2\" type=\"checkbox\" ><label for=\"sk-estimator-id-2\" class=\"sk-toggleable__label sk-toggleable__label-arrow\">estimator: Pipeline</label><div class=\"sk-toggleable__content\"><pre>Pipeline(steps=[(&#x27;selectfrommodel&#x27;,\n                 SelectFromModel(estimator=SVC(kernel=&#x27;linear&#x27;,\n                                               random_state=42))),\n                (&#x27;svc&#x27;, SVC(kernel=&#x27;linear&#x27;, random_state=42))])</pre></div></div></div><div class=\"sk-serial\"><div class=\"sk-item\"><div class=\"sk-serial\"><div class=\"sk-item sk-dashed-wrapped\"><div class=\"sk-label-container\"><div class=\"sk-label sk-toggleable\"><input class=\"sk-toggleable__control sk-hidden--visually\" id=\"sk-estimator-id-3\" type=\"checkbox\" ><label for=\"sk-estimator-id-3\" class=\"sk-toggleable__label sk-toggleable__label-arrow\">selectfrommodel: SelectFromModel</label><div class=\"sk-toggleable__content\"><pre>SelectFromModel(estimator=SVC(kernel=&#x27;linear&#x27;, random_state=42))</pre></div></div></div><div class=\"sk-parallel\"><div class=\"sk-parallel-item\"><div class=\"sk-item\"><div class=\"sk-label-container\"><div class=\"sk-label sk-toggleable\"><input class=\"sk-toggleable__control sk-hidden--visually\" id=\"sk-estimator-id-4\" type=\"checkbox\" ><label for=\"sk-estimator-id-4\" class=\"sk-toggleable__label sk-toggleable__label-arrow\">estimator: SVC</label><div class=\"sk-toggleable__content\"><pre>SVC(kernel=&#x27;linear&#x27;, random_state=42)</pre></div></div></div><div class=\"sk-serial\"><div class=\"sk-item\"><div class=\"sk-estimator sk-toggleable\"><input class=\"sk-toggleable__control sk-hidden--visually\" id=\"sk-estimator-id-5\" type=\"checkbox\" ><label for=\"sk-estimator-id-5\" class=\"sk-toggleable__label sk-toggleable__label-arrow\">SVC</label><div class=\"sk-toggleable__content\"><pre>SVC(kernel=&#x27;linear&#x27;, random_state=42)</pre></div></div></div></div></div></div></div></div><div class=\"sk-item\"><div class=\"sk-estimator sk-toggleable\"><input class=\"sk-toggleable__control sk-hidden--visually\" id=\"sk-estimator-id-6\" type=\"checkbox\" ><label for=\"sk-estimator-id-6\" class=\"sk-toggleable__label sk-toggleable__label-arrow\">SVC</label><div class=\"sk-toggleable__content\"><pre>SVC(kernel=&#x27;linear&#x27;, random_state=42)</pre></div></div></div></div></div></div></div></div></div></div></div></div>"
     },
     "execution_count": 33,
     "metadata": {},
     "output_type": "execute_result"
    }
   ],
   "source": [
    "PARAM_GRID = {\n",
    "    'selectfrommodel__threshold': ['median', 'mean'],\n",
    "    'svc__C': svc_C\n",
    "}\n",
    "\n",
    "grid = GridSearchCV(\n",
    "    make_pipeline(SelectFromModel(SVC(kernel='linear', random_state=42)),\n",
    "                  SVC(kernel='linear', random_state=42)),\n",
    "    cv=5,\n",
    "    param_grid=PARAM_GRID,\n",
    "    scoring=METRICS,\n",
    "    refit=False,\n",
    "    verbose=3,\n",
    "    n_jobs=3\n",
    ")\n",
    "grid.fit(X_train, y_train)"
   ],
   "metadata": {
    "collapsed": false,
    "ExecuteTime": {
     "end_time": "2023-10-08T04:13:34.684373300Z",
     "start_time": "2023-10-08T03:16:53.503810600Z"
    }
   },
   "id": "3eccefc1f4e734b3"
  },
  {
   "cell_type": "code",
   "execution_count": 35,
   "outputs": [
    {
     "data": {
      "text/plain": "    mean_fit_time  std_fit_time  mean_score_time  std_score_time  \\\n0      140.874095      2.173206         9.454942        0.246573   \n1      137.068109      1.861415         9.439970        0.259842   \n2      135.226752      1.202863        10.090891        0.755222   \n3      146.502533      8.051628         9.789306        0.224660   \n4      142.628306     10.414513        10.317771        0.979422   \n5      161.569926      2.957687        11.654606        0.723967   \n6      161.192413      6.122381        10.598723        0.728030   \n7      139.115029      9.410259         7.778150        0.731643   \n8      121.577390      0.721674         7.660295        0.346042   \n9      121.559452      0.652586         7.533047        0.211295   \n10     122.098436      0.902073         7.671944        0.411663   \n11     121.159971      0.741168         7.980445        0.517632   \n12     120.596160      0.895706         7.723657        0.409147   \n13     111.383379     20.307263         7.381370        0.885586   \n\n   param_selectfrommodel__threshold param_svc__C  \\\n0                            median        0.001   \n1                            median         0.01   \n2                            median          0.1   \n3                            median            1   \n4                            median           10   \n5                            median          100   \n6                            median         1000   \n7                              mean        0.001   \n8                              mean         0.01   \n9                              mean          0.1   \n10                             mean            1   \n11                             mean           10   \n12                             mean          100   \n13                             mean         1000   \n\n                                               params  split0_test_f1  \\\n0   {'selectfrommodel__threshold': 'median', 'svc_...        0.823899   \n1   {'selectfrommodel__threshold': 'median', 'svc_...        0.823899   \n2   {'selectfrommodel__threshold': 'median', 'svc_...        0.823899   \n3   {'selectfrommodel__threshold': 'median', 'svc_...        0.823899   \n4   {'selectfrommodel__threshold': 'median', 'svc_...        0.823899   \n5   {'selectfrommodel__threshold': 'median', 'svc_...        0.823899   \n6   {'selectfrommodel__threshold': 'median', 'svc_...        0.823899   \n7   {'selectfrommodel__threshold': 'mean', 'svc__C...        0.819048   \n8   {'selectfrommodel__threshold': 'mean', 'svc__C...        0.819048   \n9   {'selectfrommodel__threshold': 'mean', 'svc__C...        0.819048   \n10  {'selectfrommodel__threshold': 'mean', 'svc__C...        0.819048   \n11  {'selectfrommodel__threshold': 'mean', 'svc__C...        0.819048   \n12  {'selectfrommodel__threshold': 'mean', 'svc__C...        0.819048   \n13  {'selectfrommodel__threshold': 'mean', 'svc__C...        0.819048   \n\n    split1_test_f1  split2_test_f1  ...  std_test_precision  \\\n0         0.817891        0.806154  ...            0.020764   \n1         0.817891        0.806154  ...            0.020764   \n2         0.817891        0.806154  ...            0.020764   \n3         0.817891        0.806154  ...            0.020764   \n4         0.817891        0.806154  ...            0.020764   \n5         0.817891        0.806154  ...            0.020764   \n6         0.817891        0.806154  ...            0.020764   \n7         0.816720        0.806154  ...            0.021099   \n8         0.816720        0.806154  ...            0.021099   \n9         0.816720        0.806154  ...            0.021099   \n10        0.816720        0.806154  ...            0.021099   \n11        0.816720        0.806154  ...            0.021099   \n12        0.816720        0.806154  ...            0.021099   \n13        0.816720        0.806154  ...            0.021099   \n\n    rank_test_precision  split0_test_accuracy  split1_test_accuracy  \\\n0                     8              0.825000              0.821875   \n1                     8              0.825000              0.821875   \n2                     8              0.825000              0.821875   \n3                     8              0.825000              0.821875   \n4                     8              0.825000              0.821875   \n5                     8              0.825000              0.821875   \n6                     8              0.825000              0.821875   \n7                     1              0.821875              0.821875   \n8                     1              0.821875              0.821875   \n9                     1              0.821875              0.821875   \n10                    1              0.821875              0.821875   \n11                    1              0.821875              0.821875   \n12                    1              0.821875              0.821875   \n13                    1              0.821875              0.821875   \n\n    split2_test_accuracy  split3_test_accuracy  split4_test_accuracy  \\\n0               0.803125              0.828125              0.812500   \n1               0.803125              0.828125              0.812500   \n2               0.803125              0.828125              0.812500   \n3               0.803125              0.828125              0.812500   \n4               0.803125              0.828125              0.812500   \n5               0.803125              0.828125              0.812500   \n6               0.803125              0.828125              0.812500   \n7               0.803125              0.828125              0.809375   \n8               0.803125              0.828125              0.809375   \n9               0.803125              0.828125              0.809375   \n10              0.803125              0.828125              0.809375   \n11              0.803125              0.828125              0.809375   \n12              0.803125              0.828125              0.809375   \n13              0.803125              0.828125              0.809375   \n\n    mean_test_accuracy  std_test_accuracy  rank_test_accuracy  \n0             0.818125           0.009143                   1  \n1             0.818125           0.009143                   1  \n2             0.818125           0.009143                   1  \n3             0.818125           0.009143                   1  \n4             0.818125           0.009143                   1  \n5             0.818125           0.009143                   1  \n6             0.818125           0.009143                   1  \n7             0.816875           0.009186                   8  \n8             0.816875           0.009186                   8  \n9             0.816875           0.009186                   8  \n10            0.816875           0.009186                   8  \n11            0.816875           0.009186                   8  \n12            0.816875           0.009186                   8  \n13            0.816875           0.009186                   8  \n\n[14 rows x 39 columns]",
      "text/html": "<div>\n<style scoped>\n    .dataframe tbody tr th:only-of-type {\n        vertical-align: middle;\n    }\n\n    .dataframe tbody tr th {\n        vertical-align: top;\n    }\n\n    .dataframe thead th {\n        text-align: right;\n    }\n</style>\n<table border=\"1\" class=\"dataframe\">\n  <thead>\n    <tr style=\"text-align: right;\">\n      <th></th>\n      <th>mean_fit_time</th>\n      <th>std_fit_time</th>\n      <th>mean_score_time</th>\n      <th>std_score_time</th>\n      <th>param_selectfrommodel__threshold</th>\n      <th>param_svc__C</th>\n      <th>params</th>\n      <th>split0_test_f1</th>\n      <th>split1_test_f1</th>\n      <th>split2_test_f1</th>\n      <th>...</th>\n      <th>std_test_precision</th>\n      <th>rank_test_precision</th>\n      <th>split0_test_accuracy</th>\n      <th>split1_test_accuracy</th>\n      <th>split2_test_accuracy</th>\n      <th>split3_test_accuracy</th>\n      <th>split4_test_accuracy</th>\n      <th>mean_test_accuracy</th>\n      <th>std_test_accuracy</th>\n      <th>rank_test_accuracy</th>\n    </tr>\n  </thead>\n  <tbody>\n    <tr>\n      <th>0</th>\n      <td>140.874095</td>\n      <td>2.173206</td>\n      <td>9.454942</td>\n      <td>0.246573</td>\n      <td>median</td>\n      <td>0.001</td>\n      <td>{'selectfrommodel__threshold': 'median', 'svc_...</td>\n      <td>0.823899</td>\n      <td>0.817891</td>\n      <td>0.806154</td>\n      <td>...</td>\n      <td>0.020764</td>\n      <td>8</td>\n      <td>0.825000</td>\n      <td>0.821875</td>\n      <td>0.803125</td>\n      <td>0.828125</td>\n      <td>0.812500</td>\n      <td>0.818125</td>\n      <td>0.009143</td>\n      <td>1</td>\n    </tr>\n    <tr>\n      <th>1</th>\n      <td>137.068109</td>\n      <td>1.861415</td>\n      <td>9.439970</td>\n      <td>0.259842</td>\n      <td>median</td>\n      <td>0.01</td>\n      <td>{'selectfrommodel__threshold': 'median', 'svc_...</td>\n      <td>0.823899</td>\n      <td>0.817891</td>\n      <td>0.806154</td>\n      <td>...</td>\n      <td>0.020764</td>\n      <td>8</td>\n      <td>0.825000</td>\n      <td>0.821875</td>\n      <td>0.803125</td>\n      <td>0.828125</td>\n      <td>0.812500</td>\n      <td>0.818125</td>\n      <td>0.009143</td>\n      <td>1</td>\n    </tr>\n    <tr>\n      <th>2</th>\n      <td>135.226752</td>\n      <td>1.202863</td>\n      <td>10.090891</td>\n      <td>0.755222</td>\n      <td>median</td>\n      <td>0.1</td>\n      <td>{'selectfrommodel__threshold': 'median', 'svc_...</td>\n      <td>0.823899</td>\n      <td>0.817891</td>\n      <td>0.806154</td>\n      <td>...</td>\n      <td>0.020764</td>\n      <td>8</td>\n      <td>0.825000</td>\n      <td>0.821875</td>\n      <td>0.803125</td>\n      <td>0.828125</td>\n      <td>0.812500</td>\n      <td>0.818125</td>\n      <td>0.009143</td>\n      <td>1</td>\n    </tr>\n    <tr>\n      <th>3</th>\n      <td>146.502533</td>\n      <td>8.051628</td>\n      <td>9.789306</td>\n      <td>0.224660</td>\n      <td>median</td>\n      <td>1</td>\n      <td>{'selectfrommodel__threshold': 'median', 'svc_...</td>\n      <td>0.823899</td>\n      <td>0.817891</td>\n      <td>0.806154</td>\n      <td>...</td>\n      <td>0.020764</td>\n      <td>8</td>\n      <td>0.825000</td>\n      <td>0.821875</td>\n      <td>0.803125</td>\n      <td>0.828125</td>\n      <td>0.812500</td>\n      <td>0.818125</td>\n      <td>0.009143</td>\n      <td>1</td>\n    </tr>\n    <tr>\n      <th>4</th>\n      <td>142.628306</td>\n      <td>10.414513</td>\n      <td>10.317771</td>\n      <td>0.979422</td>\n      <td>median</td>\n      <td>10</td>\n      <td>{'selectfrommodel__threshold': 'median', 'svc_...</td>\n      <td>0.823899</td>\n      <td>0.817891</td>\n      <td>0.806154</td>\n      <td>...</td>\n      <td>0.020764</td>\n      <td>8</td>\n      <td>0.825000</td>\n      <td>0.821875</td>\n      <td>0.803125</td>\n      <td>0.828125</td>\n      <td>0.812500</td>\n      <td>0.818125</td>\n      <td>0.009143</td>\n      <td>1</td>\n    </tr>\n    <tr>\n      <th>5</th>\n      <td>161.569926</td>\n      <td>2.957687</td>\n      <td>11.654606</td>\n      <td>0.723967</td>\n      <td>median</td>\n      <td>100</td>\n      <td>{'selectfrommodel__threshold': 'median', 'svc_...</td>\n      <td>0.823899</td>\n      <td>0.817891</td>\n      <td>0.806154</td>\n      <td>...</td>\n      <td>0.020764</td>\n      <td>8</td>\n      <td>0.825000</td>\n      <td>0.821875</td>\n      <td>0.803125</td>\n      <td>0.828125</td>\n      <td>0.812500</td>\n      <td>0.818125</td>\n      <td>0.009143</td>\n      <td>1</td>\n    </tr>\n    <tr>\n      <th>6</th>\n      <td>161.192413</td>\n      <td>6.122381</td>\n      <td>10.598723</td>\n      <td>0.728030</td>\n      <td>median</td>\n      <td>1000</td>\n      <td>{'selectfrommodel__threshold': 'median', 'svc_...</td>\n      <td>0.823899</td>\n      <td>0.817891</td>\n      <td>0.806154</td>\n      <td>...</td>\n      <td>0.020764</td>\n      <td>8</td>\n      <td>0.825000</td>\n      <td>0.821875</td>\n      <td>0.803125</td>\n      <td>0.828125</td>\n      <td>0.812500</td>\n      <td>0.818125</td>\n      <td>0.009143</td>\n      <td>1</td>\n    </tr>\n    <tr>\n      <th>7</th>\n      <td>139.115029</td>\n      <td>9.410259</td>\n      <td>7.778150</td>\n      <td>0.731643</td>\n      <td>mean</td>\n      <td>0.001</td>\n      <td>{'selectfrommodel__threshold': 'mean', 'svc__C...</td>\n      <td>0.819048</td>\n      <td>0.816720</td>\n      <td>0.806154</td>\n      <td>...</td>\n      <td>0.021099</td>\n      <td>1</td>\n      <td>0.821875</td>\n      <td>0.821875</td>\n      <td>0.803125</td>\n      <td>0.828125</td>\n      <td>0.809375</td>\n      <td>0.816875</td>\n      <td>0.009186</td>\n      <td>8</td>\n    </tr>\n    <tr>\n      <th>8</th>\n      <td>121.577390</td>\n      <td>0.721674</td>\n      <td>7.660295</td>\n      <td>0.346042</td>\n      <td>mean</td>\n      <td>0.01</td>\n      <td>{'selectfrommodel__threshold': 'mean', 'svc__C...</td>\n      <td>0.819048</td>\n      <td>0.816720</td>\n      <td>0.806154</td>\n      <td>...</td>\n      <td>0.021099</td>\n      <td>1</td>\n      <td>0.821875</td>\n      <td>0.821875</td>\n      <td>0.803125</td>\n      <td>0.828125</td>\n      <td>0.809375</td>\n      <td>0.816875</td>\n      <td>0.009186</td>\n      <td>8</td>\n    </tr>\n    <tr>\n      <th>9</th>\n      <td>121.559452</td>\n      <td>0.652586</td>\n      <td>7.533047</td>\n      <td>0.211295</td>\n      <td>mean</td>\n      <td>0.1</td>\n      <td>{'selectfrommodel__threshold': 'mean', 'svc__C...</td>\n      <td>0.819048</td>\n      <td>0.816720</td>\n      <td>0.806154</td>\n      <td>...</td>\n      <td>0.021099</td>\n      <td>1</td>\n      <td>0.821875</td>\n      <td>0.821875</td>\n      <td>0.803125</td>\n      <td>0.828125</td>\n      <td>0.809375</td>\n      <td>0.816875</td>\n      <td>0.009186</td>\n      <td>8</td>\n    </tr>\n    <tr>\n      <th>10</th>\n      <td>122.098436</td>\n      <td>0.902073</td>\n      <td>7.671944</td>\n      <td>0.411663</td>\n      <td>mean</td>\n      <td>1</td>\n      <td>{'selectfrommodel__threshold': 'mean', 'svc__C...</td>\n      <td>0.819048</td>\n      <td>0.816720</td>\n      <td>0.806154</td>\n      <td>...</td>\n      <td>0.021099</td>\n      <td>1</td>\n      <td>0.821875</td>\n      <td>0.821875</td>\n      <td>0.803125</td>\n      <td>0.828125</td>\n      <td>0.809375</td>\n      <td>0.816875</td>\n      <td>0.009186</td>\n      <td>8</td>\n    </tr>\n    <tr>\n      <th>11</th>\n      <td>121.159971</td>\n      <td>0.741168</td>\n      <td>7.980445</td>\n      <td>0.517632</td>\n      <td>mean</td>\n      <td>10</td>\n      <td>{'selectfrommodel__threshold': 'mean', 'svc__C...</td>\n      <td>0.819048</td>\n      <td>0.816720</td>\n      <td>0.806154</td>\n      <td>...</td>\n      <td>0.021099</td>\n      <td>1</td>\n      <td>0.821875</td>\n      <td>0.821875</td>\n      <td>0.803125</td>\n      <td>0.828125</td>\n      <td>0.809375</td>\n      <td>0.816875</td>\n      <td>0.009186</td>\n      <td>8</td>\n    </tr>\n    <tr>\n      <th>12</th>\n      <td>120.596160</td>\n      <td>0.895706</td>\n      <td>7.723657</td>\n      <td>0.409147</td>\n      <td>mean</td>\n      <td>100</td>\n      <td>{'selectfrommodel__threshold': 'mean', 'svc__C...</td>\n      <td>0.819048</td>\n      <td>0.816720</td>\n      <td>0.806154</td>\n      <td>...</td>\n      <td>0.021099</td>\n      <td>1</td>\n      <td>0.821875</td>\n      <td>0.821875</td>\n      <td>0.803125</td>\n      <td>0.828125</td>\n      <td>0.809375</td>\n      <td>0.816875</td>\n      <td>0.009186</td>\n      <td>8</td>\n    </tr>\n    <tr>\n      <th>13</th>\n      <td>111.383379</td>\n      <td>20.307263</td>\n      <td>7.381370</td>\n      <td>0.885586</td>\n      <td>mean</td>\n      <td>1000</td>\n      <td>{'selectfrommodel__threshold': 'mean', 'svc__C...</td>\n      <td>0.819048</td>\n      <td>0.816720</td>\n      <td>0.806154</td>\n      <td>...</td>\n      <td>0.021099</td>\n      <td>1</td>\n      <td>0.821875</td>\n      <td>0.821875</td>\n      <td>0.803125</td>\n      <td>0.828125</td>\n      <td>0.809375</td>\n      <td>0.816875</td>\n      <td>0.009186</td>\n      <td>8</td>\n    </tr>\n  </tbody>\n</table>\n<p>14 rows × 39 columns</p>\n</div>"
     },
     "execution_count": 35,
     "metadata": {},
     "output_type": "execute_result"
    }
   ],
   "source": [
    "pd.DataFrame(grid.cv_results_)"
   ],
   "metadata": {
    "collapsed": false,
    "ExecuteTime": {
     "end_time": "2023-10-08T06:16:38.555703Z",
     "start_time": "2023-10-08T06:16:38.456657400Z"
    }
   },
   "id": "e16d50098165bd5f"
  },
  {
   "cell_type": "markdown",
   "source": [
    "### Without Feature Selection"
   ],
   "metadata": {
    "collapsed": false
   },
   "id": "b2a29744f85dda2d"
  },
  {
   "cell_type": "code",
   "execution_count": null,
   "outputs": [],
   "source": [
    "PARAM_GRID = {'C': svc_C}\n",
    "\n",
    "grid_no_fs = GridSearchCV(\n",
    "    SVC(kernel='linear', random_state=42),\n",
    "    cv=5,\n",
    "    param_grid=PARAM_GRID,\n",
    "    scoring=METRICS,\n",
    "    refit=False,\n",
    "    verbose=3\n",
    ")\n",
    "grid_no_fs.fit(X_train, y_train)"
   ],
   "metadata": {
    "collapsed": false
   },
   "id": "48a41575e2f1bc94"
  },
  {
   "cell_type": "code",
   "execution_count": 40,
   "outputs": [
    {
     "data": {
      "text/plain": "   mean_fit_time  std_fit_time  mean_score_time  std_score_time param_C  \\\n0      88.802842      0.944986        16.622678        0.262505   0.001   \n1      86.668458      0.498128        16.472115        0.216653    0.01   \n2      85.676329      0.682434        16.501517        0.196086     0.1   \n3      88.654822      2.457385        16.551476        0.416479       1   \n4      88.119997      1.343442        17.029122        0.641395      10   \n5      88.769875      2.984865        16.633774        0.619866     100   \n6      84.894957      1.007263        16.099048        0.207735    1000   \n\n         params  split0_test_f1  split1_test_f1  split2_test_f1  \\\n0  {'C': 0.001}        0.821317        0.824281             0.8   \n1   {'C': 0.01}        0.821317        0.824281             0.8   \n2    {'C': 0.1}        0.821317        0.824281             0.8   \n3      {'C': 1}        0.821317        0.824281             0.8   \n4     {'C': 10}        0.821317        0.824281             0.8   \n5    {'C': 100}        0.821317        0.824281             0.8   \n6   {'C': 1000}        0.821317        0.824281             0.8   \n\n   split3_test_f1  ...  std_test_precision  rank_test_precision  \\\n0        0.829721  ...            0.023342                    1   \n1        0.829721  ...            0.023342                    1   \n2        0.829721  ...            0.023342                    1   \n3        0.829721  ...            0.023342                    1   \n4        0.829721  ...            0.023342                    1   \n5        0.829721  ...            0.023342                    1   \n6        0.829721  ...            0.023342                    1   \n\n   split0_test_accuracy  split1_test_accuracy  split2_test_accuracy  \\\n0              0.821875              0.828125              0.796875   \n1              0.821875              0.828125              0.796875   \n2              0.821875              0.828125              0.796875   \n3              0.821875              0.828125              0.796875   \n4              0.821875              0.828125              0.796875   \n5              0.821875              0.828125              0.796875   \n6              0.821875              0.828125              0.796875   \n\n   split3_test_accuracy  split4_test_accuracy  mean_test_accuracy  \\\n0              0.828125                0.8125              0.8175   \n1              0.828125                0.8125              0.8175   \n2              0.828125                0.8125              0.8175   \n3              0.828125                0.8125              0.8175   \n4              0.828125                0.8125              0.8175   \n5              0.828125                0.8125              0.8175   \n6              0.828125                0.8125              0.8175   \n\n   std_test_accuracy  rank_test_accuracy  \n0           0.011792                   1  \n1           0.011792                   1  \n2           0.011792                   1  \n3           0.011792                   1  \n4           0.011792                   1  \n5           0.011792                   1  \n6           0.011792                   1  \n\n[7 rows x 38 columns]",
      "text/html": "<div>\n<style scoped>\n    .dataframe tbody tr th:only-of-type {\n        vertical-align: middle;\n    }\n\n    .dataframe tbody tr th {\n        vertical-align: top;\n    }\n\n    .dataframe thead th {\n        text-align: right;\n    }\n</style>\n<table border=\"1\" class=\"dataframe\">\n  <thead>\n    <tr style=\"text-align: right;\">\n      <th></th>\n      <th>mean_fit_time</th>\n      <th>std_fit_time</th>\n      <th>mean_score_time</th>\n      <th>std_score_time</th>\n      <th>param_C</th>\n      <th>params</th>\n      <th>split0_test_f1</th>\n      <th>split1_test_f1</th>\n      <th>split2_test_f1</th>\n      <th>split3_test_f1</th>\n      <th>...</th>\n      <th>std_test_precision</th>\n      <th>rank_test_precision</th>\n      <th>split0_test_accuracy</th>\n      <th>split1_test_accuracy</th>\n      <th>split2_test_accuracy</th>\n      <th>split3_test_accuracy</th>\n      <th>split4_test_accuracy</th>\n      <th>mean_test_accuracy</th>\n      <th>std_test_accuracy</th>\n      <th>rank_test_accuracy</th>\n    </tr>\n  </thead>\n  <tbody>\n    <tr>\n      <th>0</th>\n      <td>88.802842</td>\n      <td>0.944986</td>\n      <td>16.622678</td>\n      <td>0.262505</td>\n      <td>0.001</td>\n      <td>{'C': 0.001}</td>\n      <td>0.821317</td>\n      <td>0.824281</td>\n      <td>0.8</td>\n      <td>0.829721</td>\n      <td>...</td>\n      <td>0.023342</td>\n      <td>1</td>\n      <td>0.821875</td>\n      <td>0.828125</td>\n      <td>0.796875</td>\n      <td>0.828125</td>\n      <td>0.8125</td>\n      <td>0.8175</td>\n      <td>0.011792</td>\n      <td>1</td>\n    </tr>\n    <tr>\n      <th>1</th>\n      <td>86.668458</td>\n      <td>0.498128</td>\n      <td>16.472115</td>\n      <td>0.216653</td>\n      <td>0.01</td>\n      <td>{'C': 0.01}</td>\n      <td>0.821317</td>\n      <td>0.824281</td>\n      <td>0.8</td>\n      <td>0.829721</td>\n      <td>...</td>\n      <td>0.023342</td>\n      <td>1</td>\n      <td>0.821875</td>\n      <td>0.828125</td>\n      <td>0.796875</td>\n      <td>0.828125</td>\n      <td>0.8125</td>\n      <td>0.8175</td>\n      <td>0.011792</td>\n      <td>1</td>\n    </tr>\n    <tr>\n      <th>2</th>\n      <td>85.676329</td>\n      <td>0.682434</td>\n      <td>16.501517</td>\n      <td>0.196086</td>\n      <td>0.1</td>\n      <td>{'C': 0.1}</td>\n      <td>0.821317</td>\n      <td>0.824281</td>\n      <td>0.8</td>\n      <td>0.829721</td>\n      <td>...</td>\n      <td>0.023342</td>\n      <td>1</td>\n      <td>0.821875</td>\n      <td>0.828125</td>\n      <td>0.796875</td>\n      <td>0.828125</td>\n      <td>0.8125</td>\n      <td>0.8175</td>\n      <td>0.011792</td>\n      <td>1</td>\n    </tr>\n    <tr>\n      <th>3</th>\n      <td>88.654822</td>\n      <td>2.457385</td>\n      <td>16.551476</td>\n      <td>0.416479</td>\n      <td>1</td>\n      <td>{'C': 1}</td>\n      <td>0.821317</td>\n      <td>0.824281</td>\n      <td>0.8</td>\n      <td>0.829721</td>\n      <td>...</td>\n      <td>0.023342</td>\n      <td>1</td>\n      <td>0.821875</td>\n      <td>0.828125</td>\n      <td>0.796875</td>\n      <td>0.828125</td>\n      <td>0.8125</td>\n      <td>0.8175</td>\n      <td>0.011792</td>\n      <td>1</td>\n    </tr>\n    <tr>\n      <th>4</th>\n      <td>88.119997</td>\n      <td>1.343442</td>\n      <td>17.029122</td>\n      <td>0.641395</td>\n      <td>10</td>\n      <td>{'C': 10}</td>\n      <td>0.821317</td>\n      <td>0.824281</td>\n      <td>0.8</td>\n      <td>0.829721</td>\n      <td>...</td>\n      <td>0.023342</td>\n      <td>1</td>\n      <td>0.821875</td>\n      <td>0.828125</td>\n      <td>0.796875</td>\n      <td>0.828125</td>\n      <td>0.8125</td>\n      <td>0.8175</td>\n      <td>0.011792</td>\n      <td>1</td>\n    </tr>\n    <tr>\n      <th>5</th>\n      <td>88.769875</td>\n      <td>2.984865</td>\n      <td>16.633774</td>\n      <td>0.619866</td>\n      <td>100</td>\n      <td>{'C': 100}</td>\n      <td>0.821317</td>\n      <td>0.824281</td>\n      <td>0.8</td>\n      <td>0.829721</td>\n      <td>...</td>\n      <td>0.023342</td>\n      <td>1</td>\n      <td>0.821875</td>\n      <td>0.828125</td>\n      <td>0.796875</td>\n      <td>0.828125</td>\n      <td>0.8125</td>\n      <td>0.8175</td>\n      <td>0.011792</td>\n      <td>1</td>\n    </tr>\n    <tr>\n      <th>6</th>\n      <td>84.894957</td>\n      <td>1.007263</td>\n      <td>16.099048</td>\n      <td>0.207735</td>\n      <td>1000</td>\n      <td>{'C': 1000}</td>\n      <td>0.821317</td>\n      <td>0.824281</td>\n      <td>0.8</td>\n      <td>0.829721</td>\n      <td>...</td>\n      <td>0.023342</td>\n      <td>1</td>\n      <td>0.821875</td>\n      <td>0.828125</td>\n      <td>0.796875</td>\n      <td>0.828125</td>\n      <td>0.8125</td>\n      <td>0.8175</td>\n      <td>0.011792</td>\n      <td>1</td>\n    </tr>\n  </tbody>\n</table>\n<p>7 rows × 38 columns</p>\n</div>"
     },
     "execution_count": 40,
     "metadata": {},
     "output_type": "execute_result"
    }
   ],
   "source": [
    "cv_result_no_fs = pd.DataFrame(grid_no_fs.cv_results_)\n",
    "cv_result_no_fs.to_csv(r'result\\cv_result_no_fs.tsv', sep='\\t', index=False)\n",
    "cv_result_no_fs"
   ],
   "metadata": {
    "collapsed": false,
    "ExecuteTime": {
     "end_time": "2023-10-07T15:39:54.295935600Z",
     "start_time": "2023-10-07T15:39:54.200938800Z"
    }
   },
   "id": "22a3767b85819a3"
  },
  {
   "cell_type": "code",
   "execution_count": 41,
   "outputs": [
    {
     "data": {
      "text/plain": "  param_C  mean_fit_time  mean_test_f1  mean_test_precision  mean_test_recall  \\\n0   0.001      88.802842      0.815064             0.827872          0.803983   \n1    0.01      86.668458      0.815064             0.827872          0.803983   \n2     0.1      85.676329      0.815064             0.827872          0.803983   \n3       1      88.654822      0.815064             0.827872          0.803983   \n4      10      88.119997      0.815064             0.827872          0.803983   \n5     100      88.769875      0.815064             0.827872          0.803983   \n6    1000      84.894957      0.815064             0.827872          0.803983   \n\n   mean_test_accuracy  \n0              0.8175  \n1              0.8175  \n2              0.8175  \n3              0.8175  \n4              0.8175  \n5              0.8175  \n6              0.8175  ",
      "text/html": "<div>\n<style scoped>\n    .dataframe tbody tr th:only-of-type {\n        vertical-align: middle;\n    }\n\n    .dataframe tbody tr th {\n        vertical-align: top;\n    }\n\n    .dataframe thead th {\n        text-align: right;\n    }\n</style>\n<table border=\"1\" class=\"dataframe\">\n  <thead>\n    <tr style=\"text-align: right;\">\n      <th></th>\n      <th>param_C</th>\n      <th>mean_fit_time</th>\n      <th>mean_test_f1</th>\n      <th>mean_test_precision</th>\n      <th>mean_test_recall</th>\n      <th>mean_test_accuracy</th>\n    </tr>\n  </thead>\n  <tbody>\n    <tr>\n      <th>0</th>\n      <td>0.001</td>\n      <td>88.802842</td>\n      <td>0.815064</td>\n      <td>0.827872</td>\n      <td>0.803983</td>\n      <td>0.8175</td>\n    </tr>\n    <tr>\n      <th>1</th>\n      <td>0.01</td>\n      <td>86.668458</td>\n      <td>0.815064</td>\n      <td>0.827872</td>\n      <td>0.803983</td>\n      <td>0.8175</td>\n    </tr>\n    <tr>\n      <th>2</th>\n      <td>0.1</td>\n      <td>85.676329</td>\n      <td>0.815064</td>\n      <td>0.827872</td>\n      <td>0.803983</td>\n      <td>0.8175</td>\n    </tr>\n    <tr>\n      <th>3</th>\n      <td>1</td>\n      <td>88.654822</td>\n      <td>0.815064</td>\n      <td>0.827872</td>\n      <td>0.803983</td>\n      <td>0.8175</td>\n    </tr>\n    <tr>\n      <th>4</th>\n      <td>10</td>\n      <td>88.119997</td>\n      <td>0.815064</td>\n      <td>0.827872</td>\n      <td>0.803983</td>\n      <td>0.8175</td>\n    </tr>\n    <tr>\n      <th>5</th>\n      <td>100</td>\n      <td>88.769875</td>\n      <td>0.815064</td>\n      <td>0.827872</td>\n      <td>0.803983</td>\n      <td>0.8175</td>\n    </tr>\n    <tr>\n      <th>6</th>\n      <td>1000</td>\n      <td>84.894957</td>\n      <td>0.815064</td>\n      <td>0.827872</td>\n      <td>0.803983</td>\n      <td>0.8175</td>\n    </tr>\n  </tbody>\n</table>\n</div>"
     },
     "execution_count": 41,
     "metadata": {},
     "output_type": "execute_result"
    }
   ],
   "source": [
    "cv_result_no_fs[['param_C', 'mean_fit_time', 'mean_test_f1', 'mean_test_precision', 'mean_test_recall', 'mean_test_accuracy']]"
   ],
   "metadata": {
    "collapsed": false,
    "ExecuteTime": {
     "end_time": "2023-10-07T15:39:54.433936600Z",
     "start_time": "2023-10-07T15:39:54.301936500Z"
    }
   },
   "id": "997c699129dd2d46"
  },
  {
   "cell_type": "markdown",
   "source": [
    "## Build and run the model\n",
    "\n",
    "Because all metrics are the same on all C, we train it using the C that provide the least fit time, that is C=0.1"
   ],
   "metadata": {
    "collapsed": false
   },
   "id": "f0b68d13ebda9123"
  },
  {
   "cell_type": "code",
   "execution_count": 36,
   "outputs": [
    {
     "data": {
      "text/plain": "Pipeline(steps=[('selectfrommodel',\n                 SelectFromModel(estimator=SVC(C=0.001, kernel='linear',\n                                               random_state=42))),\n                ('svc', SVC(C=0.001, kernel='linear', random_state=42))])",
      "text/html": "<style>#sk-container-id-2 {color: black;}#sk-container-id-2 pre{padding: 0;}#sk-container-id-2 div.sk-toggleable {background-color: white;}#sk-container-id-2 label.sk-toggleable__label {cursor: pointer;display: block;width: 100%;margin-bottom: 0;padding: 0.3em;box-sizing: border-box;text-align: center;}#sk-container-id-2 label.sk-toggleable__label-arrow:before {content: \"▸\";float: left;margin-right: 0.25em;color: #696969;}#sk-container-id-2 label.sk-toggleable__label-arrow:hover:before {color: black;}#sk-container-id-2 div.sk-estimator:hover label.sk-toggleable__label-arrow:before {color: black;}#sk-container-id-2 div.sk-toggleable__content {max-height: 0;max-width: 0;overflow: hidden;text-align: left;background-color: #f0f8ff;}#sk-container-id-2 div.sk-toggleable__content pre {margin: 0.2em;color: black;border-radius: 0.25em;background-color: #f0f8ff;}#sk-container-id-2 input.sk-toggleable__control:checked~div.sk-toggleable__content {max-height: 200px;max-width: 100%;overflow: auto;}#sk-container-id-2 input.sk-toggleable__control:checked~label.sk-toggleable__label-arrow:before {content: \"▾\";}#sk-container-id-2 div.sk-estimator input.sk-toggleable__control:checked~label.sk-toggleable__label {background-color: #d4ebff;}#sk-container-id-2 div.sk-label input.sk-toggleable__control:checked~label.sk-toggleable__label {background-color: #d4ebff;}#sk-container-id-2 input.sk-hidden--visually {border: 0;clip: rect(1px 1px 1px 1px);clip: rect(1px, 1px, 1px, 1px);height: 1px;margin: -1px;overflow: hidden;padding: 0;position: absolute;width: 1px;}#sk-container-id-2 div.sk-estimator {font-family: monospace;background-color: #f0f8ff;border: 1px dotted black;border-radius: 0.25em;box-sizing: border-box;margin-bottom: 0.5em;}#sk-container-id-2 div.sk-estimator:hover {background-color: #d4ebff;}#sk-container-id-2 div.sk-parallel-item::after {content: \"\";width: 100%;border-bottom: 1px solid gray;flex-grow: 1;}#sk-container-id-2 div.sk-label:hover label.sk-toggleable__label {background-color: #d4ebff;}#sk-container-id-2 div.sk-serial::before {content: \"\";position: absolute;border-left: 1px solid gray;box-sizing: border-box;top: 0;bottom: 0;left: 50%;z-index: 0;}#sk-container-id-2 div.sk-serial {display: flex;flex-direction: column;align-items: center;background-color: white;padding-right: 0.2em;padding-left: 0.2em;position: relative;}#sk-container-id-2 div.sk-item {position: relative;z-index: 1;}#sk-container-id-2 div.sk-parallel {display: flex;align-items: stretch;justify-content: center;background-color: white;position: relative;}#sk-container-id-2 div.sk-item::before, #sk-container-id-2 div.sk-parallel-item::before {content: \"\";position: absolute;border-left: 1px solid gray;box-sizing: border-box;top: 0;bottom: 0;left: 50%;z-index: -1;}#sk-container-id-2 div.sk-parallel-item {display: flex;flex-direction: column;z-index: 1;position: relative;background-color: white;}#sk-container-id-2 div.sk-parallel-item:first-child::after {align-self: flex-end;width: 50%;}#sk-container-id-2 div.sk-parallel-item:last-child::after {align-self: flex-start;width: 50%;}#sk-container-id-2 div.sk-parallel-item:only-child::after {width: 0;}#sk-container-id-2 div.sk-dashed-wrapped {border: 1px dashed gray;margin: 0 0.4em 0.5em 0.4em;box-sizing: border-box;padding-bottom: 0.4em;background-color: white;}#sk-container-id-2 div.sk-label label {font-family: monospace;font-weight: bold;display: inline-block;line-height: 1.2em;}#sk-container-id-2 div.sk-label-container {text-align: center;}#sk-container-id-2 div.sk-container {/* jupyter's `normalize.less` sets `[hidden] { display: none; }` but bootstrap.min.css set `[hidden] { display: none !important; }` so we also need the `!important` here to be able to override the default hidden behavior on the sphinx rendered scikit-learn.org. See: https://github.com/scikit-learn/scikit-learn/issues/21755 */display: inline-block !important;position: relative;}#sk-container-id-2 div.sk-text-repr-fallback {display: none;}</style><div id=\"sk-container-id-2\" class=\"sk-top-container\"><div class=\"sk-text-repr-fallback\"><pre>Pipeline(steps=[(&#x27;selectfrommodel&#x27;,\n                 SelectFromModel(estimator=SVC(C=0.001, kernel=&#x27;linear&#x27;,\n                                               random_state=42))),\n                (&#x27;svc&#x27;, SVC(C=0.001, kernel=&#x27;linear&#x27;, random_state=42))])</pre><b>In a Jupyter environment, please rerun this cell to show the HTML representation or trust the notebook. <br />On GitHub, the HTML representation is unable to render, please try loading this page with nbviewer.org.</b></div><div class=\"sk-container\" hidden><div class=\"sk-item sk-dashed-wrapped\"><div class=\"sk-label-container\"><div class=\"sk-label sk-toggleable\"><input class=\"sk-toggleable__control sk-hidden--visually\" id=\"sk-estimator-id-7\" type=\"checkbox\" ><label for=\"sk-estimator-id-7\" class=\"sk-toggleable__label sk-toggleable__label-arrow\">Pipeline</label><div class=\"sk-toggleable__content\"><pre>Pipeline(steps=[(&#x27;selectfrommodel&#x27;,\n                 SelectFromModel(estimator=SVC(C=0.001, kernel=&#x27;linear&#x27;,\n                                               random_state=42))),\n                (&#x27;svc&#x27;, SVC(C=0.001, kernel=&#x27;linear&#x27;, random_state=42))])</pre></div></div></div><div class=\"sk-serial\"><div class=\"sk-item sk-dashed-wrapped\"><div class=\"sk-label-container\"><div class=\"sk-label sk-toggleable\"><input class=\"sk-toggleable__control sk-hidden--visually\" id=\"sk-estimator-id-8\" type=\"checkbox\" ><label for=\"sk-estimator-id-8\" class=\"sk-toggleable__label sk-toggleable__label-arrow\">selectfrommodel: SelectFromModel</label><div class=\"sk-toggleable__content\"><pre>SelectFromModel(estimator=SVC(C=0.001, kernel=&#x27;linear&#x27;, random_state=42))</pre></div></div></div><div class=\"sk-parallel\"><div class=\"sk-parallel-item\"><div class=\"sk-item\"><div class=\"sk-label-container\"><div class=\"sk-label sk-toggleable\"><input class=\"sk-toggleable__control sk-hidden--visually\" id=\"sk-estimator-id-9\" type=\"checkbox\" ><label for=\"sk-estimator-id-9\" class=\"sk-toggleable__label sk-toggleable__label-arrow\">estimator: SVC</label><div class=\"sk-toggleable__content\"><pre>SVC(C=0.001, kernel=&#x27;linear&#x27;, random_state=42)</pre></div></div></div><div class=\"sk-serial\"><div class=\"sk-item\"><div class=\"sk-estimator sk-toggleable\"><input class=\"sk-toggleable__control sk-hidden--visually\" id=\"sk-estimator-id-10\" type=\"checkbox\" ><label for=\"sk-estimator-id-10\" class=\"sk-toggleable__label sk-toggleable__label-arrow\">SVC</label><div class=\"sk-toggleable__content\"><pre>SVC(C=0.001, kernel=&#x27;linear&#x27;, random_state=42)</pre></div></div></div></div></div></div></div></div><div class=\"sk-item\"><div class=\"sk-estimator sk-toggleable\"><input class=\"sk-toggleable__control sk-hidden--visually\" id=\"sk-estimator-id-11\" type=\"checkbox\" ><label for=\"sk-estimator-id-11\" class=\"sk-toggleable__label sk-toggleable__label-arrow\">SVC</label><div class=\"sk-toggleable__content\"><pre>SVC(C=0.001, kernel=&#x27;linear&#x27;, random_state=42)</pre></div></div></div></div></div></div></div>"
     },
     "execution_count": 36,
     "metadata": {},
     "output_type": "execute_result"
    }
   ],
   "source": [
    "best_param_svm = SVC(kernel=\"linear\", C=0.001, random_state=42)\n",
    "best_selector = SelectFromModel(best_param_svm)\n",
    "new_pipeline = make_pipeline(best_selector,\n",
    "                             best_param_svm)\n",
    "new_pipeline.fit(X_train, y_train)"
   ],
   "metadata": {
    "collapsed": false,
    "ExecuteTime": {
     "end_time": "2023-10-08T06:26:31.756562500Z",
     "start_time": "2023-10-08T06:22:04.236822800Z"
    }
   },
   "id": "2b6925623779762d"
  },
  {
   "cell_type": "code",
   "execution_count": 37,
   "outputs": [
    {
     "data": {
      "text/plain": "['dumps\\\\pipeline.joblib']"
     },
     "execution_count": 37,
     "metadata": {},
     "output_type": "execute_result"
    }
   ],
   "source": [
    "joblib.dump(new_pipeline, r'dumps\\pipeline.joblib')"
   ],
   "metadata": {
    "collapsed": false,
    "ExecuteTime": {
     "end_time": "2023-10-08T06:26:33.529769200Z",
     "start_time": "2023-10-08T06:26:31.785559400Z"
    }
   },
   "id": "7ac8ee81eaca6044"
  },
  {
   "cell_type": "markdown",
   "source": [
    "### Calculate Threshold Manually\n",
    "\n",
    "Train SVM on all X_train to calculate the threshold manually"
   ],
   "metadata": {
    "collapsed": false
   },
   "id": "8bcc338b56f2c91b"
  },
  {
   "cell_type": "code",
   "execution_count": 38,
   "outputs": [
    {
     "data": {
      "text/plain": "SVC(C=0.001, kernel='linear')",
      "text/html": "<style>#sk-container-id-3 {color: black;}#sk-container-id-3 pre{padding: 0;}#sk-container-id-3 div.sk-toggleable {background-color: white;}#sk-container-id-3 label.sk-toggleable__label {cursor: pointer;display: block;width: 100%;margin-bottom: 0;padding: 0.3em;box-sizing: border-box;text-align: center;}#sk-container-id-3 label.sk-toggleable__label-arrow:before {content: \"▸\";float: left;margin-right: 0.25em;color: #696969;}#sk-container-id-3 label.sk-toggleable__label-arrow:hover:before {color: black;}#sk-container-id-3 div.sk-estimator:hover label.sk-toggleable__label-arrow:before {color: black;}#sk-container-id-3 div.sk-toggleable__content {max-height: 0;max-width: 0;overflow: hidden;text-align: left;background-color: #f0f8ff;}#sk-container-id-3 div.sk-toggleable__content pre {margin: 0.2em;color: black;border-radius: 0.25em;background-color: #f0f8ff;}#sk-container-id-3 input.sk-toggleable__control:checked~div.sk-toggleable__content {max-height: 200px;max-width: 100%;overflow: auto;}#sk-container-id-3 input.sk-toggleable__control:checked~label.sk-toggleable__label-arrow:before {content: \"▾\";}#sk-container-id-3 div.sk-estimator input.sk-toggleable__control:checked~label.sk-toggleable__label {background-color: #d4ebff;}#sk-container-id-3 div.sk-label input.sk-toggleable__control:checked~label.sk-toggleable__label {background-color: #d4ebff;}#sk-container-id-3 input.sk-hidden--visually {border: 0;clip: rect(1px 1px 1px 1px);clip: rect(1px, 1px, 1px, 1px);height: 1px;margin: -1px;overflow: hidden;padding: 0;position: absolute;width: 1px;}#sk-container-id-3 div.sk-estimator {font-family: monospace;background-color: #f0f8ff;border: 1px dotted black;border-radius: 0.25em;box-sizing: border-box;margin-bottom: 0.5em;}#sk-container-id-3 div.sk-estimator:hover {background-color: #d4ebff;}#sk-container-id-3 div.sk-parallel-item::after {content: \"\";width: 100%;border-bottom: 1px solid gray;flex-grow: 1;}#sk-container-id-3 div.sk-label:hover label.sk-toggleable__label {background-color: #d4ebff;}#sk-container-id-3 div.sk-serial::before {content: \"\";position: absolute;border-left: 1px solid gray;box-sizing: border-box;top: 0;bottom: 0;left: 50%;z-index: 0;}#sk-container-id-3 div.sk-serial {display: flex;flex-direction: column;align-items: center;background-color: white;padding-right: 0.2em;padding-left: 0.2em;position: relative;}#sk-container-id-3 div.sk-item {position: relative;z-index: 1;}#sk-container-id-3 div.sk-parallel {display: flex;align-items: stretch;justify-content: center;background-color: white;position: relative;}#sk-container-id-3 div.sk-item::before, #sk-container-id-3 div.sk-parallel-item::before {content: \"\";position: absolute;border-left: 1px solid gray;box-sizing: border-box;top: 0;bottom: 0;left: 50%;z-index: -1;}#sk-container-id-3 div.sk-parallel-item {display: flex;flex-direction: column;z-index: 1;position: relative;background-color: white;}#sk-container-id-3 div.sk-parallel-item:first-child::after {align-self: flex-end;width: 50%;}#sk-container-id-3 div.sk-parallel-item:last-child::after {align-self: flex-start;width: 50%;}#sk-container-id-3 div.sk-parallel-item:only-child::after {width: 0;}#sk-container-id-3 div.sk-dashed-wrapped {border: 1px dashed gray;margin: 0 0.4em 0.5em 0.4em;box-sizing: border-box;padding-bottom: 0.4em;background-color: white;}#sk-container-id-3 div.sk-label label {font-family: monospace;font-weight: bold;display: inline-block;line-height: 1.2em;}#sk-container-id-3 div.sk-label-container {text-align: center;}#sk-container-id-3 div.sk-container {/* jupyter's `normalize.less` sets `[hidden] { display: none; }` but bootstrap.min.css set `[hidden] { display: none !important; }` so we also need the `!important` here to be able to override the default hidden behavior on the sphinx rendered scikit-learn.org. See: https://github.com/scikit-learn/scikit-learn/issues/21755 */display: inline-block !important;position: relative;}#sk-container-id-3 div.sk-text-repr-fallback {display: none;}</style><div id=\"sk-container-id-3\" class=\"sk-top-container\"><div class=\"sk-text-repr-fallback\"><pre>SVC(C=0.001, kernel=&#x27;linear&#x27;)</pre><b>In a Jupyter environment, please rerun this cell to show the HTML representation or trust the notebook. <br />On GitHub, the HTML representation is unable to render, please try loading this page with nbviewer.org.</b></div><div class=\"sk-container\" hidden><div class=\"sk-item\"><div class=\"sk-estimator sk-toggleable\"><input class=\"sk-toggleable__control sk-hidden--visually\" id=\"sk-estimator-id-12\" type=\"checkbox\" checked><label for=\"sk-estimator-id-12\" class=\"sk-toggleable__label sk-toggleable__label-arrow\">SVC</label><div class=\"sk-toggleable__content\"><pre>SVC(C=0.001, kernel=&#x27;linear&#x27;)</pre></div></div></div></div></div>"
     },
     "execution_count": 38,
     "metadata": {},
     "output_type": "execute_result"
    }
   ],
   "source": [
    "train_svm = SVC(kernel='linear', C=0.001)\n",
    "train_svm.fit(X_train, y_train)"
   ],
   "metadata": {
    "collapsed": false,
    "ExecuteTime": {
     "end_time": "2023-10-08T06:28:46.095544Z",
     "start_time": "2023-10-08T06:26:33.537770700Z"
    }
   },
   "id": "b40b6de53ab34b99"
  },
  {
   "cell_type": "code",
   "execution_count": 39,
   "outputs": [],
   "source": [
    "np.savetxt(r'data\\svm_coef.txt', train_svm.coef_, delimiter='\\n')"
   ],
   "metadata": {
    "collapsed": false,
    "ExecuteTime": {
     "end_time": "2023-10-08T06:28:46.273726200Z",
     "start_time": "2023-10-08T06:28:46.109545300Z"
    }
   },
   "id": "e9789c398abf1df9"
  },
  {
   "cell_type": "code",
   "execution_count": 40,
   "outputs": [
    {
     "data": {
      "text/plain": "<Figure size 640x480 with 1 Axes>",
      "image/png": "[encoded data removed]"
     },
     "metadata": {},
     "output_type": "display_data"
    }
   ],
   "source": [
    "coef = np.loadtxt(r'data\\svm_coef.txt')\n",
    "plt.hist(coef, bins=30)\n",
    "plt.show()"
   ],
   "metadata": {
    "collapsed": false,
    "ExecuteTime": {
     "end_time": "2023-10-08T06:28:46.691168500Z",
     "start_time": "2023-10-08T06:28:46.276725200Z"
    }
   },
   "id": "7f6fa0980a2bc021"
  },
  {
   "cell_type": "code",
   "execution_count": 41,
   "outputs": [
    {
     "data": {
      "text/plain": "(array([1660., 1620., 1936., 1832., 2026., 1912., 1735., 1791., 1432.,\n        1567.]),\n array([    0. ,  5119.7, 10239.4, 15359.1, 20478.8, 25598.5, 30718.2,\n        35837.9, 40957.6, 46077.3, 51197. ]),\n <BarContainer object of 10 artists>)"
     },
     "execution_count": 41,
     "metadata": {},
     "output_type": "execute_result"
    },
    {
     "data": {
      "text/plain": "<Figure size 640x480 with 1 Axes>",
      "image/png": "[encoded data removed]"
     },
     "metadata": {},
     "output_type": "display_data"
    }
   ],
   "source": [
    "plt.hist(np.where(np.abs(coef) > np.abs(coef).mean())[0])"
   ],
   "metadata": {
    "collapsed": false,
    "ExecuteTime": {
     "end_time": "2023-10-08T06:28:46.980166600Z",
     "start_time": "2023-10-08T06:28:46.694166500Z"
    }
   },
   "id": "1cd42fe58c04c3"
  },
  {
   "cell_type": "code",
   "execution_count": 42,
   "outputs": [
    {
     "name": "stdout",
     "output_type": "stream",
     "text": [
      "Threshold: 0.0004338642829973967\n"
     ]
    }
   ],
   "source": [
    "print('Threshold:', np.abs(train_svm.coef_).mean())"
   ],
   "metadata": {
    "collapsed": false,
    "ExecuteTime": {
     "end_time": "2023-10-08T06:28:46.992167900Z",
     "start_time": "2023-10-08T06:28:46.933168400Z"
    }
   },
   "id": "3e3ffcaff69369fd"
  },
  {
   "cell_type": "markdown",
   "source": [
    "### Get Selector and Estimator Properties"
   ],
   "metadata": {
    "collapsed": false
   },
   "id": "9ac34e7923b99d98"
  },
  {
   "cell_type": "code",
   "execution_count": 43,
   "outputs": [
    {
     "name": "stdout",
     "output_type": "stream",
     "text": [
      "Threshold : 0.0004338642829973967\n"
     ]
    }
   ],
   "source": [
    "print('Threshold :', new_pipeline['selectfrommodel'].threshold_)"
   ],
   "metadata": {
    "collapsed": false,
    "ExecuteTime": {
     "end_time": "2023-10-08T06:28:47.233166700Z",
     "start_time": "2023-10-08T06:28:46.933168400Z"
    }
   },
   "id": "bffe352c56dda57b"
  },
  {
   "cell_type": "code",
   "execution_count": 44,
   "outputs": [
    {
     "name": "stdout",
     "output_type": "stream",
     "text": [
      "No. selected feature : (17511,)\n"
     ]
    }
   ],
   "source": [
    "print('No. selected feature :', new_pipeline['selectfrommodel'].get_feature_names_out().shape)"
   ],
   "metadata": {
    "collapsed": false,
    "ExecuteTime": {
     "end_time": "2023-10-08T06:28:47.344167Z",
     "start_time": "2023-10-08T06:28:47.250191200Z"
    }
   },
   "id": "d78623e76f28aacc"
  },
  {
   "cell_type": "code",
   "execution_count": 45,
   "outputs": [],
   "source": [
    "np.savetxt(r'data\\svm_coef_selected.txt', new_pipeline['svc'].coef_, delimiter='\\n')"
   ],
   "metadata": {
    "collapsed": false,
    "ExecuteTime": {
     "end_time": "2023-10-08T06:28:47.518165100Z",
     "start_time": "2023-10-08T06:28:47.349171200Z"
    }
   },
   "id": "19168946c034c2b9"
  },
  {
   "cell_type": "markdown",
   "source": [
    "## Evaluate Model\n",
    "\n",
    "Evaluate model on test data using same metrics from cross-validation."
   ],
   "metadata": {
    "collapsed": false
   },
   "id": "cd91ff0c94ae0467"
  },
  {
   "cell_type": "code",
   "execution_count": 5,
   "outputs": [],
   "source": [
    "# new_pipeline = joblib.load(r'dumps\\pipeline.joblib')"
   ],
   "metadata": {
    "collapsed": false,
    "ExecuteTime": {
     "end_time": "2023-10-03T11:30:19.308693800Z",
     "start_time": "2023-10-03T11:30:18.582692900Z"
    }
   },
   "id": "46a9c385c0f4a9bc"
  },
  {
   "cell_type": "code",
   "execution_count": 46,
   "outputs": [
    {
     "data": {
      "text/plain": "           file_name      y_true      y_pred\n1860  DSC04798_4.JPG      normal      normal\n353   DSC04353_4.JPG  terinfeksi  terinfeksi\n1333  DSC04273_8.JPG      normal      normal\n905   DSC04721_6.JPG  terinfeksi  terinfeksi\n1289  DSC04254_9.JPG      normal      normal\n...              ...         ...         ...\n965   DSC04793_5.JPG  terinfeksi      normal\n1284  DSC04253_7.JPG      normal      normal\n1739  DSC04633_1.JPG      normal      normal\n261   DSC04249_9.JPG  terinfeksi  terinfeksi\n535   DSC04538_6.JPG  terinfeksi  terinfeksi\n\n[400 rows x 3 columns]",
      "text/html": "<div>\n<style scoped>\n    .dataframe tbody tr th:only-of-type {\n        vertical-align: middle;\n    }\n\n    .dataframe tbody tr th {\n        vertical-align: top;\n    }\n\n    .dataframe thead th {\n        text-align: right;\n    }\n</style>\n<table border=\"1\" class=\"dataframe\">\n  <thead>\n    <tr style=\"text-align: right;\">\n      <th></th>\n      <th>file_name</th>\n      <th>y_true</th>\n      <th>y_pred</th>\n    </tr>\n  </thead>\n  <tbody>\n    <tr>\n      <th>1860</th>\n      <td>DSC04798_4.JPG</td>\n      <td>normal</td>\n      <td>normal</td>\n    </tr>\n    <tr>\n      <th>353</th>\n      <td>DSC04353_4.JPG</td>\n      <td>terinfeksi</td>\n      <td>terinfeksi</td>\n    </tr>\n    <tr>\n      <th>1333</th>\n      <td>DSC04273_8.JPG</td>\n      <td>normal</td>\n      <td>normal</td>\n    </tr>\n    <tr>\n      <th>905</th>\n      <td>DSC04721_6.JPG</td>\n      <td>terinfeksi</td>\n      <td>terinfeksi</td>\n    </tr>\n    <tr>\n      <th>1289</th>\n      <td>DSC04254_9.JPG</td>\n      <td>normal</td>\n      <td>normal</td>\n    </tr>\n    <tr>\n      <th>...</th>\n      <td>...</td>\n      <td>...</td>\n      <td>...</td>\n    </tr>\n    <tr>\n      <th>965</th>\n      <td>DSC04793_5.JPG</td>\n      <td>terinfeksi</td>\n      <td>normal</td>\n    </tr>\n    <tr>\n      <th>1284</th>\n      <td>DSC04253_7.JPG</td>\n      <td>normal</td>\n      <td>normal</td>\n    </tr>\n    <tr>\n      <th>1739</th>\n      <td>DSC04633_1.JPG</td>\n      <td>normal</td>\n      <td>normal</td>\n    </tr>\n    <tr>\n      <th>261</th>\n      <td>DSC04249_9.JPG</td>\n      <td>terinfeksi</td>\n      <td>terinfeksi</td>\n    </tr>\n    <tr>\n      <th>535</th>\n      <td>DSC04538_6.JPG</td>\n      <td>terinfeksi</td>\n      <td>terinfeksi</td>\n    </tr>\n  </tbody>\n</table>\n<p>400 rows × 3 columns</p>\n</div>"
     },
     "execution_count": 46,
     "metadata": {},
     "output_type": "execute_result"
    }
   ],
   "source": [
    "y_pred = new_pipeline.predict(X_test)\n",
    "true_pred_df = pd.DataFrame({'file_name': file_name[X_test.index],\n",
    "                             'y_true': np.where(y_test == 0, 'normal', 'terinfeksi'),\n",
    "                             'y_pred': np.where(y_pred == 0, 'normal', 'terinfeksi')})\n",
    "true_pred_df.to_csv(r'result\\true_pred.csv', index=False)\n",
    "true_pred_df"
   ],
   "metadata": {
    "collapsed": false,
    "ExecuteTime": {
     "end_time": "2023-10-08T06:35:55.220003300Z",
     "start_time": "2023-10-08T06:35:29.256044900Z"
    }
   },
   "id": "9391d030d928b384"
  },
  {
   "cell_type": "code",
   "execution_count": 47,
   "outputs": [
    {
     "name": "stdout",
     "output_type": "stream",
     "text": [
      "[[166  35]\n",
      " [ 45 154]]\n"
     ]
    },
    {
     "data": {
      "text/plain": "<sklearn.metrics._plot.confusion_matrix.ConfusionMatrixDisplay at 0x180ac852a10>"
     },
     "execution_count": 47,
     "metadata": {},
     "output_type": "execute_result"
    },
    {
     "data": {
      "text/plain": "<Figure size 640x480 with 2 Axes>",
      "image/png": "[encoded data removed]"
     },
     "metadata": {},
     "output_type": "display_data"
    }
   ],
   "source": [
    "y_pred = new_pipeline.predict(X_test)\n",
    "print(metrics.confusion_matrix(y_test, y_pred))\n",
    "metrics.ConfusionMatrixDisplay.from_predictions(y_test, y_pred, display_labels=['normal', 'infected'], cmap='summer')"
   ],
   "metadata": {
    "collapsed": false,
    "ExecuteTime": {
     "end_time": "2023-10-08T06:36:33.676282400Z",
     "start_time": "2023-10-08T06:35:55.225002400Z"
    }
   },
   "id": "7bed3e2e66c33c35"
  },
  {
   "cell_type": "code",
   "execution_count": 48,
   "outputs": [
    {
     "name": "stdout",
     "output_type": "stream",
     "text": [
      "f1_score: 0.7938144329896907\n",
      "accuracy_score: 0.8\n",
      "precision_score: 0.8148148148148148\n",
      "recall_score: 0.7738693467336684\n"
     ]
    }
   ],
   "source": [
    "metrics_list = [metrics.f1_score,\n",
    "                metrics.accuracy_score,\n",
    "                metrics.precision_score,\n",
    "                metrics.recall_score]\n",
    "\n",
    "for metric in metrics_list:\n",
    "    print(metric.__name__ + ':', metric(y_test, y_pred))"
   ],
   "metadata": {
    "collapsed": false,
    "ExecuteTime": {
     "end_time": "2023-10-08T06:36:33.677282200Z",
     "start_time": "2023-10-08T06:36:20.242095100Z"
    }
   },
   "id": "d276ad7e5e6b345"
  }
 ],
 "metadata": {
  "kernelspec": {
   "display_name": "Python 3",
   "language": "python",
   "name": "python3"
  },
  "language_info": {
   "codemirror_mode": {
    "name": "ipython",
    "version": 2
   },
   "file_extension": ".py",
   "mimetype": "text/x-python",
   "name": "python",
   "nbconvert_exporter": "python",
   "pygments_lexer": "ipython2",
   "version": "2.7.6"
  }
 },
 "nbformat": 4,
 "nbformat_minor": 5
}
