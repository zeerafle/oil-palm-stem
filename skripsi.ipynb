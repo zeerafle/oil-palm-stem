{
 "cells": [
  {
   "cell_type": "markdown",
   "id": "141f1cecc4308e34",
   "metadata": {
    "collapsed": false
   },
   "source": [
    "# Code lab for Skripsi (Refined)\n",
    "\n",
    "This branch implements the real world scenario of feature selection-train-cross validate-test sequence, so that the validation data does not get leaked by the feature selection method.\n",
    "\n",
    "Feature extraction part is done in `deep_feature_extractior.ipynb` files. This file is used to feature selection and train model"
   ]
  },
  {
   "cell_type": "code",
   "execution_count": 1,
   "id": "4fa8054b82944eb4",
   "metadata": {
    "collapsed": false,
    "ExecuteTime": {
     "end_time": "2023-09-25T13:38:40.852387900Z",
     "start_time": "2023-09-25T13:38:38.809253400Z"
    }
   },
   "outputs": [],
   "source": [
    "import pandas as pd\n",
    "import numpy as np\n",
    "from sklearn.feature_selection import SelectFromModel\n",
    "from sklearn.svm import SVC\n",
    "from sklearn.model_selection import GridSearchCV\n",
    "from sklearn.model_selection import train_test_split\n",
    "from sklearn.pipeline import make_pipeline\n",
    "from sklearn import metrics\n",
    "\n",
    "import joblib"
   ]
  },
  {
   "cell_type": "code",
   "execution_count": 2,
   "outputs": [],
   "source": [
    "label = np.array([1]*1000+[0]*1000)"
   ],
   "metadata": {
    "collapsed": false,
    "ExecuteTime": {
     "end_time": "2023-09-25T13:38:40.871385900Z",
     "start_time": "2023-09-25T13:38:40.852387900Z"
    }
   },
   "id": "a3ba4dca8286c1f8"
  },
  {
   "cell_type": "code",
   "execution_count": 3,
   "id": "fef4abaaab78ba0f",
   "metadata": {
    "collapsed": false,
    "ExecuteTime": {
     "end_time": "2023-09-25T13:39:03.485975600Z",
     "start_time": "2023-09-25T13:38:40.867389400Z"
    }
   },
   "outputs": [
    {
     "data": {
      "text/plain": "   resnet_1  resnet_2  resnet_3  resnet_4  resnet_5  resnet_6  resnet_7  \\\n0       0.0       0.0  0.000000       0.0  0.000000  0.000000  0.000000   \n1       0.0       0.0  0.000000       0.0  0.000000  0.000000  0.000000   \n2       0.0       0.0  1.585785       0.0  3.971417  1.891622  0.000000   \n3       0.0       0.0  0.000000       0.0  0.000000  0.000000  0.000000   \n4       0.0       0.0  0.000000       0.0  0.000000  0.000000  0.213993   \n\n   resnet_8  resnet_9  resnet_10  ...  resnet_51191  resnet_51192  \\\n0       0.0       0.0        0.0  ...           0.0           0.0   \n1       0.0       0.0        0.0  ...           0.0           0.0   \n2       0.0       0.0        0.0  ...           0.0           0.0   \n3       0.0       0.0        0.0  ...           0.0           0.0   \n4       0.0       0.0        0.0  ...           0.0           0.0   \n\n   resnet_51193  resnet_51194  resnet_51195  resnet_51196  resnet_51197  \\\n0           0.0           0.0           0.0      2.028299           0.0   \n1           0.0           0.0           0.0      0.000000           0.0   \n2           0.0           0.0           0.0      0.000000           0.0   \n3           0.0           0.0           0.0      0.000000           0.0   \n4           0.0           0.0           0.0      0.000000           0.0   \n\n   resnet_51198  resnet_51199  resnet_51200  \n0           0.0           0.0           0.0  \n1           0.0           0.0           0.0  \n2           0.0           0.0           0.0  \n3           0.0           0.0           0.0  \n4           0.0           0.0           0.0  \n\n[5 rows x 51200 columns]",
      "text/html": "<div>\n<style scoped>\n    .dataframe tbody tr th:only-of-type {\n        vertical-align: middle;\n    }\n\n    .dataframe tbody tr th {\n        vertical-align: top;\n    }\n\n    .dataframe thead th {\n        text-align: right;\n    }\n</style>\n<table border=\"1\" class=\"dataframe\">\n  <thead>\n    <tr style=\"text-align: right;\">\n      <th></th>\n      <th>resnet_1</th>\n      <th>resnet_2</th>\n      <th>resnet_3</th>\n      <th>resnet_4</th>\n      <th>resnet_5</th>\n      <th>resnet_6</th>\n      <th>resnet_7</th>\n      <th>resnet_8</th>\n      <th>resnet_9</th>\n      <th>resnet_10</th>\n      <th>...</th>\n      <th>resnet_51191</th>\n      <th>resnet_51192</th>\n      <th>resnet_51193</th>\n      <th>resnet_51194</th>\n      <th>resnet_51195</th>\n      <th>resnet_51196</th>\n      <th>resnet_51197</th>\n      <th>resnet_51198</th>\n      <th>resnet_51199</th>\n      <th>resnet_51200</th>\n    </tr>\n  </thead>\n  <tbody>\n    <tr>\n      <th>0</th>\n      <td>0.0</td>\n      <td>0.0</td>\n      <td>0.000000</td>\n      <td>0.0</td>\n      <td>0.000000</td>\n      <td>0.000000</td>\n      <td>0.000000</td>\n      <td>0.0</td>\n      <td>0.0</td>\n      <td>0.0</td>\n      <td>...</td>\n      <td>0.0</td>\n      <td>0.0</td>\n      <td>0.0</td>\n      <td>0.0</td>\n      <td>0.0</td>\n      <td>2.028299</td>\n      <td>0.0</td>\n      <td>0.0</td>\n      <td>0.0</td>\n      <td>0.0</td>\n    </tr>\n    <tr>\n      <th>1</th>\n      <td>0.0</td>\n      <td>0.0</td>\n      <td>0.000000</td>\n      <td>0.0</td>\n      <td>0.000000</td>\n      <td>0.000000</td>\n      <td>0.000000</td>\n      <td>0.0</td>\n      <td>0.0</td>\n      <td>0.0</td>\n      <td>...</td>\n      <td>0.0</td>\n      <td>0.0</td>\n      <td>0.0</td>\n      <td>0.0</td>\n      <td>0.0</td>\n      <td>0.000000</td>\n      <td>0.0</td>\n      <td>0.0</td>\n      <td>0.0</td>\n      <td>0.0</td>\n    </tr>\n    <tr>\n      <th>2</th>\n      <td>0.0</td>\n      <td>0.0</td>\n      <td>1.585785</td>\n      <td>0.0</td>\n      <td>3.971417</td>\n      <td>1.891622</td>\n      <td>0.000000</td>\n      <td>0.0</td>\n      <td>0.0</td>\n      <td>0.0</td>\n      <td>...</td>\n      <td>0.0</td>\n      <td>0.0</td>\n      <td>0.0</td>\n      <td>0.0</td>\n      <td>0.0</td>\n      <td>0.000000</td>\n      <td>0.0</td>\n      <td>0.0</td>\n      <td>0.0</td>\n      <td>0.0</td>\n    </tr>\n    <tr>\n      <th>3</th>\n      <td>0.0</td>\n      <td>0.0</td>\n      <td>0.000000</td>\n      <td>0.0</td>\n      <td>0.000000</td>\n      <td>0.000000</td>\n      <td>0.000000</td>\n      <td>0.0</td>\n      <td>0.0</td>\n      <td>0.0</td>\n      <td>...</td>\n      <td>0.0</td>\n      <td>0.0</td>\n      <td>0.0</td>\n      <td>0.0</td>\n      <td>0.0</td>\n      <td>0.000000</td>\n      <td>0.0</td>\n      <td>0.0</td>\n      <td>0.0</td>\n      <td>0.0</td>\n    </tr>\n    <tr>\n      <th>4</th>\n      <td>0.0</td>\n      <td>0.0</td>\n      <td>0.000000</td>\n      <td>0.0</td>\n      <td>0.000000</td>\n      <td>0.000000</td>\n      <td>0.213993</td>\n      <td>0.0</td>\n      <td>0.0</td>\n      <td>0.0</td>\n      <td>...</td>\n      <td>0.0</td>\n      <td>0.0</td>\n      <td>0.0</td>\n      <td>0.0</td>\n      <td>0.0</td>\n      <td>0.000000</td>\n      <td>0.0</td>\n      <td>0.0</td>\n      <td>0.0</td>\n      <td>0.0</td>\n    </tr>\n  </tbody>\n</table>\n<p>5 rows × 51200 columns</p>\n</div>"
     },
     "execution_count": 3,
     "metadata": {},
     "output_type": "execute_result"
    }
   ],
   "source": [
    "df = pd.read_parquet('data/orig_img_feature.parquet')\n",
    "df.head()"
   ]
  },
  {
   "cell_type": "code",
   "execution_count": 4,
   "outputs": [],
   "source": [
    "# split data\n",
    "X_train, X_test, y_train, y_test = train_test_split(df, label, test_size=0.2, random_state=42)"
   ],
   "metadata": {
    "collapsed": false,
    "ExecuteTime": {
     "end_time": "2023-09-25T13:39:07.458489300Z",
     "start_time": "2023-09-25T13:39:03.494974900Z"
    }
   },
   "id": "f448f428cea741b8"
  },
  {
   "cell_type": "markdown",
   "source": [
    "## Create Pipeline\n",
    "\n",
    "The Pipeline will select and classify features.\n",
    "\n",
    "Feature selection is done using `sklearn.feature_selection.SelectFromModel` with `sklearn.svm.SVC` as estimator. Feature selection and classification will run inside cross-validation.\n",
    "\n",
    "Classification is done using SVM with linear kernel."
   ],
   "metadata": {
    "collapsed": false
   },
   "id": "bc04ca31cc820d10"
  },
  {
   "cell_type": "code",
   "execution_count": 16,
   "outputs": [],
   "source": [
    "svm = SVC(kernel='linear', random_state=42)\n",
    "selector = SelectFromModel(svm)\n",
    "pipeline = make_pipeline(selector, svm)"
   ],
   "metadata": {
    "collapsed": false,
    "ExecuteTime": {
     "end_time": "2023-09-20T04:47:56.710350100Z",
     "start_time": "2023-09-20T04:47:56.693912Z"
    }
   },
   "id": "397fa64732308691"
  },
  {
   "cell_type": "markdown",
   "source": [
    "## Hyperparameter tuning with Cross Validation\n",
    "\n",
    "Find Hyperparameter C with cross validation and will be using k=10. Metrics being used is F1-Score, Recall, Precision, and Accuracy."
   ],
   "metadata": {
    "collapsed": false
   },
   "id": "b0966cb8af05edf0"
  },
  {
   "cell_type": "code",
   "execution_count": 18,
   "outputs": [
    {
     "name": "stdout",
     "output_type": "stream",
     "text": [
      "Fitting 5 folds for each of 7 candidates, totalling 35 fits\n",
      "[CV 1/5] END svc__C=0.001; accuracy: (test=0.822) f1: (test=0.819) precision: (test=0.838) recall: (test=0.801) total time= 3.1min\n",
      "[CV 2/5] END svc__C=0.001; accuracy: (test=0.825) f1: (test=0.819) precision: (test=0.847) recall: (test=0.794) total time= 3.1min\n",
      "[CV 3/5] END svc__C=0.001; accuracy: (test=0.803) f1: (test=0.806) precision: (test=0.794) recall: (test=0.819) total time= 3.0min\n",
      "[CV 4/5] END svc__C=0.001; accuracy: (test=0.828) f1: (test=0.830) precision: (test=0.822) recall: (test=0.838) total time= 3.1min\n",
      "[CV 5/5] END svc__C=0.001; accuracy: (test=0.809) f1: (test=0.796) precision: (test=0.856) recall: (test=0.744) total time= 3.0min\n",
      "[CV 1/5] END svc__C=0.01; accuracy: (test=0.822) f1: (test=0.819) precision: (test=0.838) recall: (test=0.801) total time= 3.0min\n",
      "[CV 2/5] END svc__C=0.01; accuracy: (test=0.825) f1: (test=0.819) precision: (test=0.847) recall: (test=0.794) total time= 3.0min\n",
      "[CV 3/5] END svc__C=0.01; accuracy: (test=0.803) f1: (test=0.806) precision: (test=0.794) recall: (test=0.819) total time= 3.0min\n",
      "[CV 4/5] END svc__C=0.01; accuracy: (test=0.828) f1: (test=0.830) precision: (test=0.822) recall: (test=0.838) total time= 3.0min\n",
      "[CV 5/5] END svc__C=0.01; accuracy: (test=0.809) f1: (test=0.796) precision: (test=0.856) recall: (test=0.744) total time= 3.0min\n",
      "[CV 1/5] END svc__C=0.1; accuracy: (test=0.822) f1: (test=0.819) precision: (test=0.838) recall: (test=0.801) total time= 3.0min\n",
      "[CV 2/5] END svc__C=0.1; accuracy: (test=0.825) f1: (test=0.819) precision: (test=0.847) recall: (test=0.794) total time= 3.0min\n",
      "[CV 3/5] END svc__C=0.1; accuracy: (test=0.803) f1: (test=0.806) precision: (test=0.794) recall: (test=0.819) total time= 3.0min\n",
      "[CV 4/5] END svc__C=0.1; accuracy: (test=0.828) f1: (test=0.830) precision: (test=0.822) recall: (test=0.838) total time= 3.0min\n",
      "[CV 5/5] END svc__C=0.1; accuracy: (test=0.809) f1: (test=0.796) precision: (test=0.856) recall: (test=0.744) total time= 3.0min\n",
      "[CV 1/5] END svc__C=1; accuracy: (test=0.822) f1: (test=0.819) precision: (test=0.838) recall: (test=0.801) total time= 3.0min\n",
      "[CV 2/5] END svc__C=1; accuracy: (test=0.825) f1: (test=0.819) precision: (test=0.847) recall: (test=0.794) total time= 3.0min\n",
      "[CV 3/5] END svc__C=1; accuracy: (test=0.803) f1: (test=0.806) precision: (test=0.794) recall: (test=0.819) total time= 3.0min\n",
      "[CV 4/5] END svc__C=1; accuracy: (test=0.828) f1: (test=0.830) precision: (test=0.822) recall: (test=0.838) total time= 3.0min\n",
      "[CV 5/5] END svc__C=1; accuracy: (test=0.809) f1: (test=0.796) precision: (test=0.856) recall: (test=0.744) total time= 3.0min\n",
      "[CV 1/5] END svc__C=10; accuracy: (test=0.822) f1: (test=0.819) precision: (test=0.838) recall: (test=0.801) total time= 3.0min\n",
      "[CV 2/5] END svc__C=10; accuracy: (test=0.825) f1: (test=0.819) precision: (test=0.847) recall: (test=0.794) total time= 3.0min\n",
      "[CV 3/5] END svc__C=10; accuracy: (test=0.803) f1: (test=0.806) precision: (test=0.794) recall: (test=0.819) total time= 3.0min\n",
      "[CV 4/5] END svc__C=10; accuracy: (test=0.828) f1: (test=0.830) precision: (test=0.822) recall: (test=0.838) total time= 3.0min\n",
      "[CV 5/5] END svc__C=10; accuracy: (test=0.809) f1: (test=0.796) precision: (test=0.856) recall: (test=0.744) total time= 3.0min\n",
      "[CV 1/5] END svc__C=100; accuracy: (test=0.822) f1: (test=0.819) precision: (test=0.838) recall: (test=0.801) total time= 3.0min\n",
      "[CV 2/5] END svc__C=100; accuracy: (test=0.825) f1: (test=0.819) precision: (test=0.847) recall: (test=0.794) total time= 3.0min\n",
      "[CV 3/5] END svc__C=100; accuracy: (test=0.803) f1: (test=0.806) precision: (test=0.794) recall: (test=0.819) total time= 3.0min\n",
      "[CV 4/5] END svc__C=100; accuracy: (test=0.828) f1: (test=0.830) precision: (test=0.822) recall: (test=0.838) total time= 3.0min\n",
      "[CV 5/5] END svc__C=100; accuracy: (test=0.809) f1: (test=0.796) precision: (test=0.856) recall: (test=0.744) total time= 3.0min\n",
      "[CV 1/5] END svc__C=1000; accuracy: (test=0.822) f1: (test=0.819) precision: (test=0.838) recall: (test=0.801) total time= 3.0min\n",
      "[CV 2/5] END svc__C=1000; accuracy: (test=0.825) f1: (test=0.819) precision: (test=0.847) recall: (test=0.794) total time= 3.0min\n",
      "[CV 3/5] END svc__C=1000; accuracy: (test=0.803) f1: (test=0.806) precision: (test=0.794) recall: (test=0.819) total time= 3.0min\n",
      "[CV 4/5] END svc__C=1000; accuracy: (test=0.828) f1: (test=0.830) precision: (test=0.822) recall: (test=0.838) total time= 3.0min\n",
      "[CV 5/5] END svc__C=1000; accuracy: (test=0.809) f1: (test=0.796) precision: (test=0.856) recall: (test=0.744) total time= 3.0min\n"
     ]
    },
    {
     "data": {
      "text/plain": "GridSearchCV(cv=5,\n             estimator=Pipeline(steps=[('selectfrommodel',\n                                        SelectFromModel(estimator=SVC(kernel='linear',\n                                                                      random_state=42))),\n                                       ('svc',\n                                        SVC(kernel='linear',\n                                            random_state=42))]),\n             param_grid={'svc__C': [0.001, 0.01, 0.1, 1, 10, 100, 1000]},\n             refit=False, scoring=['f1', 'recall', 'precision', 'accuracy'],\n             verbose=3)",
      "text/html": "<style>#sk-container-id-1 {color: black;}#sk-container-id-1 pre{padding: 0;}#sk-container-id-1 div.sk-toggleable {background-color: white;}#sk-container-id-1 label.sk-toggleable__label {cursor: pointer;display: block;width: 100%;margin-bottom: 0;padding: 0.3em;box-sizing: border-box;text-align: center;}#sk-container-id-1 label.sk-toggleable__label-arrow:before {content: \"▸\";float: left;margin-right: 0.25em;color: #696969;}#sk-container-id-1 label.sk-toggleable__label-arrow:hover:before {color: black;}#sk-container-id-1 div.sk-estimator:hover label.sk-toggleable__label-arrow:before {color: black;}#sk-container-id-1 div.sk-toggleable__content {max-height: 0;max-width: 0;overflow: hidden;text-align: left;background-color: #f0f8ff;}#sk-container-id-1 div.sk-toggleable__content pre {margin: 0.2em;color: black;border-radius: 0.25em;background-color: #f0f8ff;}#sk-container-id-1 input.sk-toggleable__control:checked~div.sk-toggleable__content {max-height: 200px;max-width: 100%;overflow: auto;}#sk-container-id-1 input.sk-toggleable__control:checked~label.sk-toggleable__label-arrow:before {content: \"▾\";}#sk-container-id-1 div.sk-estimator input.sk-toggleable__control:checked~label.sk-toggleable__label {background-color: #d4ebff;}#sk-container-id-1 div.sk-label input.sk-toggleable__control:checked~label.sk-toggleable__label {background-color: #d4ebff;}#sk-container-id-1 input.sk-hidden--visually {border: 0;clip: rect(1px 1px 1px 1px);clip: rect(1px, 1px, 1px, 1px);height: 1px;margin: -1px;overflow: hidden;padding: 0;position: absolute;width: 1px;}#sk-container-id-1 div.sk-estimator {font-family: monospace;background-color: #f0f8ff;border: 1px dotted black;border-radius: 0.25em;box-sizing: border-box;margin-bottom: 0.5em;}#sk-container-id-1 div.sk-estimator:hover {background-color: #d4ebff;}#sk-container-id-1 div.sk-parallel-item::after {content: \"\";width: 100%;border-bottom: 1px solid gray;flex-grow: 1;}#sk-container-id-1 div.sk-label:hover label.sk-toggleable__label {background-color: #d4ebff;}#sk-container-id-1 div.sk-serial::before {content: \"\";position: absolute;border-left: 1px solid gray;box-sizing: border-box;top: 0;bottom: 0;left: 50%;z-index: 0;}#sk-container-id-1 div.sk-serial {display: flex;flex-direction: column;align-items: center;background-color: white;padding-right: 0.2em;padding-left: 0.2em;position: relative;}#sk-container-id-1 div.sk-item {position: relative;z-index: 1;}#sk-container-id-1 div.sk-parallel {display: flex;align-items: stretch;justify-content: center;background-color: white;position: relative;}#sk-container-id-1 div.sk-item::before, #sk-container-id-1 div.sk-parallel-item::before {content: \"\";position: absolute;border-left: 1px solid gray;box-sizing: border-box;top: 0;bottom: 0;left: 50%;z-index: -1;}#sk-container-id-1 div.sk-parallel-item {display: flex;flex-direction: column;z-index: 1;position: relative;background-color: white;}#sk-container-id-1 div.sk-parallel-item:first-child::after {align-self: flex-end;width: 50%;}#sk-container-id-1 div.sk-parallel-item:last-child::after {align-self: flex-start;width: 50%;}#sk-container-id-1 div.sk-parallel-item:only-child::after {width: 0;}#sk-container-id-1 div.sk-dashed-wrapped {border: 1px dashed gray;margin: 0 0.4em 0.5em 0.4em;box-sizing: border-box;padding-bottom: 0.4em;background-color: white;}#sk-container-id-1 div.sk-label label {font-family: monospace;font-weight: bold;display: inline-block;line-height: 1.2em;}#sk-container-id-1 div.sk-label-container {text-align: center;}#sk-container-id-1 div.sk-container {/* jupyter's `normalize.less` sets `[hidden] { display: none; }` but bootstrap.min.css set `[hidden] { display: none !important; }` so we also need the `!important` here to be able to override the default hidden behavior on the sphinx rendered scikit-learn.org. See: https://github.com/scikit-learn/scikit-learn/issues/21755 */display: inline-block !important;position: relative;}#sk-container-id-1 div.sk-text-repr-fallback {display: none;}</style><div id=\"sk-container-id-1\" class=\"sk-top-container\"><div class=\"sk-text-repr-fallback\"><pre>GridSearchCV(cv=5,\n             estimator=Pipeline(steps=[(&#x27;selectfrommodel&#x27;,\n                                        SelectFromModel(estimator=SVC(kernel=&#x27;linear&#x27;,\n                                                                      random_state=42))),\n                                       (&#x27;svc&#x27;,\n                                        SVC(kernel=&#x27;linear&#x27;,\n                                            random_state=42))]),\n             param_grid={&#x27;svc__C&#x27;: [0.001, 0.01, 0.1, 1, 10, 100, 1000]},\n             refit=False, scoring=[&#x27;f1&#x27;, &#x27;recall&#x27;, &#x27;precision&#x27;, &#x27;accuracy&#x27;],\n             verbose=3)</pre><b>In a Jupyter environment, please rerun this cell to show the HTML representation or trust the notebook. <br />On GitHub, the HTML representation is unable to render, please try loading this page with nbviewer.org.</b></div><div class=\"sk-container\" hidden><div class=\"sk-item sk-dashed-wrapped\"><div class=\"sk-label-container\"><div class=\"sk-label sk-toggleable\"><input class=\"sk-toggleable__control sk-hidden--visually\" id=\"sk-estimator-id-1\" type=\"checkbox\" ><label for=\"sk-estimator-id-1\" class=\"sk-toggleable__label sk-toggleable__label-arrow\">GridSearchCV</label><div class=\"sk-toggleable__content\"><pre>GridSearchCV(cv=5,\n             estimator=Pipeline(steps=[(&#x27;selectfrommodel&#x27;,\n                                        SelectFromModel(estimator=SVC(kernel=&#x27;linear&#x27;,\n                                                                      random_state=42))),\n                                       (&#x27;svc&#x27;,\n                                        SVC(kernel=&#x27;linear&#x27;,\n                                            random_state=42))]),\n             param_grid={&#x27;svc__C&#x27;: [0.001, 0.01, 0.1, 1, 10, 100, 1000]},\n             refit=False, scoring=[&#x27;f1&#x27;, &#x27;recall&#x27;, &#x27;precision&#x27;, &#x27;accuracy&#x27;],\n             verbose=3)</pre></div></div></div><div class=\"sk-parallel\"><div class=\"sk-parallel-item\"><div class=\"sk-item\"><div class=\"sk-label-container\"><div class=\"sk-label sk-toggleable\"><input class=\"sk-toggleable__control sk-hidden--visually\" id=\"sk-estimator-id-2\" type=\"checkbox\" ><label for=\"sk-estimator-id-2\" class=\"sk-toggleable__label sk-toggleable__label-arrow\">estimator: Pipeline</label><div class=\"sk-toggleable__content\"><pre>Pipeline(steps=[(&#x27;selectfrommodel&#x27;,\n                 SelectFromModel(estimator=SVC(kernel=&#x27;linear&#x27;,\n                                               random_state=42))),\n                (&#x27;svc&#x27;, SVC(kernel=&#x27;linear&#x27;, random_state=42))])</pre></div></div></div><div class=\"sk-serial\"><div class=\"sk-item\"><div class=\"sk-serial\"><div class=\"sk-item sk-dashed-wrapped\"><div class=\"sk-label-container\"><div class=\"sk-label sk-toggleable\"><input class=\"sk-toggleable__control sk-hidden--visually\" id=\"sk-estimator-id-3\" type=\"checkbox\" ><label for=\"sk-estimator-id-3\" class=\"sk-toggleable__label sk-toggleable__label-arrow\">selectfrommodel: SelectFromModel</label><div class=\"sk-toggleable__content\"><pre>SelectFromModel(estimator=SVC(kernel=&#x27;linear&#x27;, random_state=42))</pre></div></div></div><div class=\"sk-parallel\"><div class=\"sk-parallel-item\"><div class=\"sk-item\"><div class=\"sk-label-container\"><div class=\"sk-label sk-toggleable\"><input class=\"sk-toggleable__control sk-hidden--visually\" id=\"sk-estimator-id-4\" type=\"checkbox\" ><label for=\"sk-estimator-id-4\" class=\"sk-toggleable__label sk-toggleable__label-arrow\">estimator: SVC</label><div class=\"sk-toggleable__content\"><pre>SVC(kernel=&#x27;linear&#x27;, random_state=42)</pre></div></div></div><div class=\"sk-serial\"><div class=\"sk-item\"><div class=\"sk-estimator sk-toggleable\"><input class=\"sk-toggleable__control sk-hidden--visually\" id=\"sk-estimator-id-5\" type=\"checkbox\" ><label for=\"sk-estimator-id-5\" class=\"sk-toggleable__label sk-toggleable__label-arrow\">SVC</label><div class=\"sk-toggleable__content\"><pre>SVC(kernel=&#x27;linear&#x27;, random_state=42)</pre></div></div></div></div></div></div></div></div><div class=\"sk-item\"><div class=\"sk-estimator sk-toggleable\"><input class=\"sk-toggleable__control sk-hidden--visually\" id=\"sk-estimator-id-6\" type=\"checkbox\" ><label for=\"sk-estimator-id-6\" class=\"sk-toggleable__label sk-toggleable__label-arrow\">SVC</label><div class=\"sk-toggleable__content\"><pre>SVC(kernel=&#x27;linear&#x27;, random_state=42)</pre></div></div></div></div></div></div></div></div></div></div></div></div>"
     },
     "execution_count": 18,
     "metadata": {},
     "output_type": "execute_result"
    }
   ],
   "source": [
    "METRICS = ['f1', 'recall', 'precision', 'accuracy']\n",
    "PARAM_GRID = {'svc__C': [0.001, 0.01, 0.1, 1, 10, 100, 1000]}\n",
    "\n",
    "grid = GridSearchCV(pipeline, cv=5, param_grid=PARAM_GRID, scoring=METRICS, refit=False, verbose=3)\n",
    "grid.fit(X=X_train, y=y_train)"
   ],
   "metadata": {
    "collapsed": false,
    "ExecuteTime": {
     "end_time": "2023-09-20T06:38:35.749836700Z",
     "start_time": "2023-09-20T04:53:02.895950500Z"
    }
   },
   "id": "c41b15c845167f67"
  },
  {
   "cell_type": "code",
   "execution_count": 19,
   "outputs": [
    {
     "data": {
      "text/plain": "{'mean_fit_time': array([168.14184532, 165.44533834, 164.7586154 , 164.81293225,\n        165.10867853, 165.05418482, 164.78639278]),\n 'std_fit_time': array([2.048328  , 1.07650846, 0.8649786 , 0.90354976, 1.10440764,\n        0.91482389, 0.93168878]),\n 'mean_score_time': array([15.57503929, 15.40841851, 15.38287816, 15.37823911, 15.41100154,\n        15.37763066, 15.38993254]),\n 'std_score_time': array([0.22516178, 0.14874866, 0.14590643, 0.15934065, 0.15644561,\n        0.15677901, 0.16561918]),\n 'param_svc__C': masked_array(data=[0.001, 0.01, 0.1, 1, 10, 100, 1000],\n              mask=[False, False, False, False, False, False, False],\n        fill_value='?',\n             dtype=object),\n 'params': [{'svc__C': 0.001},\n  {'svc__C': 0.01},\n  {'svc__C': 0.1},\n  {'svc__C': 1},\n  {'svc__C': 10},\n  {'svc__C': 100},\n  {'svc__C': 1000}],\n 'split0_test_f1': array([0.81904762, 0.81904762, 0.81904762, 0.81904762, 0.81904762,\n        0.81904762, 0.81904762]),\n 'split1_test_f1': array([0.81935484, 0.81935484, 0.81935484, 0.81935484, 0.81935484,\n        0.81935484, 0.81935484]),\n 'split2_test_f1': array([0.80615385, 0.80615385, 0.80615385, 0.80615385, 0.80615385,\n        0.80615385, 0.80615385]),\n 'split3_test_f1': array([0.82972136, 0.82972136, 0.82972136, 0.82972136, 0.82972136,\n        0.82972136, 0.82972136]),\n 'split4_test_f1': array([0.79598662, 0.79598662, 0.79598662, 0.79598662, 0.79598662,\n        0.79598662, 0.79598662]),\n 'mean_test_f1': array([0.81405286, 0.81405286, 0.81405286, 0.81405286, 0.81405286,\n        0.81405286, 0.81405286]),\n 'std_test_f1': array([0.01172471, 0.01172471, 0.01172471, 0.01172471, 0.01172471,\n        0.01172471, 0.01172471]),\n 'rank_test_f1': array([1, 1, 1, 1, 1, 1, 1]),\n 'split0_test_recall': array([0.80124224, 0.80124224, 0.80124224, 0.80124224, 0.80124224,\n        0.80124224, 0.80124224]),\n 'split1_test_recall': array([0.79375, 0.79375, 0.79375, 0.79375, 0.79375, 0.79375, 0.79375]),\n 'split2_test_recall': array([0.81875, 0.81875, 0.81875, 0.81875, 0.81875, 0.81875, 0.81875]),\n 'split3_test_recall': array([0.8375, 0.8375, 0.8375, 0.8375, 0.8375, 0.8375, 0.8375]),\n 'split4_test_recall': array([0.74375, 0.74375, 0.74375, 0.74375, 0.74375, 0.74375, 0.74375]),\n 'mean_test_recall': array([0.79899845, 0.79899845, 0.79899845, 0.79899845, 0.79899845,\n        0.79899845, 0.79899845]),\n 'std_test_recall': array([0.03148798, 0.03148798, 0.03148798, 0.03148798, 0.03148798,\n        0.03148798, 0.03148798]),\n 'rank_test_recall': array([1, 1, 1, 1, 1, 1, 1]),\n 'split0_test_precision': array([0.83766234, 0.83766234, 0.83766234, 0.83766234, 0.83766234,\n        0.83766234, 0.83766234]),\n 'split1_test_precision': array([0.84666667, 0.84666667, 0.84666667, 0.84666667, 0.84666667,\n        0.84666667, 0.84666667]),\n 'split2_test_precision': array([0.79393939, 0.79393939, 0.79393939, 0.79393939, 0.79393939,\n        0.79393939, 0.79393939]),\n 'split3_test_precision': array([0.82208589, 0.82208589, 0.82208589, 0.82208589, 0.82208589,\n        0.82208589, 0.82208589]),\n 'split4_test_precision': array([0.85611511, 0.85611511, 0.85611511, 0.85611511, 0.85611511,\n        0.85611511, 0.85611511]),\n 'mean_test_precision': array([0.83129388, 0.83129388, 0.83129388, 0.83129388, 0.83129388,\n        0.83129388, 0.83129388]),\n 'std_test_precision': array([0.02178586, 0.02178586, 0.02178586, 0.02178586, 0.02178586,\n        0.02178586, 0.02178586]),\n 'rank_test_precision': array([1, 1, 1, 1, 1, 1, 1]),\n 'split0_test_accuracy': array([0.821875, 0.821875, 0.821875, 0.821875, 0.821875, 0.821875,\n        0.821875]),\n 'split1_test_accuracy': array([0.825, 0.825, 0.825, 0.825, 0.825, 0.825, 0.825]),\n 'split2_test_accuracy': array([0.803125, 0.803125, 0.803125, 0.803125, 0.803125, 0.803125,\n        0.803125]),\n 'split3_test_accuracy': array([0.828125, 0.828125, 0.828125, 0.828125, 0.828125, 0.828125,\n        0.828125]),\n 'split4_test_accuracy': array([0.809375, 0.809375, 0.809375, 0.809375, 0.809375, 0.809375,\n        0.809375]),\n 'mean_test_accuracy': array([0.8175, 0.8175, 0.8175, 0.8175, 0.8175, 0.8175, 0.8175]),\n 'std_test_accuracy': array([0.00960143, 0.00960143, 0.00960143, 0.00960143, 0.00960143,\n        0.00960143, 0.00960143]),\n 'rank_test_accuracy': array([1, 1, 1, 1, 1, 1, 1])}"
     },
     "execution_count": 19,
     "metadata": {},
     "output_type": "execute_result"
    }
   ],
   "source": [
    "grid.cv_results_"
   ],
   "metadata": {
    "collapsed": false,
    "ExecuteTime": {
     "end_time": "2023-09-20T06:58:30.441724200Z",
     "start_time": "2023-09-20T06:58:30.413159800Z"
    }
   },
   "id": "1c1b05fd99ac84e4"
  },
  {
   "cell_type": "code",
   "execution_count": 20,
   "outputs": [
    {
     "data": {
      "text/plain": "   mean_fit_time  std_fit_time  mean_score_time  std_score_time param_svc__C  \\\n0     168.141845      2.048328        15.575039        0.225162        0.001   \n1     165.445338      1.076508        15.408419        0.148749         0.01   \n2     164.758615      0.864979        15.382878        0.145906          0.1   \n3     164.812932      0.903550        15.378239        0.159341            1   \n4     165.108679      1.104408        15.411002        0.156446           10   \n5     165.054185      0.914824        15.377631        0.156779          100   \n6     164.786393      0.931689        15.389933        0.165619         1000   \n\n              params  split0_test_f1  split1_test_f1  split2_test_f1  \\\n0  {'svc__C': 0.001}        0.819048        0.819355        0.806154   \n1   {'svc__C': 0.01}        0.819048        0.819355        0.806154   \n2    {'svc__C': 0.1}        0.819048        0.819355        0.806154   \n3      {'svc__C': 1}        0.819048        0.819355        0.806154   \n4     {'svc__C': 10}        0.819048        0.819355        0.806154   \n5    {'svc__C': 100}        0.819048        0.819355        0.806154   \n6   {'svc__C': 1000}        0.819048        0.819355        0.806154   \n\n   split3_test_f1  ...  std_test_precision  rank_test_precision  \\\n0        0.829721  ...            0.021786                    1   \n1        0.829721  ...            0.021786                    1   \n2        0.829721  ...            0.021786                    1   \n3        0.829721  ...            0.021786                    1   \n4        0.829721  ...            0.021786                    1   \n5        0.829721  ...            0.021786                    1   \n6        0.829721  ...            0.021786                    1   \n\n   split0_test_accuracy  split1_test_accuracy  split2_test_accuracy  \\\n0              0.821875                 0.825              0.803125   \n1              0.821875                 0.825              0.803125   \n2              0.821875                 0.825              0.803125   \n3              0.821875                 0.825              0.803125   \n4              0.821875                 0.825              0.803125   \n5              0.821875                 0.825              0.803125   \n6              0.821875                 0.825              0.803125   \n\n   split3_test_accuracy  split4_test_accuracy  mean_test_accuracy  \\\n0              0.828125              0.809375              0.8175   \n1              0.828125              0.809375              0.8175   \n2              0.828125              0.809375              0.8175   \n3              0.828125              0.809375              0.8175   \n4              0.828125              0.809375              0.8175   \n5              0.828125              0.809375              0.8175   \n6              0.828125              0.809375              0.8175   \n\n   std_test_accuracy  rank_test_accuracy  \n0           0.009601                   1  \n1           0.009601                   1  \n2           0.009601                   1  \n3           0.009601                   1  \n4           0.009601                   1  \n5           0.009601                   1  \n6           0.009601                   1  \n\n[7 rows x 38 columns]",
      "text/html": "<div>\n<style scoped>\n    .dataframe tbody tr th:only-of-type {\n        vertical-align: middle;\n    }\n\n    .dataframe tbody tr th {\n        vertical-align: top;\n    }\n\n    .dataframe thead th {\n        text-align: right;\n    }\n</style>\n<table border=\"1\" class=\"dataframe\">\n  <thead>\n    <tr style=\"text-align: right;\">\n      <th></th>\n      <th>mean_fit_time</th>\n      <th>std_fit_time</th>\n      <th>mean_score_time</th>\n      <th>std_score_time</th>\n      <th>param_svc__C</th>\n      <th>params</th>\n      <th>split0_test_f1</th>\n      <th>split1_test_f1</th>\n      <th>split2_test_f1</th>\n      <th>split3_test_f1</th>\n      <th>...</th>\n      <th>std_test_precision</th>\n      <th>rank_test_precision</th>\n      <th>split0_test_accuracy</th>\n      <th>split1_test_accuracy</th>\n      <th>split2_test_accuracy</th>\n      <th>split3_test_accuracy</th>\n      <th>split4_test_accuracy</th>\n      <th>mean_test_accuracy</th>\n      <th>std_test_accuracy</th>\n      <th>rank_test_accuracy</th>\n    </tr>\n  </thead>\n  <tbody>\n    <tr>\n      <th>0</th>\n      <td>168.141845</td>\n      <td>2.048328</td>\n      <td>15.575039</td>\n      <td>0.225162</td>\n      <td>0.001</td>\n      <td>{'svc__C': 0.001}</td>\n      <td>0.819048</td>\n      <td>0.819355</td>\n      <td>0.806154</td>\n      <td>0.829721</td>\n      <td>...</td>\n      <td>0.021786</td>\n      <td>1</td>\n      <td>0.821875</td>\n      <td>0.825</td>\n      <td>0.803125</td>\n      <td>0.828125</td>\n      <td>0.809375</td>\n      <td>0.8175</td>\n      <td>0.009601</td>\n      <td>1</td>\n    </tr>\n    <tr>\n      <th>1</th>\n      <td>165.445338</td>\n      <td>1.076508</td>\n      <td>15.408419</td>\n      <td>0.148749</td>\n      <td>0.01</td>\n      <td>{'svc__C': 0.01}</td>\n      <td>0.819048</td>\n      <td>0.819355</td>\n      <td>0.806154</td>\n      <td>0.829721</td>\n      <td>...</td>\n      <td>0.021786</td>\n      <td>1</td>\n      <td>0.821875</td>\n      <td>0.825</td>\n      <td>0.803125</td>\n      <td>0.828125</td>\n      <td>0.809375</td>\n      <td>0.8175</td>\n      <td>0.009601</td>\n      <td>1</td>\n    </tr>\n    <tr>\n      <th>2</th>\n      <td>164.758615</td>\n      <td>0.864979</td>\n      <td>15.382878</td>\n      <td>0.145906</td>\n      <td>0.1</td>\n      <td>{'svc__C': 0.1}</td>\n      <td>0.819048</td>\n      <td>0.819355</td>\n      <td>0.806154</td>\n      <td>0.829721</td>\n      <td>...</td>\n      <td>0.021786</td>\n      <td>1</td>\n      <td>0.821875</td>\n      <td>0.825</td>\n      <td>0.803125</td>\n      <td>0.828125</td>\n      <td>0.809375</td>\n      <td>0.8175</td>\n      <td>0.009601</td>\n      <td>1</td>\n    </tr>\n    <tr>\n      <th>3</th>\n      <td>164.812932</td>\n      <td>0.903550</td>\n      <td>15.378239</td>\n      <td>0.159341</td>\n      <td>1</td>\n      <td>{'svc__C': 1}</td>\n      <td>0.819048</td>\n      <td>0.819355</td>\n      <td>0.806154</td>\n      <td>0.829721</td>\n      <td>...</td>\n      <td>0.021786</td>\n      <td>1</td>\n      <td>0.821875</td>\n      <td>0.825</td>\n      <td>0.803125</td>\n      <td>0.828125</td>\n      <td>0.809375</td>\n      <td>0.8175</td>\n      <td>0.009601</td>\n      <td>1</td>\n    </tr>\n    <tr>\n      <th>4</th>\n      <td>165.108679</td>\n      <td>1.104408</td>\n      <td>15.411002</td>\n      <td>0.156446</td>\n      <td>10</td>\n      <td>{'svc__C': 10}</td>\n      <td>0.819048</td>\n      <td>0.819355</td>\n      <td>0.806154</td>\n      <td>0.829721</td>\n      <td>...</td>\n      <td>0.021786</td>\n      <td>1</td>\n      <td>0.821875</td>\n      <td>0.825</td>\n      <td>0.803125</td>\n      <td>0.828125</td>\n      <td>0.809375</td>\n      <td>0.8175</td>\n      <td>0.009601</td>\n      <td>1</td>\n    </tr>\n    <tr>\n      <th>5</th>\n      <td>165.054185</td>\n      <td>0.914824</td>\n      <td>15.377631</td>\n      <td>0.156779</td>\n      <td>100</td>\n      <td>{'svc__C': 100}</td>\n      <td>0.819048</td>\n      <td>0.819355</td>\n      <td>0.806154</td>\n      <td>0.829721</td>\n      <td>...</td>\n      <td>0.021786</td>\n      <td>1</td>\n      <td>0.821875</td>\n      <td>0.825</td>\n      <td>0.803125</td>\n      <td>0.828125</td>\n      <td>0.809375</td>\n      <td>0.8175</td>\n      <td>0.009601</td>\n      <td>1</td>\n    </tr>\n    <tr>\n      <th>6</th>\n      <td>164.786393</td>\n      <td>0.931689</td>\n      <td>15.389933</td>\n      <td>0.165619</td>\n      <td>1000</td>\n      <td>{'svc__C': 1000}</td>\n      <td>0.819048</td>\n      <td>0.819355</td>\n      <td>0.806154</td>\n      <td>0.829721</td>\n      <td>...</td>\n      <td>0.021786</td>\n      <td>1</td>\n      <td>0.821875</td>\n      <td>0.825</td>\n      <td>0.803125</td>\n      <td>0.828125</td>\n      <td>0.809375</td>\n      <td>0.8175</td>\n      <td>0.009601</td>\n      <td>1</td>\n    </tr>\n  </tbody>\n</table>\n<p>7 rows × 38 columns</p>\n</div>"
     },
     "execution_count": 20,
     "metadata": {},
     "output_type": "execute_result"
    }
   ],
   "source": [
    "cv_result = pd.DataFrame(grid.cv_results_)\n",
    "cv_result.to_csv(r'result\\cv_result.csv')\n",
    "cv_result"
   ],
   "metadata": {
    "collapsed": false,
    "ExecuteTime": {
     "end_time": "2023-09-20T06:58:51.643002600Z",
     "start_time": "2023-09-20T06:58:51.506663800Z"
    }
   },
   "id": "22a3767b85819a3"
  },
  {
   "cell_type": "code",
   "execution_count": 22,
   "outputs": [
    {
     "data": {
      "text/plain": "  param_svc__C  mean_test_f1  mean_test_precision  mean_test_recall  \\\n0        0.001      0.814053             0.831294          0.798998   \n1         0.01      0.814053             0.831294          0.798998   \n2          0.1      0.814053             0.831294          0.798998   \n3            1      0.814053             0.831294          0.798998   \n4           10      0.814053             0.831294          0.798998   \n5          100      0.814053             0.831294          0.798998   \n6         1000      0.814053             0.831294          0.798998   \n\n   mean_test_accuracy  \n0              0.8175  \n1              0.8175  \n2              0.8175  \n3              0.8175  \n4              0.8175  \n5              0.8175  \n6              0.8175  ",
      "text/html": "<div>\n<style scoped>\n    .dataframe tbody tr th:only-of-type {\n        vertical-align: middle;\n    }\n\n    .dataframe tbody tr th {\n        vertical-align: top;\n    }\n\n    .dataframe thead th {\n        text-align: right;\n    }\n</style>\n<table border=\"1\" class=\"dataframe\">\n  <thead>\n    <tr style=\"text-align: right;\">\n      <th></th>\n      <th>param_svc__C</th>\n      <th>mean_test_f1</th>\n      <th>mean_test_precision</th>\n      <th>mean_test_recall</th>\n      <th>mean_test_accuracy</th>\n    </tr>\n  </thead>\n  <tbody>\n    <tr>\n      <th>0</th>\n      <td>0.001</td>\n      <td>0.814053</td>\n      <td>0.831294</td>\n      <td>0.798998</td>\n      <td>0.8175</td>\n    </tr>\n    <tr>\n      <th>1</th>\n      <td>0.01</td>\n      <td>0.814053</td>\n      <td>0.831294</td>\n      <td>0.798998</td>\n      <td>0.8175</td>\n    </tr>\n    <tr>\n      <th>2</th>\n      <td>0.1</td>\n      <td>0.814053</td>\n      <td>0.831294</td>\n      <td>0.798998</td>\n      <td>0.8175</td>\n    </tr>\n    <tr>\n      <th>3</th>\n      <td>1</td>\n      <td>0.814053</td>\n      <td>0.831294</td>\n      <td>0.798998</td>\n      <td>0.8175</td>\n    </tr>\n    <tr>\n      <th>4</th>\n      <td>10</td>\n      <td>0.814053</td>\n      <td>0.831294</td>\n      <td>0.798998</td>\n      <td>0.8175</td>\n    </tr>\n    <tr>\n      <th>5</th>\n      <td>100</td>\n      <td>0.814053</td>\n      <td>0.831294</td>\n      <td>0.798998</td>\n      <td>0.8175</td>\n    </tr>\n    <tr>\n      <th>6</th>\n      <td>1000</td>\n      <td>0.814053</td>\n      <td>0.831294</td>\n      <td>0.798998</td>\n      <td>0.8175</td>\n    </tr>\n  </tbody>\n</table>\n</div>"
     },
     "execution_count": 22,
     "metadata": {},
     "output_type": "execute_result"
    }
   ],
   "source": [
    "cv_result[['param_svc__C', 'mean_test_f1', 'mean_test_precision', 'mean_test_recall', 'mean_test_accuracy']]"
   ],
   "metadata": {
    "collapsed": false,
    "ExecuteTime": {
     "end_time": "2023-09-20T06:59:22.720016700Z",
     "start_time": "2023-09-20T06:59:22.691019100Z"
    }
   },
   "id": "997c699129dd2d46"
  },
  {
   "cell_type": "markdown",
   "source": [
    "## Build and run the model\n",
    "\n",
    "Because all metrics are the same on all C, we train it using the C that provide the least fit time, that is C=0.1"
   ],
   "metadata": {
    "collapsed": false
   },
   "id": "f0b68d13ebda9123"
  },
  {
   "cell_type": "code",
   "execution_count": 23,
   "outputs": [
    {
     "data": {
      "text/plain": "Pipeline(steps=[('selectfrommodel',\n                 SelectFromModel(estimator=SVC(C=0.1, kernel='linear',\n                                               random_state=42))),\n                ('svc', SVC(C=0.1, kernel='linear', random_state=42))])",
      "text/html": "<style>#sk-container-id-2 {color: black;}#sk-container-id-2 pre{padding: 0;}#sk-container-id-2 div.sk-toggleable {background-color: white;}#sk-container-id-2 label.sk-toggleable__label {cursor: pointer;display: block;width: 100%;margin-bottom: 0;padding: 0.3em;box-sizing: border-box;text-align: center;}#sk-container-id-2 label.sk-toggleable__label-arrow:before {content: \"▸\";float: left;margin-right: 0.25em;color: #696969;}#sk-container-id-2 label.sk-toggleable__label-arrow:hover:before {color: black;}#sk-container-id-2 div.sk-estimator:hover label.sk-toggleable__label-arrow:before {color: black;}#sk-container-id-2 div.sk-toggleable__content {max-height: 0;max-width: 0;overflow: hidden;text-align: left;background-color: #f0f8ff;}#sk-container-id-2 div.sk-toggleable__content pre {margin: 0.2em;color: black;border-radius: 0.25em;background-color: #f0f8ff;}#sk-container-id-2 input.sk-toggleable__control:checked~div.sk-toggleable__content {max-height: 200px;max-width: 100%;overflow: auto;}#sk-container-id-2 input.sk-toggleable__control:checked~label.sk-toggleable__label-arrow:before {content: \"▾\";}#sk-container-id-2 div.sk-estimator input.sk-toggleable__control:checked~label.sk-toggleable__label {background-color: #d4ebff;}#sk-container-id-2 div.sk-label input.sk-toggleable__control:checked~label.sk-toggleable__label {background-color: #d4ebff;}#sk-container-id-2 input.sk-hidden--visually {border: 0;clip: rect(1px 1px 1px 1px);clip: rect(1px, 1px, 1px, 1px);height: 1px;margin: -1px;overflow: hidden;padding: 0;position: absolute;width: 1px;}#sk-container-id-2 div.sk-estimator {font-family: monospace;background-color: #f0f8ff;border: 1px dotted black;border-radius: 0.25em;box-sizing: border-box;margin-bottom: 0.5em;}#sk-container-id-2 div.sk-estimator:hover {background-color: #d4ebff;}#sk-container-id-2 div.sk-parallel-item::after {content: \"\";width: 100%;border-bottom: 1px solid gray;flex-grow: 1;}#sk-container-id-2 div.sk-label:hover label.sk-toggleable__label {background-color: #d4ebff;}#sk-container-id-2 div.sk-serial::before {content: \"\";position: absolute;border-left: 1px solid gray;box-sizing: border-box;top: 0;bottom: 0;left: 50%;z-index: 0;}#sk-container-id-2 div.sk-serial {display: flex;flex-direction: column;align-items: center;background-color: white;padding-right: 0.2em;padding-left: 0.2em;position: relative;}#sk-container-id-2 div.sk-item {position: relative;z-index: 1;}#sk-container-id-2 div.sk-parallel {display: flex;align-items: stretch;justify-content: center;background-color: white;position: relative;}#sk-container-id-2 div.sk-item::before, #sk-container-id-2 div.sk-parallel-item::before {content: \"\";position: absolute;border-left: 1px solid gray;box-sizing: border-box;top: 0;bottom: 0;left: 50%;z-index: -1;}#sk-container-id-2 div.sk-parallel-item {display: flex;flex-direction: column;z-index: 1;position: relative;background-color: white;}#sk-container-id-2 div.sk-parallel-item:first-child::after {align-self: flex-end;width: 50%;}#sk-container-id-2 div.sk-parallel-item:last-child::after {align-self: flex-start;width: 50%;}#sk-container-id-2 div.sk-parallel-item:only-child::after {width: 0;}#sk-container-id-2 div.sk-dashed-wrapped {border: 1px dashed gray;margin: 0 0.4em 0.5em 0.4em;box-sizing: border-box;padding-bottom: 0.4em;background-color: white;}#sk-container-id-2 div.sk-label label {font-family: monospace;font-weight: bold;display: inline-block;line-height: 1.2em;}#sk-container-id-2 div.sk-label-container {text-align: center;}#sk-container-id-2 div.sk-container {/* jupyter's `normalize.less` sets `[hidden] { display: none; }` but bootstrap.min.css set `[hidden] { display: none !important; }` so we also need the `!important` here to be able to override the default hidden behavior on the sphinx rendered scikit-learn.org. See: https://github.com/scikit-learn/scikit-learn/issues/21755 */display: inline-block !important;position: relative;}#sk-container-id-2 div.sk-text-repr-fallback {display: none;}</style><div id=\"sk-container-id-2\" class=\"sk-top-container\"><div class=\"sk-text-repr-fallback\"><pre>Pipeline(steps=[(&#x27;selectfrommodel&#x27;,\n                 SelectFromModel(estimator=SVC(C=0.1, kernel=&#x27;linear&#x27;,\n                                               random_state=42))),\n                (&#x27;svc&#x27;, SVC(C=0.1, kernel=&#x27;linear&#x27;, random_state=42))])</pre><b>In a Jupyter environment, please rerun this cell to show the HTML representation or trust the notebook. <br />On GitHub, the HTML representation is unable to render, please try loading this page with nbviewer.org.</b></div><div class=\"sk-container\" hidden><div class=\"sk-item sk-dashed-wrapped\"><div class=\"sk-label-container\"><div class=\"sk-label sk-toggleable\"><input class=\"sk-toggleable__control sk-hidden--visually\" id=\"sk-estimator-id-7\" type=\"checkbox\" ><label for=\"sk-estimator-id-7\" class=\"sk-toggleable__label sk-toggleable__label-arrow\">Pipeline</label><div class=\"sk-toggleable__content\"><pre>Pipeline(steps=[(&#x27;selectfrommodel&#x27;,\n                 SelectFromModel(estimator=SVC(C=0.1, kernel=&#x27;linear&#x27;,\n                                               random_state=42))),\n                (&#x27;svc&#x27;, SVC(C=0.1, kernel=&#x27;linear&#x27;, random_state=42))])</pre></div></div></div><div class=\"sk-serial\"><div class=\"sk-item sk-dashed-wrapped\"><div class=\"sk-label-container\"><div class=\"sk-label sk-toggleable\"><input class=\"sk-toggleable__control sk-hidden--visually\" id=\"sk-estimator-id-8\" type=\"checkbox\" ><label for=\"sk-estimator-id-8\" class=\"sk-toggleable__label sk-toggleable__label-arrow\">selectfrommodel: SelectFromModel</label><div class=\"sk-toggleable__content\"><pre>SelectFromModel(estimator=SVC(C=0.1, kernel=&#x27;linear&#x27;, random_state=42))</pre></div></div></div><div class=\"sk-parallel\"><div class=\"sk-parallel-item\"><div class=\"sk-item\"><div class=\"sk-label-container\"><div class=\"sk-label sk-toggleable\"><input class=\"sk-toggleable__control sk-hidden--visually\" id=\"sk-estimator-id-9\" type=\"checkbox\" ><label for=\"sk-estimator-id-9\" class=\"sk-toggleable__label sk-toggleable__label-arrow\">estimator: SVC</label><div class=\"sk-toggleable__content\"><pre>SVC(C=0.1, kernel=&#x27;linear&#x27;, random_state=42)</pre></div></div></div><div class=\"sk-serial\"><div class=\"sk-item\"><div class=\"sk-estimator sk-toggleable\"><input class=\"sk-toggleable__control sk-hidden--visually\" id=\"sk-estimator-id-10\" type=\"checkbox\" ><label for=\"sk-estimator-id-10\" class=\"sk-toggleable__label sk-toggleable__label-arrow\">SVC</label><div class=\"sk-toggleable__content\"><pre>SVC(C=0.1, kernel=&#x27;linear&#x27;, random_state=42)</pre></div></div></div></div></div></div></div></div><div class=\"sk-item\"><div class=\"sk-estimator sk-toggleable\"><input class=\"sk-toggleable__control sk-hidden--visually\" id=\"sk-estimator-id-11\" type=\"checkbox\" ><label for=\"sk-estimator-id-11\" class=\"sk-toggleable__label sk-toggleable__label-arrow\">SVC</label><div class=\"sk-toggleable__content\"><pre>SVC(C=0.1, kernel=&#x27;linear&#x27;, random_state=42)</pre></div></div></div></div></div></div></div>"
     },
     "execution_count": 23,
     "metadata": {},
     "output_type": "execute_result"
    }
   ],
   "source": [
    "best_param_svm = SVC(kernel=\"linear\", C=0.1, random_state=42)\n",
    "best_selector = SelectFromModel(best_param_svm)\n",
    "new_pipeline = make_pipeline(best_selector,\n",
    "                             best_param_svm)\n",
    "new_pipeline.fit(X_train, y_train)"
   ],
   "metadata": {
    "collapsed": false,
    "ExecuteTime": {
     "end_time": "2023-09-20T07:18:21.827786500Z",
     "start_time": "2023-09-20T07:13:39.658710100Z"
    }
   },
   "id": "2b6925623779762d"
  },
  {
   "cell_type": "code",
   "execution_count": 24,
   "outputs": [
    {
     "data": {
      "text/plain": "['dumps\\\\pipeline.joblib']"
     },
     "execution_count": 24,
     "metadata": {},
     "output_type": "execute_result"
    }
   ],
   "source": [
    "joblib.dump(new_pipeline, r'dumps\\pipeline.joblib')"
   ],
   "metadata": {
    "collapsed": false,
    "ExecuteTime": {
     "end_time": "2023-09-20T07:19:22.571431600Z",
     "start_time": "2023-09-20T07:19:19.119944900Z"
    }
   },
   "id": "7ac8ee81eaca6044"
  },
  {
   "cell_type": "markdown",
   "source": [
    "### Calculate Threshold Manually\n",
    "\n",
    "Train SVM on all X_train to calculate the threshold manually"
   ],
   "metadata": {
    "collapsed": false
   },
   "id": "8bcc338b56f2c91b"
  },
  {
   "cell_type": "code",
   "execution_count": 6,
   "outputs": [
    {
     "data": {
      "text/plain": "SVC(C=0.1, kernel='linear')",
      "text/html": "<style>#sk-container-id-1 {color: black;}#sk-container-id-1 pre{padding: 0;}#sk-container-id-1 div.sk-toggleable {background-color: white;}#sk-container-id-1 label.sk-toggleable__label {cursor: pointer;display: block;width: 100%;margin-bottom: 0;padding: 0.3em;box-sizing: border-box;text-align: center;}#sk-container-id-1 label.sk-toggleable__label-arrow:before {content: \"▸\";float: left;margin-right: 0.25em;color: #696969;}#sk-container-id-1 label.sk-toggleable__label-arrow:hover:before {color: black;}#sk-container-id-1 div.sk-estimator:hover label.sk-toggleable__label-arrow:before {color: black;}#sk-container-id-1 div.sk-toggleable__content {max-height: 0;max-width: 0;overflow: hidden;text-align: left;background-color: #f0f8ff;}#sk-container-id-1 div.sk-toggleable__content pre {margin: 0.2em;color: black;border-radius: 0.25em;background-color: #f0f8ff;}#sk-container-id-1 input.sk-toggleable__control:checked~div.sk-toggleable__content {max-height: 200px;max-width: 100%;overflow: auto;}#sk-container-id-1 input.sk-toggleable__control:checked~label.sk-toggleable__label-arrow:before {content: \"▾\";}#sk-container-id-1 div.sk-estimator input.sk-toggleable__control:checked~label.sk-toggleable__label {background-color: #d4ebff;}#sk-container-id-1 div.sk-label input.sk-toggleable__control:checked~label.sk-toggleable__label {background-color: #d4ebff;}#sk-container-id-1 input.sk-hidden--visually {border: 0;clip: rect(1px 1px 1px 1px);clip: rect(1px, 1px, 1px, 1px);height: 1px;margin: -1px;overflow: hidden;padding: 0;position: absolute;width: 1px;}#sk-container-id-1 div.sk-estimator {font-family: monospace;background-color: #f0f8ff;border: 1px dotted black;border-radius: 0.25em;box-sizing: border-box;margin-bottom: 0.5em;}#sk-container-id-1 div.sk-estimator:hover {background-color: #d4ebff;}#sk-container-id-1 div.sk-parallel-item::after {content: \"\";width: 100%;border-bottom: 1px solid gray;flex-grow: 1;}#sk-container-id-1 div.sk-label:hover label.sk-toggleable__label {background-color: #d4ebff;}#sk-container-id-1 div.sk-serial::before {content: \"\";position: absolute;border-left: 1px solid gray;box-sizing: border-box;top: 0;bottom: 0;left: 50%;z-index: 0;}#sk-container-id-1 div.sk-serial {display: flex;flex-direction: column;align-items: center;background-color: white;padding-right: 0.2em;padding-left: 0.2em;position: relative;}#sk-container-id-1 div.sk-item {position: relative;z-index: 1;}#sk-container-id-1 div.sk-parallel {display: flex;align-items: stretch;justify-content: center;background-color: white;position: relative;}#sk-container-id-1 div.sk-item::before, #sk-container-id-1 div.sk-parallel-item::before {content: \"\";position: absolute;border-left: 1px solid gray;box-sizing: border-box;top: 0;bottom: 0;left: 50%;z-index: -1;}#sk-container-id-1 div.sk-parallel-item {display: flex;flex-direction: column;z-index: 1;position: relative;background-color: white;}#sk-container-id-1 div.sk-parallel-item:first-child::after {align-self: flex-end;width: 50%;}#sk-container-id-1 div.sk-parallel-item:last-child::after {align-self: flex-start;width: 50%;}#sk-container-id-1 div.sk-parallel-item:only-child::after {width: 0;}#sk-container-id-1 div.sk-dashed-wrapped {border: 1px dashed gray;margin: 0 0.4em 0.5em 0.4em;box-sizing: border-box;padding-bottom: 0.4em;background-color: white;}#sk-container-id-1 div.sk-label label {font-family: monospace;font-weight: bold;display: inline-block;line-height: 1.2em;}#sk-container-id-1 div.sk-label-container {text-align: center;}#sk-container-id-1 div.sk-container {/* jupyter's `normalize.less` sets `[hidden] { display: none; }` but bootstrap.min.css set `[hidden] { display: none !important; }` so we also need the `!important` here to be able to override the default hidden behavior on the sphinx rendered scikit-learn.org. See: https://github.com/scikit-learn/scikit-learn/issues/21755 */display: inline-block !important;position: relative;}#sk-container-id-1 div.sk-text-repr-fallback {display: none;}</style><div id=\"sk-container-id-1\" class=\"sk-top-container\"><div class=\"sk-text-repr-fallback\"><pre>SVC(C=0.1, kernel=&#x27;linear&#x27;)</pre><b>In a Jupyter environment, please rerun this cell to show the HTML representation or trust the notebook. <br />On GitHub, the HTML representation is unable to render, please try loading this page with nbviewer.org.</b></div><div class=\"sk-container\" hidden><div class=\"sk-item\"><div class=\"sk-estimator sk-toggleable\"><input class=\"sk-toggleable__control sk-hidden--visually\" id=\"sk-estimator-id-1\" type=\"checkbox\" checked><label for=\"sk-estimator-id-1\" class=\"sk-toggleable__label sk-toggleable__label-arrow\">SVC</label><div class=\"sk-toggleable__content\"><pre>SVC(C=0.1, kernel=&#x27;linear&#x27;)</pre></div></div></div></div></div>"
     },
     "execution_count": 6,
     "metadata": {},
     "output_type": "execute_result"
    }
   ],
   "source": [
    "train_svm = SVC(kernel='linear', C=0.1)\n",
    "train_svm.fit(X_train, y_train)"
   ],
   "metadata": {
    "collapsed": false,
    "ExecuteTime": {
     "end_time": "2023-09-25T13:41:58.517529500Z",
     "start_time": "2023-09-25T13:39:30.225845400Z"
    }
   },
   "id": "b40b6de53ab34b99"
  },
  {
   "cell_type": "code",
   "execution_count": 7,
   "outputs": [],
   "source": [
    "np.savetxt(r'data\\svm_coef.txt', train_svm.coef_, delimiter='\\n')"
   ],
   "metadata": {
    "collapsed": false,
    "ExecuteTime": {
     "end_time": "2023-09-25T13:44:01.663960700Z",
     "start_time": "2023-09-25T13:44:01.367443500Z"
    }
   },
   "id": "e9789c398abf1df9"
  },
  {
   "cell_type": "code",
   "execution_count": null,
   "outputs": [],
   "source": [
    "# np.loadtxt(r'data\\svm_coef.txt')"
   ],
   "metadata": {
    "collapsed": false
   },
   "id": "7f6fa0980a2bc021"
  },
  {
   "cell_type": "code",
   "execution_count": 8,
   "outputs": [
    {
     "name": "stdout",
     "output_type": "stream",
     "text": [
      "Threshold: 0.0004338664095024176\n"
     ]
    }
   ],
   "source": [
    "print('Threshold:', np.abs(train_svm.coef_).mean())"
   ],
   "metadata": {
    "collapsed": false,
    "ExecuteTime": {
     "end_time": "2023-09-25T13:44:04.916189700Z",
     "start_time": "2023-09-25T13:44:04.858193600Z"
    }
   },
   "id": "3e3ffcaff69369fd"
  },
  {
   "cell_type": "markdown",
   "source": [
    "### Get Selector and Estimator Properties"
   ],
   "metadata": {
    "collapsed": false
   },
   "id": "9ac34e7923b99d98"
  },
  {
   "cell_type": "code",
   "execution_count": 41,
   "outputs": [
    {
     "name": "stdout",
     "output_type": "stream",
     "text": [
      "Threshold : 0.0004338664095024176\n"
     ]
    }
   ],
   "source": [
    "print('Threshold :', new_pipeline['selectfrommodel'].threshold_)"
   ],
   "metadata": {
    "collapsed": false,
    "ExecuteTime": {
     "end_time": "2023-09-20T08:06:03.619612300Z",
     "start_time": "2023-09-20T08:06:03.539634300Z"
    }
   },
   "id": "bffe352c56dda57b"
  },
  {
   "cell_type": "code",
   "execution_count": 42,
   "outputs": [
    {
     "name": "stdout",
     "output_type": "stream",
     "text": [
      "No. selected feature : (17510,)\n"
     ]
    }
   ],
   "source": [
    "print('No. selected feature :', new_pipeline['selectfrommodel'].get_feature_names_out().shape)"
   ],
   "metadata": {
    "collapsed": false,
    "ExecuteTime": {
     "end_time": "2023-09-20T08:07:18.298223800Z",
     "start_time": "2023-09-20T08:07:18.218232700Z"
    }
   },
   "id": "d78623e76f28aacc"
  },
  {
   "cell_type": "code",
   "execution_count": 43,
   "outputs": [],
   "source": [
    "np.savetxt(r'data\\svm_coef_selected.txt', new_pipeline['svc'].coef_, delimiter='\\n')"
   ],
   "metadata": {
    "collapsed": false,
    "ExecuteTime": {
     "end_time": "2023-09-20T08:08:13.553038200Z",
     "start_time": "2023-09-20T08:08:13.296183700Z"
    }
   },
   "id": "19168946c034c2b9"
  },
  {
   "cell_type": "markdown",
   "source": [
    "## Evaluate Model\n",
    "\n",
    "Evaluate model on test data using same metrics from cross-validation."
   ],
   "metadata": {
    "collapsed": false
   },
   "id": "cd91ff0c94ae0467"
  },
  {
   "cell_type": "code",
   "execution_count": 12,
   "outputs": [],
   "source": [
    "new_pipeline = joblib.load(r'dumps\\pipeline.joblib')"
   ],
   "metadata": {
    "collapsed": false,
    "ExecuteTime": {
     "end_time": "2023-09-25T13:57:24.862570100Z",
     "start_time": "2023-09-25T13:57:23.834570600Z"
    }
   },
   "id": "46a9c385c0f4a9bc"
  },
  {
   "cell_type": "code",
   "execution_count": 16,
   "outputs": [
    {
     "data": {
      "text/plain": "     n-th sample      y_true      y_pred\n0              1      normal      normal\n1              2  terinfeksi  terinfeksi\n2              3      normal      normal\n3              4  terinfeksi  terinfeksi\n4              5      normal      normal\n..           ...         ...         ...\n395          396  terinfeksi      normal\n396          397      normal      normal\n397          398      normal      normal\n398          399  terinfeksi  terinfeksi\n399          400  terinfeksi  terinfeksi\n\n[400 rows x 3 columns]",
      "text/html": "<div>\n<style scoped>\n    .dataframe tbody tr th:only-of-type {\n        vertical-align: middle;\n    }\n\n    .dataframe tbody tr th {\n        vertical-align: top;\n    }\n\n    .dataframe thead th {\n        text-align: right;\n    }\n</style>\n<table border=\"1\" class=\"dataframe\">\n  <thead>\n    <tr style=\"text-align: right;\">\n      <th></th>\n      <th>n-th sample</th>\n      <th>y_true</th>\n      <th>y_pred</th>\n    </tr>\n  </thead>\n  <tbody>\n    <tr>\n      <th>0</th>\n      <td>1</td>\n      <td>normal</td>\n      <td>normal</td>\n    </tr>\n    <tr>\n      <th>1</th>\n      <td>2</td>\n      <td>terinfeksi</td>\n      <td>terinfeksi</td>\n    </tr>\n    <tr>\n      <th>2</th>\n      <td>3</td>\n      <td>normal</td>\n      <td>normal</td>\n    </tr>\n    <tr>\n      <th>3</th>\n      <td>4</td>\n      <td>terinfeksi</td>\n      <td>terinfeksi</td>\n    </tr>\n    <tr>\n      <th>4</th>\n      <td>5</td>\n      <td>normal</td>\n      <td>normal</td>\n    </tr>\n    <tr>\n      <th>...</th>\n      <td>...</td>\n      <td>...</td>\n      <td>...</td>\n    </tr>\n    <tr>\n      <th>395</th>\n      <td>396</td>\n      <td>terinfeksi</td>\n      <td>normal</td>\n    </tr>\n    <tr>\n      <th>396</th>\n      <td>397</td>\n      <td>normal</td>\n      <td>normal</td>\n    </tr>\n    <tr>\n      <th>397</th>\n      <td>398</td>\n      <td>normal</td>\n      <td>normal</td>\n    </tr>\n    <tr>\n      <th>398</th>\n      <td>399</td>\n      <td>terinfeksi</td>\n      <td>terinfeksi</td>\n    </tr>\n    <tr>\n      <th>399</th>\n      <td>400</td>\n      <td>terinfeksi</td>\n      <td>terinfeksi</td>\n    </tr>\n  </tbody>\n</table>\n<p>400 rows × 3 columns</p>\n</div>"
     },
     "execution_count": 16,
     "metadata": {},
     "output_type": "execute_result"
    }
   ],
   "source": [
    "y_pred = new_pipeline.predict(X_test)\n",
    "true_pred_df = pd.DataFrame({'n-th sample': np.arange(1, len(y_pred)+1),\n",
    "                             'y_true': np.where(y_test == 0, 'normal', 'terinfeksi'),\n",
    "                             'y_pred': np.where(y_pred == 0, 'normal', 'terinfeksi')})\n",
    "true_pred_df.to_csv(r'result\\true_pred.csv', index=False)\n",
    "true_pred_df"
   ],
   "metadata": {
    "collapsed": false,
    "ExecuteTime": {
     "end_time": "2023-09-25T14:06:29.497401600Z",
     "start_time": "2023-09-25T14:06:03.782327600Z"
    }
   },
   "id": "9391d030d928b384"
  },
  {
   "cell_type": "code",
   "execution_count": 30,
   "outputs": [
    {
     "name": "stdout",
     "output_type": "stream",
     "text": [
      "[[166  35]\n",
      " [ 45 154]]\n"
     ]
    },
    {
     "data": {
      "text/plain": "<sklearn.metrics._plot.confusion_matrix.ConfusionMatrixDisplay at 0x27188b91ba0>"
     },
     "execution_count": 30,
     "metadata": {},
     "output_type": "execute_result"
    },
    {
     "data": {
      "text/plain": "<Figure size 640x480 with 2 Axes>",
      "image/png": "[encoded data removed]"
     },
     "metadata": {},
     "output_type": "display_data"
    }
   ],
   "source": [
    "y_pred = new_pipeline.predict(X_test)\n",
    "print(metrics.confusion_matrix(y_test, y_pred))\n",
    "metrics.ConfusionMatrixDisplay.from_predictions(y_test, y_pred, display_labels=['normal', 'infected'], cmap='summer')"
   ],
   "metadata": {
    "collapsed": false,
    "ExecuteTime": {
     "end_time": "2023-09-20T07:34:59.514520900Z",
     "start_time": "2023-09-20T07:34:34.979682Z"
    }
   },
   "id": "7bed3e2e66c33c35"
  },
  {
   "cell_type": "code",
   "execution_count": 33,
   "outputs": [
    {
     "name": "stdout",
     "output_type": "stream",
     "text": [
      "f1_score: 0.7938144329896907\n",
      "accuracy_score: 0.8\n",
      "precision_score: 0.8148148148148148\n",
      "recall_score: 0.7738693467336684\n"
     ]
    }
   ],
   "source": [
    "metrics_list = [metrics.f1_score,\n",
    "                metrics.accuracy_score,\n",
    "                metrics.precision_score,\n",
    "                metrics.recall_score]\n",
    "\n",
    "for metric in metrics_list:\n",
    "    print(metric.__name__ + ':', metric(y_test, y_pred))"
   ],
   "metadata": {
    "collapsed": false,
    "ExecuteTime": {
     "end_time": "2023-09-20T07:36:04.855844800Z",
     "start_time": "2023-09-20T07:36:04.802845100Z"
    }
   },
   "id": "d276ad7e5e6b345"
  }
 ],
 "metadata": {
  "kernelspec": {
   "display_name": "Python 3",
   "language": "python",
   "name": "python3"
  },
  "language_info": {
   "codemirror_mode": {
    "name": "ipython",
    "version": 2
   },
   "file_extension": ".py",
   "mimetype": "text/x-python",
   "name": "python",
   "nbconvert_exporter": "python",
   "pygments_lexer": "ipython2",
   "version": "2.7.6"
  }
 },
 "nbformat": 4,
 "nbformat_minor": 5
}
